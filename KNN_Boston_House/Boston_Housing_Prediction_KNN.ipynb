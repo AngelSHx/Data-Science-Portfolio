{
 "cells": [
  {
   "cell_type": "markdown",
   "metadata": {},
   "source": [
    "# Boston Housing Prediction using KNN"
   ]
  },
  {
   "cell_type": "markdown",
   "metadata": {},
   "source": [
    "#### Disclaimer: This document has 2 KNN Models."
   ]
  },
  {
   "cell_type": "markdown",
   "metadata": {},
   "source": [
    "<br>\n",
    "\n",
    "KNN Information:\n",
    "- K Nearest Neighbor\n",
    "    - A supervised ML algorithm used for classification and regression. \n",
    "    \n",
    "    \n",
    "- What is K?\n",
    "    - K is a constant defined by the user and is also the nearest neighbors distance vector.\n",
    "    \n",
    "    \n",
    "    - For Model 1\n",
    "        - Using K value from 1 - 5\n",
    "            - More information explained later on.\n",
    "    \n",
    "    - For Model 2\n",
    "        - Using the caret package, we can use knnreg() to apply KNN for this regression problem."
   ]
  },
  {
   "cell_type": "code",
   "execution_count": 40,
   "metadata": {},
   "outputs": [],
   "source": [
    "# LOAD CARET PACKAGE\n",
    "library(caret)\n"
   ]
  },
  {
   "cell_type": "markdown",
   "metadata": {},
   "source": [
    "## Data Preparation"
   ]
  },
  {
   "cell_type": "code",
   "execution_count": 41,
   "metadata": {
    "scrolled": true
   },
   "outputs": [
    {
     "data": {
      "text/html": [
       "<table>\n",
       "<thead><tr><th scope=col>CRIM</th><th scope=col>ZN</th><th scope=col>INDUS</th><th scope=col>CHAS</th><th scope=col>NOX</th><th scope=col>RM</th><th scope=col>AGE</th><th scope=col>DIS</th><th scope=col>RAD</th><th scope=col>TAX</th><th scope=col>PTRATIO</th><th scope=col>B</th><th scope=col>LSTAT</th><th scope=col>MEDV</th></tr></thead>\n",
       "<tbody>\n",
       "\t<tr><td>0.00632</td><td>18     </td><td>2.31   </td><td>0      </td><td>0.538  </td><td>6.575  </td><td>65.2   </td><td>4.0900 </td><td>1      </td><td>296    </td><td>15.3   </td><td>396.90 </td><td>4.98   </td><td>24.0   </td></tr>\n",
       "\t<tr><td>0.02731</td><td> 0     </td><td>7.07   </td><td>0      </td><td>0.469  </td><td>6.421  </td><td>78.9   </td><td>4.9671 </td><td>2      </td><td>242    </td><td>17.8   </td><td>396.90 </td><td>9.14   </td><td>21.6   </td></tr>\n",
       "\t<tr><td>0.02729</td><td> 0     </td><td>7.07   </td><td>0      </td><td>0.469  </td><td>7.185  </td><td>61.1   </td><td>4.9671 </td><td>2      </td><td>242    </td><td>17.8   </td><td>392.83 </td><td>4.03   </td><td>34.7   </td></tr>\n",
       "\t<tr><td>0.03237</td><td> 0     </td><td>2.18   </td><td>0      </td><td>0.458  </td><td>6.998  </td><td>45.8   </td><td>6.0622 </td><td>3      </td><td>222    </td><td>18.7   </td><td>394.63 </td><td>2.94   </td><td>33.4   </td></tr>\n",
       "\t<tr><td>0.06905</td><td> 0     </td><td>2.18   </td><td>0      </td><td>0.458  </td><td>7.147  </td><td>54.2   </td><td>6.0622 </td><td>3      </td><td>222    </td><td>18.7   </td><td>396.90 </td><td>5.33   </td><td>36.2   </td></tr>\n",
       "\t<tr><td>0.02985</td><td> 0     </td><td>2.18   </td><td>0      </td><td>0.458  </td><td>6.430  </td><td>58.7   </td><td>6.0622 </td><td>3      </td><td>222    </td><td>18.7   </td><td>394.12 </td><td>5.21   </td><td>28.7   </td></tr>\n",
       "</tbody>\n",
       "</table>\n"
      ],
      "text/latex": [
       "\\begin{tabular}{r|llllllllllllll}\n",
       " CRIM & ZN & INDUS & CHAS & NOX & RM & AGE & DIS & RAD & TAX & PTRATIO & B & LSTAT & MEDV\\\\\n",
       "\\hline\n",
       "\t 0.00632 & 18      & 2.31    & 0       & 0.538   & 6.575   & 65.2    & 4.0900  & 1       & 296     & 15.3    & 396.90  & 4.98    & 24.0   \\\\\n",
       "\t 0.02731 &  0      & 7.07    & 0       & 0.469   & 6.421   & 78.9    & 4.9671  & 2       & 242     & 17.8    & 396.90  & 9.14    & 21.6   \\\\\n",
       "\t 0.02729 &  0      & 7.07    & 0       & 0.469   & 7.185   & 61.1    & 4.9671  & 2       & 242     & 17.8    & 392.83  & 4.03    & 34.7   \\\\\n",
       "\t 0.03237 &  0      & 2.18    & 0       & 0.458   & 6.998   & 45.8    & 6.0622  & 3       & 222     & 18.7    & 394.63  & 2.94    & 33.4   \\\\\n",
       "\t 0.06905 &  0      & 2.18    & 0       & 0.458   & 7.147   & 54.2    & 6.0622  & 3       & 222     & 18.7    & 396.90  & 5.33    & 36.2   \\\\\n",
       "\t 0.02985 &  0      & 2.18    & 0       & 0.458   & 6.430   & 58.7    & 6.0622  & 3       & 222     & 18.7    & 394.12  & 5.21    & 28.7   \\\\\n",
       "\\end{tabular}\n"
      ],
      "text/markdown": [
       "\n",
       "| CRIM | ZN | INDUS | CHAS | NOX | RM | AGE | DIS | RAD | TAX | PTRATIO | B | LSTAT | MEDV |\n",
       "|---|---|---|---|---|---|---|---|---|---|---|---|---|---|\n",
       "| 0.00632 | 18      | 2.31    | 0       | 0.538   | 6.575   | 65.2    | 4.0900  | 1       | 296     | 15.3    | 396.90  | 4.98    | 24.0    |\n",
       "| 0.02731 |  0      | 7.07    | 0       | 0.469   | 6.421   | 78.9    | 4.9671  | 2       | 242     | 17.8    | 396.90  | 9.14    | 21.6    |\n",
       "| 0.02729 |  0      | 7.07    | 0       | 0.469   | 7.185   | 61.1    | 4.9671  | 2       | 242     | 17.8    | 392.83  | 4.03    | 34.7    |\n",
       "| 0.03237 |  0      | 2.18    | 0       | 0.458   | 6.998   | 45.8    | 6.0622  | 3       | 222     | 18.7    | 394.63  | 2.94    | 33.4    |\n",
       "| 0.06905 |  0      | 2.18    | 0       | 0.458   | 7.147   | 54.2    | 6.0622  | 3       | 222     | 18.7    | 396.90  | 5.33    | 36.2    |\n",
       "| 0.02985 |  0      | 2.18    | 0       | 0.458   | 6.430   | 58.7    | 6.0622  | 3       | 222     | 18.7    | 394.12  | 5.21    | 28.7    |\n",
       "\n"
      ],
      "text/plain": [
       "  CRIM    ZN INDUS CHAS NOX   RM    AGE  DIS    RAD TAX PTRATIO B      LSTAT\n",
       "1 0.00632 18 2.31  0    0.538 6.575 65.2 4.0900 1   296 15.3    396.90 4.98 \n",
       "2 0.02731  0 7.07  0    0.469 6.421 78.9 4.9671 2   242 17.8    396.90 9.14 \n",
       "3 0.02729  0 7.07  0    0.469 7.185 61.1 4.9671 2   242 17.8    392.83 4.03 \n",
       "4 0.03237  0 2.18  0    0.458 6.998 45.8 6.0622 3   222 18.7    394.63 2.94 \n",
       "5 0.06905  0 2.18  0    0.458 7.147 54.2 6.0622 3   222 18.7    396.90 5.33 \n",
       "6 0.02985  0 2.18  0    0.458 6.430 58.7 6.0622 3   222 18.7    394.12 5.21 \n",
       "  MEDV\n",
       "1 24.0\n",
       "2 21.6\n",
       "3 34.7\n",
       "4 33.4\n",
       "5 36.2\n",
       "6 28.7"
      ]
     },
     "metadata": {},
     "output_type": "display_data"
    }
   ],
   "source": [
    "# READ IN OUR DATA\n",
    "\n",
    "boston_df <- read.csv('data.csv')\n",
    "\n",
    "head(boston_df) # PRINT TOP 5"
   ]
  },
  {
   "cell_type": "markdown",
   "metadata": {},
   "source": [
    "**Remove NA Values**\n",
    "\n",
    "We will remove NA values because running regression on empty/null values because null values from the dataset adversely affect the performance and accuracy of any machine learning algorithm."
   ]
  },
  {
   "cell_type": "code",
   "execution_count": 42,
   "metadata": {},
   "outputs": [],
   "source": [
    "# REMOVE ALL NA VALUES\n",
    "na_Values <- length(which(is.na(boston_df) == T))\n",
    "if(na_Values > 0){\n",
    "    boston_df <- boston_df[complete.cases(boston_df),]\n",
    "}"
   ]
  },
  {
   "cell_type": "markdown",
   "metadata": {},
   "source": [
    "We now remove our column B"
   ]
  },
  {
   "cell_type": "code",
   "execution_count": 45,
   "metadata": {},
   "outputs": [],
   "source": [
    "drop_Columns <- c('B')\n",
    "boston_df <- boston_df[, !colnames(boston_df) %in% drop_Columns]"
   ]
  },
  {
   "cell_type": "markdown",
   "metadata": {},
   "source": [
    "# MODEL 1 using KNN"
   ]
  },
  {
   "cell_type": "markdown",
   "metadata": {},
   "source": [
    "### What does the first model consist of?\n",
    "\n",
    "\n",
    "For the first model using KNN, data is set as 60% training and 40% testing.\n",
    "\n",
    "**Why those numbers?**\n",
    "\n",
    "In reality, there is no optimal split percentage. I chose the 60 - 40 split upon the most common split percentages:\n",
    "- Train: 80%, Test: 20%\n",
    "- Train: 67%, Test: 33%\n",
    "- Train: 50%, Test: 50%\n",
    "\n",
    "60 - 40 split is good for our computational cost in training the model and evaluating the model. "
   ]
  },
  {
   "cell_type": "code",
   "execution_count": 46,
   "metadata": {},
   "outputs": [],
   "source": [
    "set.seed(123)\n",
    "train_index <- sample(row.names(boston_df), 0.6*dim(boston_df)[1])\n",
    "testing_index <- setdiff(row.names(boston_df), train_index)"
   ]
  },
  {
   "cell_type": "markdown",
   "metadata": {},
   "source": [
    "**Now we can create our training/testing dataframes**"
   ]
  },
  {
   "cell_type": "code",
   "execution_count": 50,
   "metadata": {},
   "outputs": [],
   "source": [
    "train_df <- boston_df[train_index, -14]\n",
    "test_df <- boston_df[testing_index, -14]"
   ]
  },
  {
   "cell_type": "markdown",
   "metadata": {},
   "source": [
    "**Normalization**\n",
    "\n",
    "Now that we have our training data, testing data, and our overall dataframe, we want to normalize our data.\n",
    "\n",
    "\n",
    "Why?\n",
    "Normalization will help in making sure the data is read the same way acros all records, as well as:\n",
    "- Reduce Duplicate Data\n",
    "- Marketing Segmentation\n",
    "- Performance and Metrics\n",
    "\n",
    "\n",
    "\n",
    "To do this, we will create different dataframes in the case we might have to go back a step. "
   ]
  },
  {
   "cell_type": "code",
   "execution_count": 51,
   "metadata": {},
   "outputs": [],
   "source": [
    "# INIT NORM. DFs\n",
    "train_norm <- train_df\n",
    "test_norm <- test_df\n",
    "house_norm <- boston_df\n",
    "\n",
    "\n",
    "norm_Values <- preProcess(train_df, method = c('center', 'scale'))\n",
    "train_norm <- as.data.frame(predict(norm_Values, train_df))\n",
    "test_norm <- as.data.frame(predict(norm_Values, test_df))\n",
    "house_norm <- as.data.frame(predict(norm_Values, boston_df))\n"
   ]
  },
  {
   "cell_type": "markdown",
   "metadata": {},
   "source": [
    "**Find best RMSE and K**\n",
    "\n",
    "Now that we have our normalized data, we can create an accuracy dataframe that will hold our K value and our RMSE value.\n",
    "\n",
    "\n",
    "2 questions to ask:\n",
    "- *What is the best K?*\n",
    "\n",
    "- *What is the best RMSE?*\n",
    "\n",
    "Lets find out.\n",
    "\n",
    "<br>\n"
   ]
  },
  {
   "cell_type": "code",
   "execution_count": 52,
   "metadata": {},
   "outputs": [],
   "source": [
    "accuracy_df <- data.frame(k = seq(1, 5, 1), RMSE = rep(0, 5))\n",
    "\n",
    "# compute knn for different k on validation\n",
    "for(i in 1:5){\n",
    "    knn.predict <- class::knn(train = train_norm[, -13], test = test_norm[, -13], cl = train_df[, 13], k = i)\n",
    "    accuracy_df[i, 2] <- RMSE(as.numeric(as.character(knn.predict)), test_df[, 13])\n",
    "}"
   ]
  },
  {
   "cell_type": "code",
   "execution_count": 53,
   "metadata": {
    "scrolled": true
   },
   "outputs": [
    {
     "data": {
      "text/html": [
       "<table>\n",
       "<thead><tr><th scope=col>k</th><th scope=col>RMSE</th></tr></thead>\n",
       "<tbody>\n",
       "\t<tr><td>1       </td><td>6.936421</td></tr>\n",
       "\t<tr><td>2       </td><td>7.242346</td></tr>\n",
       "\t<tr><td>3       </td><td>7.516819</td></tr>\n",
       "\t<tr><td>4       </td><td>7.618004</td></tr>\n",
       "\t<tr><td>5       </td><td>8.323834</td></tr>\n",
       "</tbody>\n",
       "</table>\n"
      ],
      "text/latex": [
       "\\begin{tabular}{r|ll}\n",
       " k & RMSE\\\\\n",
       "\\hline\n",
       "\t 1        & 6.936421\\\\\n",
       "\t 2        & 7.242346\\\\\n",
       "\t 3        & 7.516819\\\\\n",
       "\t 4        & 7.618004\\\\\n",
       "\t 5        & 8.323834\\\\\n",
       "\\end{tabular}\n"
      ],
      "text/markdown": [
       "\n",
       "| k | RMSE |\n",
       "|---|---|\n",
       "| 1        | 6.936421 |\n",
       "| 2        | 7.242346 |\n",
       "| 3        | 7.516819 |\n",
       "| 4        | 7.618004 |\n",
       "| 5        | 8.323834 |\n",
       "\n"
      ],
      "text/plain": [
       "  k RMSE    \n",
       "1 1 6.936421\n",
       "2 2 7.242346\n",
       "3 3 7.516819\n",
       "4 4 7.618004\n",
       "5 5 8.323834"
      ]
     },
     "metadata": {},
     "output_type": "display_data"
    }
   ],
   "source": [
    "accuracy_df"
   ]
  },
  {
   "cell_type": "markdown",
   "metadata": {},
   "source": [
    "**What is the best K?**\n",
    "\n",
    "For this model, we will use a K value of up to 5.\n",
    "\n",
    "Typically, the optimal K would be the square root of the number of the training set. However, going the route of choosing a K value between 1 and 5 will help us regardless.\n",
    "\n",
    "What can we see here in our accuracy dataframe?\n",
    "\n",
    "Notice:\n",
    "- K = 1 is the best fit because it has the lowest RMSE. \n",
    "\n",
    "\n",
    "- What does RMSE mean?\n",
    "    - RMSE is a good measure of how accurately the model predicts the response, and it is the most important criterion for fit if the main purpose of the model is prediction.\n",
    "    - Therefore, lower values of RMSE will indicate it has a high accuracy rate of the values tried.\n",
    "    \n",
    "- Will choosing the K value with the lowest RMSE be the right choice? \n",
    "    - No, if we choose the K value with the best fit, then there is a high chance of overfitting. \n",
    "    - Choose the next lowest RMSE (k = 2).\n",
    "    \n",
    "- What does choosing the K with the second lowest RMSE indicate?\n",
    "    - It means that MEDV is predicted by averaging the MEDVs for the 1 closest records. \n",
    "    - Proximity being measured by the distaance between the vectors of predictor values."
   ]
  },
  {
   "cell_type": "markdown",
   "metadata": {},
   "source": [
    "## Analysis of using this model?"
   ]
  },
  {
   "cell_type": "markdown",
   "metadata": {},
   "source": [
    "Our ultimate goal is to predict MEDV, however, if we wanted to predict MEDV for thousands of new future homes, KNN prediction analysis would causes us a lot of more disadvantages then advantages. "
   ]
  },
  {
   "cell_type": "markdown",
   "metadata": {},
   "source": [
    "What is one disadvantage of using KNN to predict MEDV?\n",
    "\n",
    "It would take too much time to make comparisons to determine the distance between each new tract and all the examples in the data. Upon doing that, it will need to average those values of its nearest neighbors to predict MEDV. \n",
    "\n",
    "<br>\n"
   ]
  },
  {
   "cell_type": "markdown",
   "metadata": {},
   "source": [
    "# MODEL 2 using KNN (simplified)"
   ]
  },
  {
   "cell_type": "markdown",
   "metadata": {},
   "source": [
    "As before, we will split the data into training and testing data. \n",
    "\n",
    "We then will extract x and y values to use for our prediction.\n",
    "\n",
    "For this split, we will make our test data 15%. \n",
    "\n",
    "We then will scale our X data to improve accuracy.\n"
   ]
  },
  {
   "cell_type": "code",
   "execution_count": 19,
   "metadata": {},
   "outputs": [],
   "source": [
    "idx = createDataPartition(boston_df$MEDV, p = .85, list = F)\n",
    "train_data = boston_df[idx, ]\n",
    "test_data = boston_df[-idx, ]\n",
    "\n",
    "train_x_data = train_data[, -13]\n",
    "train_x_data = scale(train_x_data)[,]\n",
    "train_y_data = train_data[,13]\n",
    "\n",
    "train_x_data = test_data[, -13]\n",
    "train_x_data = scale(test_data[,-13])[,]\n",
    "train_y_data = test_data[,13]"
   ]
  },
  {
   "cell_type": "markdown",
   "metadata": {},
   "source": [
    "The cool thing about the caret library, it comes with a knnreg() model. We will put it our training x and y data as parameters.\n",
    "\n",
    "\n",
    "This will be enough to create our model. (A Simplified model)"
   ]
  },
  {
   "cell_type": "code",
   "execution_count": 20,
   "metadata": {},
   "outputs": [],
   "source": [
    "KNN_model = knnreg(train_x_data, train_y_data)"
   ]
  },
  {
   "cell_type": "markdown",
   "metadata": {},
   "source": [
    "We can not use the predict()."
   ]
  },
  {
   "cell_type": "code",
   "execution_count": 22,
   "metadata": {},
   "outputs": [],
   "source": [
    "pred = predict(KNN_model, data.frame(train_x_data))"
   ]
  },
  {
   "cell_type": "markdown",
   "metadata": {},
   "source": [
    "Lets take a loot at our Test data and our predicted data."
   ]
  },
  {
   "cell_type": "code",
   "execution_count": 31,
   "metadata": {},
   "outputs": [
    {
     "data": {
      "text/html": [
       "<table>\n",
       "<thead><tr><th scope=col>train_y_data</th><th scope=col>pred</th></tr></thead>\n",
       "<tbody>\n",
       "\t<tr><td>36.2 </td><td>33.66</td></tr>\n",
       "\t<tr><td>19.9 </td><td>21.04</td></tr>\n",
       "\t<tr><td>21.0 </td><td>19.66</td></tr>\n",
       "\t<tr><td>13.5 </td><td>25.08</td></tr>\n",
       "\t<tr><td>24.7 </td><td>22.12</td></tr>\n",
       "\t<tr><td>21.2 </td><td>21.64</td></tr>\n",
       "</tbody>\n",
       "</table>\n"
      ],
      "text/latex": [
       "\\begin{tabular}{r|ll}\n",
       " train\\_y\\_data & pred\\\\\n",
       "\\hline\n",
       "\t 36.2  & 33.66\\\\\n",
       "\t 19.9  & 21.04\\\\\n",
       "\t 21.0  & 19.66\\\\\n",
       "\t 13.5  & 25.08\\\\\n",
       "\t 24.7  & 22.12\\\\\n",
       "\t 21.2  & 21.64\\\\\n",
       "\\end{tabular}\n"
      ],
      "text/markdown": [
       "\n",
       "| train_y_data | pred |\n",
       "|---|---|\n",
       "| 36.2  | 33.66 |\n",
       "| 19.9  | 21.04 |\n",
       "| 21.0  | 19.66 |\n",
       "| 13.5  | 25.08 |\n",
       "| 24.7  | 22.12 |\n",
       "| 21.2  | 21.64 |\n",
       "\n"
      ],
      "text/plain": [
       "  train_y_data pred \n",
       "1 36.2         33.66\n",
       "2 19.9         21.04\n",
       "3 21.0         19.66\n",
       "4 13.5         25.08\n",
       "5 24.7         22.12\n",
       "6 21.2         21.64"
      ]
     },
     "metadata": {},
     "output_type": "display_data"
    }
   ],
   "source": [
    "predict_df <- data.frame(train_y_data, pred)\n",
    "head(predict_df)"
   ]
  },
  {
   "cell_type": "markdown",
   "metadata": {},
   "source": [
    "We can now look at our prediction accuracy, specifically RMSE"
   ]
  },
  {
   "cell_type": "code",
   "execution_count": 26,
   "metadata": {},
   "outputs": [
    {
     "name": "stdout",
     "output_type": "stream",
     "text": [
      "RMSE:  5.6036"
     ]
    }
   ],
   "source": [
    "rmse = caret::RMSE(train_y_data, pred)\n",
    "\n",
    "cat(\"RMSE: \", rmse)"
   ]
  },
  {
   "cell_type": "markdown",
   "metadata": {},
   "source": [
    "**We can now plot our predictionn.**"
   ]
  },
  {
   "cell_type": "code",
   "execution_count": 55,
   "metadata": {},
   "outputs": [
    {
     "data": {
      "image/png": "[encoded data removed]",
      "text/plain": [
       "Plot with title \"MEDV Price Prediction\""
      ]
     },
     "metadata": {},
     "output_type": "display_data"
    }
   ],
   "source": [
    "x = 1:length(train_y_data)\n",
    "\n",
    "plot(x, train_y_data, col = \"yellow\", type = \"l\", lwd=2, main = \"MEDV Price Prediction\")\n",
    "lines(x, pred, col = \"red\", lwd=3)\n",
    "legend(\"topright\",  legend = c(\"Org. MEDV\", \"Pred. MEDV\"), fill = c(\"yellow\", \"red\"), col = 2:3,  adj = c(0, 0.6))\n",
    "grid()\n",
    " "
   ]
  },
  {
   "cell_type": "code",
   "execution_count": null,
   "metadata": {},
   "outputs": [],
   "source": []
  }
 ],
 "metadata": {
  "kernelspec": {
   "display_name": "R",
   "language": "R",
   "name": "ir"
  },
  "language_info": {
   "codemirror_mode": "r",
   "file_extension": ".r",
   "mimetype": "text/x-r-source",
   "name": "R",
   "pygments_lexer": "r",
   "version": "3.6.1"
  }
 },
 "nbformat": 4,
 "nbformat_minor": 4
}
