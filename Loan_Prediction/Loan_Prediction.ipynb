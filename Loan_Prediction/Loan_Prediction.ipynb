{
 "cells": [
  {
   "cell_type": "markdown",
   "id": "27c73257",
   "metadata": {},
   "source": [
    "# Loan Prediction"
   ]
  },
  {
   "cell_type": "markdown",
   "id": "503a54d9",
   "metadata": {},
   "source": [
    "In this analysis we will be doing a loan prediction project using various algorithms to determine which is the best. \n",
    "\n",
    "<br>\n",
    "\n",
    "The goal is to predict which customers have the 'right stuff' to get a loan from a bank. \n",
    "\n",
    "<br>\n",
    "\n",
    "During this process, I will be sure to explain the machine learning algorithms used and provide resources that were used and for an in depth understanding. \n",
    "\n",
    "\n",
    "Follow along here:\n",
    "- [Github](https://github.com/iamAngelSH)\n",
    "- [Twitter](https://twitter.com/iamAngelSH)"
   ]
  },
  {
   "cell_type": "markdown",
   "id": "2633f266",
   "metadata": {},
   "source": [
    "### Import Libraries\n",
    "\n",
    "<br>\n",
    "\n",
    "Here will be all the libraries used for this project. \n",
    "- Depening on the time you see this, libraries will be added. \n",
    "- They will all be kept and organized accordingly here."
   ]
  },
  {
   "cell_type": "code",
   "execution_count": 1,
   "id": "a56a42a0",
   "metadata": {},
   "outputs": [],
   "source": [
    "'''\n",
    "Data Visualization and Data Analysis\n",
    "- Updated on March 1st, 2022\n",
    "'''\n",
    "import pandas as pd\n",
    "import numpy as np\n",
    "import matplotlib.pyplot as plt\n",
    "import seaborn as sns"
   ]
  },
  {
   "cell_type": "markdown",
   "id": "6a6863e8",
   "metadata": {},
   "source": [
    "**Our first order of business is to get the data and assign it to our resepected variables.**\n",
    "\n",
    "<br>\n",
    "\n",
    "For this I will be creating a function that will get the data and return the files we need.\n",
    "- Specifically for this project we will be using two datasets\n",
    "    - Training data\n",
    "    - Testing data"
   ]
  },
  {
   "cell_type": "code",
   "execution_count": 2,
   "id": "8a60b991",
   "metadata": {},
   "outputs": [],
   "source": [
    "'''\n",
    "Created March 1, 2022\n",
    "'''\n",
    "\n",
    "def get_files(url_train, url_test):\n",
    "    df1 = pd.read_csv(url_train)\n",
    "    df2 = pd.read_csv(url_test)\n",
    "    \n",
    "    \n",
    "    # RETURN OUR DATA FRAMES \n",
    "    return df1, df2\n",
    "\n",
    "\n",
    "data1 = 'Data/train.csv'\n",
    "data2 = 'Data/test.csv'\n",
    "\n",
    "train_df, test_df = get_files(data1, data2)"
   ]
  },
  {
   "cell_type": "markdown",
   "id": "49e1b415",
   "metadata": {},
   "source": [
    "### Exploratory Data Analysis\n",
    "\n",
    "\n",
    "\n",
    "<br>\n",
    "\n",
    "We will be conducting Exploratory Data Analysis to get statistical insight and visualization of our data.\n"
   ]
  },
  {
   "cell_type": "code",
   "execution_count": 3,
   "id": "af454981",
   "metadata": {
    "scrolled": false
   },
   "outputs": [
    {
     "data": {
      "text/html": [
       "<div>\n",
       "<style scoped>\n",
       "    .dataframe tbody tr th:only-of-type {\n",
       "        vertical-align: middle;\n",
       "    }\n",
       "\n",
       "    .dataframe tbody tr th {\n",
       "        vertical-align: top;\n",
       "    }\n",
       "\n",
       "    .dataframe thead th {\n",
       "        text-align: right;\n",
       "    }\n",
       "</style>\n",
       "<table border=\"1\" class=\"dataframe\">\n",
       "  <thead>\n",
       "    <tr style=\"text-align: right;\">\n",
       "      <th></th>\n",
       "      <th>Loan_ID</th>\n",
       "      <th>Gender</th>\n",
       "      <th>Married</th>\n",
       "      <th>Dependents</th>\n",
       "      <th>Education</th>\n",
       "      <th>Self_Employed</th>\n",
       "      <th>ApplicantIncome</th>\n",
       "      <th>CoapplicantIncome</th>\n",
       "      <th>LoanAmount</th>\n",
       "      <th>Loan_Amount_Term</th>\n",
       "      <th>Credit_History</th>\n",
       "      <th>Property_Area</th>\n",
       "      <th>Loan_Status</th>\n",
       "    </tr>\n",
       "  </thead>\n",
       "  <tbody>\n",
       "    <tr>\n",
       "      <th>0</th>\n",
       "      <td>LP001002</td>\n",
       "      <td>Male</td>\n",
       "      <td>No</td>\n",
       "      <td>0</td>\n",
       "      <td>Graduate</td>\n",
       "      <td>No</td>\n",
       "      <td>5849</td>\n",
       "      <td>0.0</td>\n",
       "      <td>NaN</td>\n",
       "      <td>360.0</td>\n",
       "      <td>1.0</td>\n",
       "      <td>Urban</td>\n",
       "      <td>Y</td>\n",
       "    </tr>\n",
       "    <tr>\n",
       "      <th>1</th>\n",
       "      <td>LP001003</td>\n",
       "      <td>Male</td>\n",
       "      <td>Yes</td>\n",
       "      <td>1</td>\n",
       "      <td>Graduate</td>\n",
       "      <td>No</td>\n",
       "      <td>4583</td>\n",
       "      <td>1508.0</td>\n",
       "      <td>128.0</td>\n",
       "      <td>360.0</td>\n",
       "      <td>1.0</td>\n",
       "      <td>Rural</td>\n",
       "      <td>N</td>\n",
       "    </tr>\n",
       "    <tr>\n",
       "      <th>2</th>\n",
       "      <td>LP001005</td>\n",
       "      <td>Male</td>\n",
       "      <td>Yes</td>\n",
       "      <td>0</td>\n",
       "      <td>Graduate</td>\n",
       "      <td>Yes</td>\n",
       "      <td>3000</td>\n",
       "      <td>0.0</td>\n",
       "      <td>66.0</td>\n",
       "      <td>360.0</td>\n",
       "      <td>1.0</td>\n",
       "      <td>Urban</td>\n",
       "      <td>Y</td>\n",
       "    </tr>\n",
       "    <tr>\n",
       "      <th>3</th>\n",
       "      <td>LP001006</td>\n",
       "      <td>Male</td>\n",
       "      <td>Yes</td>\n",
       "      <td>0</td>\n",
       "      <td>Not Graduate</td>\n",
       "      <td>No</td>\n",
       "      <td>2583</td>\n",
       "      <td>2358.0</td>\n",
       "      <td>120.0</td>\n",
       "      <td>360.0</td>\n",
       "      <td>1.0</td>\n",
       "      <td>Urban</td>\n",
       "      <td>Y</td>\n",
       "    </tr>\n",
       "    <tr>\n",
       "      <th>4</th>\n",
       "      <td>LP001008</td>\n",
       "      <td>Male</td>\n",
       "      <td>No</td>\n",
       "      <td>0</td>\n",
       "      <td>Graduate</td>\n",
       "      <td>No</td>\n",
       "      <td>6000</td>\n",
       "      <td>0.0</td>\n",
       "      <td>141.0</td>\n",
       "      <td>360.0</td>\n",
       "      <td>1.0</td>\n",
       "      <td>Urban</td>\n",
       "      <td>Y</td>\n",
       "    </tr>\n",
       "  </tbody>\n",
       "</table>\n",
       "</div>"
      ],
      "text/plain": [
       "    Loan_ID Gender Married Dependents     Education Self_Employed  \\\n",
       "0  LP001002   Male      No          0      Graduate            No   \n",
       "1  LP001003   Male     Yes          1      Graduate            No   \n",
       "2  LP001005   Male     Yes          0      Graduate           Yes   \n",
       "3  LP001006   Male     Yes          0  Not Graduate            No   \n",
       "4  LP001008   Male      No          0      Graduate            No   \n",
       "\n",
       "   ApplicantIncome  CoapplicantIncome  LoanAmount  Loan_Amount_Term  \\\n",
       "0             5849                0.0         NaN             360.0   \n",
       "1             4583             1508.0       128.0             360.0   \n",
       "2             3000                0.0        66.0             360.0   \n",
       "3             2583             2358.0       120.0             360.0   \n",
       "4             6000                0.0       141.0             360.0   \n",
       "\n",
       "   Credit_History Property_Area Loan_Status  \n",
       "0             1.0         Urban           Y  \n",
       "1             1.0         Rural           N  \n",
       "2             1.0         Urban           Y  \n",
       "3             1.0         Urban           Y  \n",
       "4             1.0         Urban           Y  "
      ]
     },
     "execution_count": 3,
     "metadata": {},
     "output_type": "execute_result"
    }
   ],
   "source": [
    "'''\n",
    "Created March 1, 2022\n",
    "\n",
    "\n",
    "Lets first look at first 5 rows of our data.\n",
    "\n",
    "- For this, I only be using one of our data frames (train_df)\n",
    "'''\n",
    "\n",
    "def show_dataframe(dataframe):\n",
    "    return dataframe.head()\n",
    "\n",
    "show_dataframe(train_df)"
   ]
  },
  {
   "cell_type": "markdown",
   "id": "ec46efa2",
   "metadata": {},
   "source": [
    "Given that we are working with two different data sets, it is a good idea to see how much data we are working with on each. this will give us a good understanding of how much is provided for us."
   ]
  },
  {
   "cell_type": "code",
   "execution_count": 27,
   "id": "6aaabb0e",
   "metadata": {},
   "outputs": [
    {
     "name": "stdout",
     "output_type": "stream",
     "text": [
      "Rows in first data set: 614 \n",
      "Columns in first data set: 13\n",
      "\n",
      "Rows in second data set: 367 \n",
      "Columns in second data set: 12\n"
     ]
    }
   ],
   "source": [
    "'''\n",
    "Created March 2, 2022\n",
    "\n",
    "Return number of columns and rows in our data frames\n",
    "'''\n",
    "\n",
    "def df_shape(df1, df2):\n",
    "    r1 = df1.shape[0]\n",
    "    c1 = df1.shape[1]\n",
    "    \n",
    "    r2 = df2.shape[0]\n",
    "    c2 = df2.shape[1]\n",
    "        \n",
    "        \n",
    "    print(f'Rows in first data set: {r1} \\nColumns in first data set: {c1}')\n",
    "    print()\n",
    "    print(f'Rows in second data set: {r2} \\nColumns in second data set: {c2}')\n",
    "    \n",
    "    \n",
    "df_shape(train_df, test_df)"
   ]
  },
  {
   "cell_type": "markdown",
   "id": "08cc30fa",
   "metadata": {},
   "source": [
    "**Looking at our columns**\n",
    "\n",
    "Since we are working with testing and training data, lets take a look at our column names on both data frames and see if they match, and see what columns we are working with."
   ]
  },
  {
   "cell_type": "code",
   "execution_count": 19,
   "id": "5e6dd4aa",
   "metadata": {},
   "outputs": [],
   "source": [
    "'''\n",
    "Created March 2, 2022\n",
    "\n",
    "Looking at the columns for our testing and training data\n",
    "'''\n",
    "\n",
    "def look_at_columns(df1, df2):\n",
    "    return list(df1.columns), list(df2.columns)\n",
    "\n",
    "col_test_df, col_train_df = look_at_columns(train_df, test_df)"
   ]
  },
  {
   "cell_type": "code",
   "execution_count": 20,
   "id": "2fa8fb77",
   "metadata": {
    "scrolled": true
   },
   "outputs": [
    {
     "data": {
      "text/plain": [
       "['Loan_ID',\n",
       " 'Gender',\n",
       " 'Married',\n",
       " 'Dependents',\n",
       " 'Education',\n",
       " 'Self_Employed',\n",
       " 'ApplicantIncome',\n",
       " 'CoapplicantIncome',\n",
       " 'LoanAmount',\n",
       " 'Loan_Amount_Term',\n",
       " 'Credit_History',\n",
       " 'Property_Area']"
      ]
     },
     "execution_count": 20,
     "metadata": {},
     "output_type": "execute_result"
    }
   ],
   "source": [
    "col_train_df"
   ]
  },
  {
   "cell_type": "code",
   "execution_count": 21,
   "id": "0fa25ee3",
   "metadata": {},
   "outputs": [
    {
     "data": {
      "text/plain": [
       "['Loan_ID',\n",
       " 'Gender',\n",
       " 'Married',\n",
       " 'Dependents',\n",
       " 'Education',\n",
       " 'Self_Employed',\n",
       " 'ApplicantIncome',\n",
       " 'CoapplicantIncome',\n",
       " 'LoanAmount',\n",
       " 'Loan_Amount_Term',\n",
       " 'Credit_History',\n",
       " 'Property_Area',\n",
       " 'Loan_Status']"
      ]
     },
     "execution_count": 21,
     "metadata": {},
     "output_type": "execute_result"
    }
   ],
   "source": [
    "col_test_df"
   ]
  },
  {
   "cell_type": "markdown",
   "id": "c4149f8d",
   "metadata": {},
   "source": [
    "As we can see, our two datasets are similar, except that our testing data data frame has an extra column called 'Loan Status' which will be used for predictive modeling when we get to our Machine Learning modeling.\n",
    "\n",
    "<br>\n",
    "\n"
   ]
  },
  {
   "cell_type": "markdown",
   "id": "9b5d2624",
   "metadata": {},
   "source": [
    "Our next order of business would be to take a look at any missing values present in our data, this is good because if there is too many NA values in a column (or dataset in general), we have to decide what we want to do with it.\n",
    "\n",
    "We can take a look at our visual below to see missing values."
   ]
  },
  {
   "cell_type": "code",
   "execution_count": 57,
   "id": "b8e33020",
   "metadata": {},
   "outputs": [
    {
     "data": {
      "text/plain": [
       "<Figure size 720x1440 with 0 Axes>"
      ]
     },
     "metadata": {},
     "output_type": "display_data"
    },
    {
     "data": {
      "image/png": "[encoded data removed]",
      "text/plain": [
       "<Figure size 1080x720 with 4 Axes>"
      ]
     },
     "metadata": {
      "needs_background": "light"
     },
     "output_type": "display_data"
    }
   ],
   "source": [
    "'''\n",
    "Created March 2, 2022\n",
    "\n",
    "Looking at our data frames for missing values using a heat map\n",
    "'''\n",
    "def show_missing_values(df1, df2):\n",
    "    plt.figure(figsize=(10, 20))\n",
    "    fig, (ax1, ax2) = plt.subplots(ncols=2, figsize=(15,10))\n",
    "    fig.subplots_adjust(wspace=0.01)\n",
    "    sns.heatmap(df1.isnull(), cmap=\"rocket\", ax=ax1, cbar=False)\n",
    "    fig.colorbar(ax1.collections[0], ax=ax1, location=\"left\", use_gridspec=False, pad=0.2)\n",
    "\n",
    "    sns.heatmap(df2.isnull(), cmap=\"rocket\", ax=ax2, cbar=False)\n",
    "    fig.colorbar(ax2.collections[0], ax=ax2, location=\"right\", use_gridspec=False, pad=0.2)\n",
    "\n",
    "    plt.show()\n",
    "\n",
    "show_missing_values(train_df, test_df)"
   ]
  },
  {
   "cell_type": "markdown",
   "id": "4c1e7cde",
   "metadata": {},
   "source": [
    "As we can see from our resulting heatmap of missing values, both dataframes do contain missing values. Some columns more than others. \n",
    "\n",
    "\n",
    "<!-- ---- Need to finish -->"
   ]
  },
  {
   "cell_type": "code",
   "execution_count": null,
   "id": "e8c49970",
   "metadata": {},
   "outputs": [],
   "source": []
  }
 ],
 "metadata": {
  "kernelspec": {
   "display_name": "Python 3",
   "language": "python",
   "name": "python3"
  },
  "language_info": {
   "codemirror_mode": {
    "name": "ipython",
    "version": 3
   },
   "file_extension": ".py",
   "mimetype": "text/x-python",
   "name": "python",
   "nbconvert_exporter": "python",
   "pygments_lexer": "ipython3",
   "version": "3.8.5"
  }
 },
 "nbformat": 4,
 "nbformat_minor": 5
}
