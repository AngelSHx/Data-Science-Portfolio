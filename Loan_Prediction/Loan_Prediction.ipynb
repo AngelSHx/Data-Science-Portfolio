{
 "cells": [
  {
   "cell_type": "markdown",
   "id": "27385493",
   "metadata": {},
   "source": [
    "# Loan Prediction"
   ]
  },
  {
   "cell_type": "markdown",
   "id": "3755c133",
   "metadata": {},
   "source": [
    "In this analysis we will be doing a loan prediction project using various algorithms to determine which is the best. \n",
    "\n",
    "<br>\n",
    "\n",
    "The goal is to predict which customers have the 'right stuff' to get a loan from a bank. \n",
    "\n",
    "<br>\n",
    "\n",
    "During this process, I will be sure to explain the machine learning algorithms used and provide resources that were used and for an in depth understanding. \n",
    "\n",
    "\n",
    "Follow along here:\n",
    "- [Github](https://github.com/iamAngelSH)\n",
    "- [Twitter](https://twitter.com/iamAngelSH)"
   ]
  },
  {
   "cell_type": "markdown",
   "id": "de018a90",
   "metadata": {},
   "source": [
    "### Import Libraries\n",
    "\n",
    "<br>\n",
    "\n",
    "Here will be all the libraries used for this project. \n",
    "- Depening on the time you see this, libraries will be added. \n",
    "- They will all be kept and organized accordingly here."
   ]
  },
  {
   "cell_type": "code",
   "execution_count": 1,
   "id": "6faea51e",
   "metadata": {},
   "outputs": [],
   "source": [
    "'''\n",
    "Data Visualization and Data Analysis\n",
    "- Updated on March 1st, 2022\n",
    "'''\n",
    "import pandas as pd\n",
    "import numpy as np\n",
    "import matplotlib.pyplot as plt\n",
    "import seaborn as sns"
   ]
  },
  {
   "cell_type": "markdown",
   "id": "43fbbbd7",
   "metadata": {},
   "source": [
    "**Our first order of business is to get the data and assign it to our resepected variables.**\n",
    "\n",
    "<br>\n",
    "\n",
    "For this I will be creating a function that will get the data and return the files we need.\n",
    "- Specifically for this project we will be using two datasets\n",
    "    - Training data\n",
    "    - Testing data"
   ]
  },
  {
   "cell_type": "code",
   "execution_count": 33,
   "id": "e234ce46",
   "metadata": {},
   "outputs": [],
   "source": [
    "'''\n",
    "Created March 1, 2022\n",
    "'''\n",
    "\n",
    "def get_files(url):\n",
    "    df = pd.read_csv(url)\n",
    "    \n",
    "    \n",
    "    # RETURN OUR DATA FRAMES \n",
    "    return df\n",
    "\n",
    "\n",
    "data1 = 'Data/train.csv'\n",
    "data2 = 'Data/test.csv'\n",
    "\n",
    "train_df = get_files(data1)\n",
    "test_df = get_files(data2)"
   ]
  },
  {
   "cell_type": "markdown",
   "id": "1320c1e1",
   "metadata": {},
   "source": [
    "### Preliminary Data Analysis\n",
    "\n",
    "\n",
    "\n",
    "<br>\n",
    "\n",
    "We will be conducting preliminary data analysis which includes:\n",
    "- Previewing the data\n",
    "- Looking at the structure of our data\n",
    "- Looking at our columns\n",
    "- Looking at our missing values\n",
    "    - Filling in missing values appropriately\n",
    "\n"
   ]
  },
  {
   "cell_type": "code",
   "execution_count": 34,
   "id": "92f578ba",
   "metadata": {
    "scrolled": false
   },
   "outputs": [
    {
     "data": {
      "text/html": [
       "<div>\n",
       "<style scoped>\n",
       "    .dataframe tbody tr th:only-of-type {\n",
       "        vertical-align: middle;\n",
       "    }\n",
       "\n",
       "    .dataframe tbody tr th {\n",
       "        vertical-align: top;\n",
       "    }\n",
       "\n",
       "    .dataframe thead th {\n",
       "        text-align: right;\n",
       "    }\n",
       "</style>\n",
       "<table border=\"1\" class=\"dataframe\">\n",
       "  <thead>\n",
       "    <tr style=\"text-align: right;\">\n",
       "      <th></th>\n",
       "      <th>Loan_ID</th>\n",
       "      <th>Gender</th>\n",
       "      <th>Married</th>\n",
       "      <th>Dependents</th>\n",
       "      <th>Education</th>\n",
       "      <th>Self_Employed</th>\n",
       "      <th>ApplicantIncome</th>\n",
       "      <th>CoapplicantIncome</th>\n",
       "      <th>LoanAmount</th>\n",
       "      <th>Loan_Amount_Term</th>\n",
       "      <th>Credit_History</th>\n",
       "      <th>Property_Area</th>\n",
       "      <th>Loan_Status</th>\n",
       "    </tr>\n",
       "  </thead>\n",
       "  <tbody>\n",
       "    <tr>\n",
       "      <th>0</th>\n",
       "      <td>LP001002</td>\n",
       "      <td>Male</td>\n",
       "      <td>No</td>\n",
       "      <td>0</td>\n",
       "      <td>Graduate</td>\n",
       "      <td>No</td>\n",
       "      <td>5849</td>\n",
       "      <td>0.0</td>\n",
       "      <td>NaN</td>\n",
       "      <td>360.0</td>\n",
       "      <td>1.0</td>\n",
       "      <td>Urban</td>\n",
       "      <td>Y</td>\n",
       "    </tr>\n",
       "    <tr>\n",
       "      <th>1</th>\n",
       "      <td>LP001003</td>\n",
       "      <td>Male</td>\n",
       "      <td>Yes</td>\n",
       "      <td>1</td>\n",
       "      <td>Graduate</td>\n",
       "      <td>No</td>\n",
       "      <td>4583</td>\n",
       "      <td>1508.0</td>\n",
       "      <td>128.0</td>\n",
       "      <td>360.0</td>\n",
       "      <td>1.0</td>\n",
       "      <td>Rural</td>\n",
       "      <td>N</td>\n",
       "    </tr>\n",
       "    <tr>\n",
       "      <th>2</th>\n",
       "      <td>LP001005</td>\n",
       "      <td>Male</td>\n",
       "      <td>Yes</td>\n",
       "      <td>0</td>\n",
       "      <td>Graduate</td>\n",
       "      <td>Yes</td>\n",
       "      <td>3000</td>\n",
       "      <td>0.0</td>\n",
       "      <td>66.0</td>\n",
       "      <td>360.0</td>\n",
       "      <td>1.0</td>\n",
       "      <td>Urban</td>\n",
       "      <td>Y</td>\n",
       "    </tr>\n",
       "    <tr>\n",
       "      <th>3</th>\n",
       "      <td>LP001006</td>\n",
       "      <td>Male</td>\n",
       "      <td>Yes</td>\n",
       "      <td>0</td>\n",
       "      <td>Not Graduate</td>\n",
       "      <td>No</td>\n",
       "      <td>2583</td>\n",
       "      <td>2358.0</td>\n",
       "      <td>120.0</td>\n",
       "      <td>360.0</td>\n",
       "      <td>1.0</td>\n",
       "      <td>Urban</td>\n",
       "      <td>Y</td>\n",
       "    </tr>\n",
       "    <tr>\n",
       "      <th>4</th>\n",
       "      <td>LP001008</td>\n",
       "      <td>Male</td>\n",
       "      <td>No</td>\n",
       "      <td>0</td>\n",
       "      <td>Graduate</td>\n",
       "      <td>No</td>\n",
       "      <td>6000</td>\n",
       "      <td>0.0</td>\n",
       "      <td>141.0</td>\n",
       "      <td>360.0</td>\n",
       "      <td>1.0</td>\n",
       "      <td>Urban</td>\n",
       "      <td>Y</td>\n",
       "    </tr>\n",
       "  </tbody>\n",
       "</table>\n",
       "</div>"
      ],
      "text/plain": [
       "    Loan_ID Gender Married Dependents     Education Self_Employed  \\\n",
       "0  LP001002   Male      No          0      Graduate            No   \n",
       "1  LP001003   Male     Yes          1      Graduate            No   \n",
       "2  LP001005   Male     Yes          0      Graduate           Yes   \n",
       "3  LP001006   Male     Yes          0  Not Graduate            No   \n",
       "4  LP001008   Male      No          0      Graduate            No   \n",
       "\n",
       "   ApplicantIncome  CoapplicantIncome  LoanAmount  Loan_Amount_Term  \\\n",
       "0             5849                0.0         NaN             360.0   \n",
       "1             4583             1508.0       128.0             360.0   \n",
       "2             3000                0.0        66.0             360.0   \n",
       "3             2583             2358.0       120.0             360.0   \n",
       "4             6000                0.0       141.0             360.0   \n",
       "\n",
       "   Credit_History Property_Area Loan_Status  \n",
       "0             1.0         Urban           Y  \n",
       "1             1.0         Rural           N  \n",
       "2             1.0         Urban           Y  \n",
       "3             1.0         Urban           Y  \n",
       "4             1.0         Urban           Y  "
      ]
     },
     "execution_count": 34,
     "metadata": {},
     "output_type": "execute_result"
    }
   ],
   "source": [
    "'''\n",
    "Created March 1, 2022\n",
    "\n",
    "\n",
    "Lets first look at first 5 rows of our data.\n",
    "\n",
    "- For this, I only be using one of our data frames (train_df)\n",
    "'''\n",
    "\n",
    "def show_dataframe(dataframe):\n",
    "    return dataframe.head()\n",
    "\n",
    "show_dataframe(train_df)"
   ]
  },
  {
   "cell_type": "markdown",
   "id": "bc31dd83",
   "metadata": {},
   "source": [
    "Given that we are working with two different data sets, it is a good idea to see how much data we are working with on each. this will give us a good understanding of how much is provided for us."
   ]
  },
  {
   "cell_type": "code",
   "execution_count": 37,
   "id": "2f5166b5",
   "metadata": {},
   "outputs": [
    {
     "name": "stdout",
     "output_type": "stream",
     "text": [
      "Rows in data set: 614 \n",
      "Columns in data set: 13\n",
      "\n",
      "Rows in data set: 367 \n",
      "Columns in data set: 12\n"
     ]
    }
   ],
   "source": [
    "'''\n",
    "Created March 2, 2022\n",
    "\n",
    "Return number of columns and rows in our data frames\n",
    "'''\n",
    "\n",
    "def df_shape(df):\n",
    "    r1 = df.shape[0]\n",
    "    c1 = df.shape[1]\n",
    "\n",
    "        \n",
    "        \n",
    "    print(f'Rows in data set: {r1} \\nColumns in data set: {c1}')\n",
    "    \n",
    "    \n",
    "df_shape(train_df)\n",
    "print()\n",
    "df_shape(test_df)\n"
   ]
  },
  {
   "cell_type": "markdown",
   "id": "bcdceb60",
   "metadata": {},
   "source": [
    "**Looking at our columns**\n",
    "\n",
    "Since we are working with testing and training data, lets take a look at our column names on both data frames and see if they match, and see what columns we are working with."
   ]
  },
  {
   "cell_type": "code",
   "execution_count": 39,
   "id": "e1af94d4",
   "metadata": {},
   "outputs": [],
   "source": [
    "'''\n",
    "Created March 2, 2022\n",
    "\n",
    "Looking at the columns for our testing and training data\n",
    "'''\n",
    "\n",
    "def look_at_columns(df):\n",
    "    return list(df.columns)\n",
    "\n",
    "col_train_df = look_at_columns(train_df)\n",
    "col_test_df = look_at_columns(test_df)"
   ]
  },
  {
   "cell_type": "code",
   "execution_count": 40,
   "id": "8693ea5b",
   "metadata": {
    "scrolled": true
   },
   "outputs": [
    {
     "data": {
      "text/plain": [
       "['Loan_ID',\n",
       " 'Gender',\n",
       " 'Married',\n",
       " 'Dependents',\n",
       " 'Education',\n",
       " 'Self_Employed',\n",
       " 'ApplicantIncome',\n",
       " 'CoapplicantIncome',\n",
       " 'LoanAmount',\n",
       " 'Loan_Amount_Term',\n",
       " 'Credit_History',\n",
       " 'Property_Area',\n",
       " 'Loan_Status']"
      ]
     },
     "execution_count": 40,
     "metadata": {},
     "output_type": "execute_result"
    }
   ],
   "source": [
    "col_train_df"
   ]
  },
  {
   "cell_type": "code",
   "execution_count": 41,
   "id": "5ca9cdd3",
   "metadata": {},
   "outputs": [
    {
     "data": {
      "text/plain": [
       "['Loan_ID',\n",
       " 'Gender',\n",
       " 'Married',\n",
       " 'Dependents',\n",
       " 'Education',\n",
       " 'Self_Employed',\n",
       " 'ApplicantIncome',\n",
       " 'CoapplicantIncome',\n",
       " 'LoanAmount',\n",
       " 'Loan_Amount_Term',\n",
       " 'Credit_History',\n",
       " 'Property_Area']"
      ]
     },
     "execution_count": 41,
     "metadata": {},
     "output_type": "execute_result"
    }
   ],
   "source": [
    "col_test_df"
   ]
  },
  {
   "cell_type": "markdown",
   "id": "5d163a98",
   "metadata": {},
   "source": [
    "As we can see, our two datasets are similar, except that our testing data data frame has an extra column called 'Loan Status' which will be used for predictive modeling when we get to our Machine Learning modeling.\n",
    "\n",
    "<br>\n",
    "\n"
   ]
  },
  {
   "cell_type": "markdown",
   "id": "eda4c9e4",
   "metadata": {},
   "source": [
    "Our next order of business would be to take a look at any missing values present in our data, this is good because if there is too many NA values in a column (or dataset in general), we have to decide what we want to do with it.\n",
    "\n",
    "We can take a look at our visual below to see missing values."
   ]
  },
  {
   "cell_type": "code",
   "execution_count": 8,
   "id": "1bca1a20",
   "metadata": {},
   "outputs": [
    {
     "data": {
      "image/png": "[encoded data removed]",
      "text/plain": [
       "<Figure size 1440x360 with 4 Axes>"
      ]
     },
     "metadata": {
      "needs_background": "light"
     },
     "output_type": "display_data"
    }
   ],
   "source": [
    "'''\n",
    "Created March 2, 2022\n",
    "\n",
    "Looking at our data frames for missing values using a heat map\n",
    "'''\n",
    "def show_missing_values(df1, df2):\n",
    "\n",
    "    fig, (ax1, ax2) = plt.subplots(ncols=2, figsize=(20,5))\n",
    "    fig.subplots_adjust(wspace=0.01)\n",
    "    sns.heatmap(df1.isnull(), cmap=\"rocket\", ax=ax1, cbar=False)\n",
    "    fig.colorbar(ax1.collections[0], ax=ax1, location=\"left\", use_gridspec=False, pad=0.2)\n",
    "\n",
    "    sns.heatmap(df2.isnull(), cmap=\"rocket\", ax=ax2, cbar=False)\n",
    "    fig.colorbar(ax2.collections[0], ax=ax2, location=\"right\", use_gridspec=False, pad=0.2)\n",
    "\n",
    "    plt.show()\n",
    "\n",
    "show_missing_values(train_df, test_df)"
   ]
  },
  {
   "cell_type": "markdown",
   "id": "3dcbfbee",
   "metadata": {},
   "source": [
    "As we can see from our resulting heatmap of missing values, both dataframes do contain missing values in more than one column. \n",
    "Being able to visually see these things helps us to decided what we should do next. \n",
    "\n",
    "Two things we are going to do:\n",
    "1. Check how many NA values are in the dataframes\n",
    "2. Fill in the NA values \n",
    "    - 2 types of fills:\n",
    "        - 'ffill': Forward filling\n",
    "            - Filling NA with values in the previous row\n",
    "        - 'bfill': Backward filling\n",
    "            - Filling NA with values after current row\n",
    "    - For this case, we will use forward filling\n",
    "  \n",
    "\n",
    "\n",
    "<br>\n",
    "\n",
    "This now leeds us to our next phase, Data Cleaning\n",
    "\n",
    "<!-- ---- Finished in March 3, 2022 -->"
   ]
  },
  {
   "cell_type": "markdown",
   "id": "41acb68b",
   "metadata": {},
   "source": [
    "### Data Cleaning"
   ]
  },
  {
   "cell_type": "code",
   "execution_count": 9,
   "id": "53266e5b",
   "metadata": {},
   "outputs": [],
   "source": [
    "''' Created March 3, 2022\n",
    "\n",
    "1. Create helper function to find number of missing values\n",
    "2. Create helper function to fill in missing value\n",
    "'''\n",
    "\n",
    "def missing_values(df):\n",
    "    return df.isna().sum() \n",
    "    \n",
    "missVals_train_df = missing_values(train_df)\n",
    "missVals_test_df = missing_values(test_df)"
   ]
  },
  {
   "cell_type": "code",
   "execution_count": 10,
   "id": "beaa5dbf",
   "metadata": {},
   "outputs": [
    {
     "data": {
      "text/plain": [
       "Loan_ID               0\n",
       "Gender               13\n",
       "Married               3\n",
       "Dependents           15\n",
       "Education             0\n",
       "Self_Employed        32\n",
       "ApplicantIncome       0\n",
       "CoapplicantIncome     0\n",
       "LoanAmount           22\n",
       "Loan_Amount_Term     14\n",
       "Credit_History       50\n",
       "Property_Area         0\n",
       "Loan_Status           0\n",
       "dtype: int64"
      ]
     },
     "execution_count": 10,
     "metadata": {},
     "output_type": "execute_result"
    }
   ],
   "source": [
    "missVals_train_df # --- Missing Values for our training dataset"
   ]
  },
  {
   "cell_type": "code",
   "execution_count": 11,
   "id": "1a222a94",
   "metadata": {},
   "outputs": [
    {
     "data": {
      "text/plain": [
       "Loan_ID               0\n",
       "Gender               11\n",
       "Married               0\n",
       "Dependents           10\n",
       "Education             0\n",
       "Self_Employed        23\n",
       "ApplicantIncome       0\n",
       "CoapplicantIncome     0\n",
       "LoanAmount            5\n",
       "Loan_Amount_Term      6\n",
       "Credit_History       29\n",
       "Property_Area         0\n",
       "dtype: int64"
      ]
     },
     "execution_count": 11,
     "metadata": {},
     "output_type": "execute_result"
    }
   ],
   "source": [
    "missVals_test_df # --- Missing Values for our testing data"
   ]
  },
  {
   "cell_type": "markdown",
   "id": "79a0de21",
   "metadata": {},
   "source": [
    "**Handling missing Values**\n",
    "\n",
    "\n",
    "Now that we know which columns contains are missing values, we can fill them in accordingly. The reason I don't see why we need to drop these rows is because there is not a big enough number to drop these rows. If there were more than 100 NA values per column, we can drop them.\n",
    "\n",
    "\n",
    "We will handle each column individually.\n",
    "\n"
   ]
  },
  {
   "cell_type": "code",
   "execution_count": 12,
   "id": "742c7de5",
   "metadata": {},
   "outputs": [
    {
     "data": {
      "text/html": [
       "<div>\n",
       "<style scoped>\n",
       "    .dataframe tbody tr th:only-of-type {\n",
       "        vertical-align: middle;\n",
       "    }\n",
       "\n",
       "    .dataframe tbody tr th {\n",
       "        vertical-align: top;\n",
       "    }\n",
       "\n",
       "    .dataframe thead th {\n",
       "        text-align: right;\n",
       "    }\n",
       "</style>\n",
       "<table border=\"1\" class=\"dataframe\">\n",
       "  <thead>\n",
       "    <tr style=\"text-align: right;\">\n",
       "      <th></th>\n",
       "      <th>count</th>\n",
       "      <th>unique</th>\n",
       "      <th>top</th>\n",
       "      <th>freq</th>\n",
       "    </tr>\n",
       "  </thead>\n",
       "  <tbody>\n",
       "    <tr>\n",
       "      <th>Loan_ID</th>\n",
       "      <td>614</td>\n",
       "      <td>614</td>\n",
       "      <td>LP001002</td>\n",
       "      <td>1</td>\n",
       "    </tr>\n",
       "    <tr>\n",
       "      <th>Gender</th>\n",
       "      <td>601</td>\n",
       "      <td>2</td>\n",
       "      <td>Male</td>\n",
       "      <td>489</td>\n",
       "    </tr>\n",
       "    <tr>\n",
       "      <th>Married</th>\n",
       "      <td>611</td>\n",
       "      <td>2</td>\n",
       "      <td>Yes</td>\n",
       "      <td>398</td>\n",
       "    </tr>\n",
       "    <tr>\n",
       "      <th>Dependents</th>\n",
       "      <td>599</td>\n",
       "      <td>4</td>\n",
       "      <td>0</td>\n",
       "      <td>345</td>\n",
       "    </tr>\n",
       "    <tr>\n",
       "      <th>Education</th>\n",
       "      <td>614</td>\n",
       "      <td>2</td>\n",
       "      <td>Graduate</td>\n",
       "      <td>480</td>\n",
       "    </tr>\n",
       "    <tr>\n",
       "      <th>Self_Employed</th>\n",
       "      <td>582</td>\n",
       "      <td>2</td>\n",
       "      <td>No</td>\n",
       "      <td>500</td>\n",
       "    </tr>\n",
       "    <tr>\n",
       "      <th>ApplicantIncome</th>\n",
       "      <td>614</td>\n",
       "      <td>505</td>\n",
       "      <td>2500</td>\n",
       "      <td>9</td>\n",
       "    </tr>\n",
       "    <tr>\n",
       "      <th>CoapplicantIncome</th>\n",
       "      <td>614.0</td>\n",
       "      <td>287.0</td>\n",
       "      <td>0.0</td>\n",
       "      <td>273.0</td>\n",
       "    </tr>\n",
       "    <tr>\n",
       "      <th>LoanAmount</th>\n",
       "      <td>592.0</td>\n",
       "      <td>203.0</td>\n",
       "      <td>120.0</td>\n",
       "      <td>20.0</td>\n",
       "    </tr>\n",
       "    <tr>\n",
       "      <th>Loan_Amount_Term</th>\n",
       "      <td>600.0</td>\n",
       "      <td>10.0</td>\n",
       "      <td>360.0</td>\n",
       "      <td>512.0</td>\n",
       "    </tr>\n",
       "    <tr>\n",
       "      <th>Credit_History</th>\n",
       "      <td>564.0</td>\n",
       "      <td>2.0</td>\n",
       "      <td>1.0</td>\n",
       "      <td>475.0</td>\n",
       "    </tr>\n",
       "    <tr>\n",
       "      <th>Property_Area</th>\n",
       "      <td>614</td>\n",
       "      <td>3</td>\n",
       "      <td>Semiurban</td>\n",
       "      <td>233</td>\n",
       "    </tr>\n",
       "    <tr>\n",
       "      <th>Loan_Status</th>\n",
       "      <td>614</td>\n",
       "      <td>2</td>\n",
       "      <td>Y</td>\n",
       "      <td>422</td>\n",
       "    </tr>\n",
       "  </tbody>\n",
       "</table>\n",
       "</div>"
      ],
      "text/plain": [
       "                   count unique        top   freq\n",
       "Loan_ID              614    614   LP001002      1\n",
       "Gender               601      2       Male    489\n",
       "Married              611      2        Yes    398\n",
       "Dependents           599      4          0    345\n",
       "Education            614      2   Graduate    480\n",
       "Self_Employed        582      2         No    500\n",
       "ApplicantIncome      614    505       2500      9\n",
       "CoapplicantIncome  614.0  287.0        0.0  273.0\n",
       "LoanAmount         592.0  203.0      120.0   20.0\n",
       "Loan_Amount_Term   600.0   10.0      360.0  512.0\n",
       "Credit_History     564.0    2.0        1.0  475.0\n",
       "Property_Area        614      3  Semiurban    233\n",
       "Loan_Status          614      2          Y    422"
      ]
     },
     "execution_count": 12,
     "metadata": {},
     "output_type": "execute_result"
    }
   ],
   "source": [
    "train_df.astype('object').describe().transpose()"
   ]
  },
  {
   "cell_type": "markdown",
   "id": "9da05e29",
   "metadata": {},
   "source": [
    "<!-- ---- Created March 4, 2022 -->\n",
    "As we can see from our above figure, each column has a different representation of values, we will fill the columns with NA values with their respected top value.\n",
    "\n",
    "**NOTE: COLUMNS WITH NA VALUES IS WHERE THE COUNT IS LESS THAN 614**\n",
    "\n",
    "\n",
    "- Gender:\n",
    "    - Fill in the values with MALE\n",
    "- Married:\n",
    "    - Fill in the values with YES\n",
    "- Dependents:\n",
    "    - Fill in with 0 \n",
    "- Self Employed:\n",
    "    - Fill in with NO \n",
    "- Loan Amount:\n",
    "    - Fill in with median value; don't want to skew the results with the top amount\n",
    "- Loan Amount Term:\n",
    "    - Fill in with median value; don't want to skew the results with the top amount\n",
    "- Credit History\n",
    "    - Use forward filling\n",
    "    \n",
    "<br>\n",
    "\n",
    "We will begin working with the train dataframe first.\n",
    "- Will not create a new variable to hold this new dataframe of values\n",
    "- Will be using inplace to replace values in real time"
   ]
  },
  {
   "cell_type": "code",
   "execution_count": 13,
   "id": "a8ec0a94",
   "metadata": {},
   "outputs": [
    {
     "data": {
      "text/plain": [
       "False"
      ]
     },
     "execution_count": 13,
     "metadata": {},
     "output_type": "execute_result"
    }
   ],
   "source": [
    "train_df['Gender'].fillna(                  # REPLACE NA WITH MALE\n",
    "    'Male', \n",
    "    inplace = True)\n",
    "\n",
    "train_df['Gender'].isna().values.any()      # SHOULD RETURN FALSE"
   ]
  },
  {
   "cell_type": "code",
   "execution_count": 14,
   "id": "f8f8a0fa",
   "metadata": {},
   "outputs": [
    {
     "data": {
      "text/plain": [
       "False"
      ]
     },
     "execution_count": 14,
     "metadata": {},
     "output_type": "execute_result"
    }
   ],
   "source": [
    "train_df['Married'].fillna(                  # REPLACE NA WITH YES\n",
    "    'Yes', \n",
    "    inplace = True) \n",
    "\n",
    "train_df['Married'].isna().values.any()      # SHOULD RETURN FALSE\n"
   ]
  },
  {
   "cell_type": "code",
   "execution_count": 15,
   "id": "e60bfdc0",
   "metadata": {},
   "outputs": [
    {
     "data": {
      "text/plain": [
       "False"
      ]
     },
     "execution_count": 15,
     "metadata": {},
     "output_type": "execute_result"
    }
   ],
   "source": [
    "train_df['Dependents'].fillna(              # REPLACE NA WITH 0\n",
    "    0,\n",
    "    inplace = True)\n",
    "\n",
    "train_df['Dependents'].isna().values.any()  # SHOULD RETURN FALSE\n"
   ]
  },
  {
   "cell_type": "code",
   "execution_count": 16,
   "id": "e5792e4e",
   "metadata": {},
   "outputs": [
    {
     "data": {
      "text/plain": [
       "False"
      ]
     },
     "execution_count": 16,
     "metadata": {},
     "output_type": "execute_result"
    }
   ],
   "source": [
    "train_df['Self_Employed'].fillna(             # REPLACE NA WITH NO\n",
    "    'No', \n",
    "    inplace = True)\n",
    "\n",
    "train_df['Self_Employed'].isna().values.any() # SHOULD RETURN FALSE\n"
   ]
  },
  {
   "cell_type": "code",
   "execution_count": 17,
   "id": "f59e2caa",
   "metadata": {},
   "outputs": [
    {
     "data": {
      "text/plain": [
       "False"
      ]
     },
     "execution_count": 17,
     "metadata": {},
     "output_type": "execute_result"
    }
   ],
   "source": [
    "train_df['LoanAmount'].fillna(               # REPLACE NA WITH MEDIAN\n",
    "    train_df['LoanAmount'].median(), \n",
    "    inplace = True)\n",
    "\n",
    "train_df['LoanAmount'].isna().values.any()   # SHOULD RETURN FALSE\n"
   ]
  },
  {
   "cell_type": "code",
   "execution_count": 18,
   "id": "81b1b472",
   "metadata": {},
   "outputs": [
    {
     "data": {
      "text/plain": [
       "False"
      ]
     },
     "execution_count": 18,
     "metadata": {},
     "output_type": "execute_result"
    }
   ],
   "source": [
    "train_df['Loan_Amount_Term'].fillna(              # REPLACE NA WITH MEDIAN\n",
    "    train_df['Loan_Amount_Term'].median(), \n",
    "    inplace = True) \n",
    "\n",
    "train_df['Loan_Amount_Term'].isna().values.any()  # SHOULD RETURN FALSE\n"
   ]
  },
  {
   "cell_type": "code",
   "execution_count": 19,
   "id": "4cda368b",
   "metadata": {},
   "outputs": [
    {
     "data": {
      "text/plain": [
       "False"
      ]
     },
     "execution_count": 19,
     "metadata": {},
     "output_type": "execute_result"
    }
   ],
   "source": [
    "train_df['Credit_History'].fillna(               # REPLACE NA WITH FFILL\n",
    "    method = 'ffill', \n",
    "    inplace = True)\n",
    "\n",
    "train_df['Credit_History'].isna().values.any()   # SHOULD RETURN FALSE\n"
   ]
  },
  {
   "cell_type": "markdown",
   "id": "a22c47dd",
   "metadata": {},
   "source": [
    "Lets check our dataframe to make sure there are no more missing values."
   ]
  },
  {
   "cell_type": "code",
   "execution_count": 20,
   "id": "3ccd9e66",
   "metadata": {},
   "outputs": [
    {
     "data": {
      "text/plain": [
       "Loan_ID              0\n",
       "Gender               0\n",
       "Married              0\n",
       "Dependents           0\n",
       "Education            0\n",
       "Self_Employed        0\n",
       "ApplicantIncome      0\n",
       "CoapplicantIncome    0\n",
       "LoanAmount           0\n",
       "Loan_Amount_Term     0\n",
       "Credit_History       0\n",
       "Property_Area        0\n",
       "Loan_Status          0\n",
       "dtype: int64"
      ]
     },
     "execution_count": 20,
     "metadata": {},
     "output_type": "execute_result"
    }
   ],
   "source": [
    "train_df.isna().sum()"
   ]
  },
  {
   "cell_type": "markdown",
   "id": "bffbaa74",
   "metadata": {},
   "source": [
    "We have now finished replacing the missing values in our train data frame.\n",
    "\n",
    "\n",
    "Since we are working with 2 datasets (train & test), we want to make sure our test data frame also doesn't have any NA values. If it does, same process as above.\n",
    "\n",
    "\n",
    "Lets see what columns have NA values, and fill them accordingly like we did for our train dataframe.\n",
    "\n",
    "\n",
    "**Note: Our total count for values in this set is 367**"
   ]
  },
  {
   "cell_type": "code",
   "execution_count": 21,
   "id": "010aeca1",
   "metadata": {},
   "outputs": [
    {
     "data": {
      "text/html": [
       "<div>\n",
       "<style scoped>\n",
       "    .dataframe tbody tr th:only-of-type {\n",
       "        vertical-align: middle;\n",
       "    }\n",
       "\n",
       "    .dataframe tbody tr th {\n",
       "        vertical-align: top;\n",
       "    }\n",
       "\n",
       "    .dataframe thead th {\n",
       "        text-align: right;\n",
       "    }\n",
       "</style>\n",
       "<table border=\"1\" class=\"dataframe\">\n",
       "  <thead>\n",
       "    <tr style=\"text-align: right;\">\n",
       "      <th></th>\n",
       "      <th>count</th>\n",
       "      <th>unique</th>\n",
       "      <th>top</th>\n",
       "      <th>freq</th>\n",
       "    </tr>\n",
       "  </thead>\n",
       "  <tbody>\n",
       "    <tr>\n",
       "      <th>Loan_ID</th>\n",
       "      <td>367</td>\n",
       "      <td>367</td>\n",
       "      <td>LP001015</td>\n",
       "      <td>1</td>\n",
       "    </tr>\n",
       "    <tr>\n",
       "      <th>Gender</th>\n",
       "      <td>356</td>\n",
       "      <td>2</td>\n",
       "      <td>Male</td>\n",
       "      <td>286</td>\n",
       "    </tr>\n",
       "    <tr>\n",
       "      <th>Married</th>\n",
       "      <td>367</td>\n",
       "      <td>2</td>\n",
       "      <td>Yes</td>\n",
       "      <td>233</td>\n",
       "    </tr>\n",
       "    <tr>\n",
       "      <th>Dependents</th>\n",
       "      <td>357</td>\n",
       "      <td>4</td>\n",
       "      <td>0</td>\n",
       "      <td>200</td>\n",
       "    </tr>\n",
       "    <tr>\n",
       "      <th>Education</th>\n",
       "      <td>367</td>\n",
       "      <td>2</td>\n",
       "      <td>Graduate</td>\n",
       "      <td>283</td>\n",
       "    </tr>\n",
       "    <tr>\n",
       "      <th>Self_Employed</th>\n",
       "      <td>344</td>\n",
       "      <td>2</td>\n",
       "      <td>No</td>\n",
       "      <td>307</td>\n",
       "    </tr>\n",
       "    <tr>\n",
       "      <th>ApplicantIncome</th>\n",
       "      <td>367</td>\n",
       "      <td>314</td>\n",
       "      <td>5000</td>\n",
       "      <td>6</td>\n",
       "    </tr>\n",
       "    <tr>\n",
       "      <th>CoapplicantIncome</th>\n",
       "      <td>367</td>\n",
       "      <td>194</td>\n",
       "      <td>0</td>\n",
       "      <td>156</td>\n",
       "    </tr>\n",
       "    <tr>\n",
       "      <th>LoanAmount</th>\n",
       "      <td>362.0</td>\n",
       "      <td>144.0</td>\n",
       "      <td>150.0</td>\n",
       "      <td>12.0</td>\n",
       "    </tr>\n",
       "    <tr>\n",
       "      <th>Loan_Amount_Term</th>\n",
       "      <td>361.0</td>\n",
       "      <td>12.0</td>\n",
       "      <td>360.0</td>\n",
       "      <td>311.0</td>\n",
       "    </tr>\n",
       "    <tr>\n",
       "      <th>Credit_History</th>\n",
       "      <td>338.0</td>\n",
       "      <td>2.0</td>\n",
       "      <td>1.0</td>\n",
       "      <td>279.0</td>\n",
       "    </tr>\n",
       "    <tr>\n",
       "      <th>Property_Area</th>\n",
       "      <td>367</td>\n",
       "      <td>3</td>\n",
       "      <td>Urban</td>\n",
       "      <td>140</td>\n",
       "    </tr>\n",
       "  </tbody>\n",
       "</table>\n",
       "</div>"
      ],
      "text/plain": [
       "                   count unique       top   freq\n",
       "Loan_ID              367    367  LP001015      1\n",
       "Gender               356      2      Male    286\n",
       "Married              367      2       Yes    233\n",
       "Dependents           357      4         0    200\n",
       "Education            367      2  Graduate    283\n",
       "Self_Employed        344      2        No    307\n",
       "ApplicantIncome      367    314      5000      6\n",
       "CoapplicantIncome    367    194         0    156\n",
       "LoanAmount         362.0  144.0     150.0   12.0\n",
       "Loan_Amount_Term   361.0   12.0     360.0  311.0\n",
       "Credit_History     338.0    2.0       1.0  279.0\n",
       "Property_Area        367      3     Urban    140"
      ]
     },
     "execution_count": 21,
     "metadata": {},
     "output_type": "execute_result"
    }
   ],
   "source": [
    "test_df.astype('object').describe().transpose()"
   ]
  },
  {
   "cell_type": "markdown",
   "id": "556cb0ac",
   "metadata": {},
   "source": [
    "<!-- Created March 5, 2022 -->\n",
    "\n",
    "This is how we will fill our test dataframe NA values:\n",
    "- Gender with MALE\n",
    "- Dependents with 0\n",
    "- Self Employed with NO\n",
    "- Loan Amount with Median\n",
    "- Loan Amount Term with Median\n",
    "- Credit History with 1\n"
   ]
  },
  {
   "cell_type": "code",
   "execution_count": 22,
   "id": "ff35c133",
   "metadata": {},
   "outputs": [
    {
     "data": {
      "text/plain": [
       "False"
      ]
     },
     "execution_count": 22,
     "metadata": {},
     "output_type": "execute_result"
    }
   ],
   "source": [
    "test_df['Gender'].fillna(\n",
    "    'Male',\n",
    "    inplace = True)\n",
    "\n",
    "test_df['Gender'].isna().values.any()"
   ]
  },
  {
   "cell_type": "code",
   "execution_count": 23,
   "id": "59cdd558",
   "metadata": {},
   "outputs": [
    {
     "data": {
      "text/plain": [
       "False"
      ]
     },
     "execution_count": 23,
     "metadata": {},
     "output_type": "execute_result"
    }
   ],
   "source": [
    "test_df['Dependents'].fillna(\n",
    "    '0',\n",
    "    inplace = True)\n",
    "\n",
    "test_df['Dependents'].isna().values.any()"
   ]
  },
  {
   "cell_type": "code",
   "execution_count": 24,
   "id": "05468abb",
   "metadata": {},
   "outputs": [
    {
     "data": {
      "text/plain": [
       "False"
      ]
     },
     "execution_count": 24,
     "metadata": {},
     "output_type": "execute_result"
    }
   ],
   "source": [
    "test_df['Self_Employed'].fillna(\n",
    "    'No',\n",
    "    inplace = True)\n",
    "\n",
    "test_df['Self_Employed'].isna().values.any()"
   ]
  },
  {
   "cell_type": "code",
   "execution_count": 25,
   "id": "bd083ea3",
   "metadata": {},
   "outputs": [
    {
     "data": {
      "text/plain": [
       "False"
      ]
     },
     "execution_count": 25,
     "metadata": {},
     "output_type": "execute_result"
    }
   ],
   "source": [
    "test_df['LoanAmount'].fillna(\n",
    "    test_df['LoanAmount'].median(),\n",
    "    inplace = True)\n",
    "\n",
    "test_df['LoanAmount'].isna().values.any()"
   ]
  },
  {
   "cell_type": "code",
   "execution_count": 26,
   "id": "4cdfda25",
   "metadata": {},
   "outputs": [
    {
     "data": {
      "text/plain": [
       "False"
      ]
     },
     "execution_count": 26,
     "metadata": {},
     "output_type": "execute_result"
    }
   ],
   "source": [
    "test_df['Loan_Amount_Term'].fillna(\n",
    "    test_df['Loan_Amount_Term'].median(),\n",
    "    inplace = True)\n",
    "\n",
    "test_df['Loan_Amount_Term'].isna().values.any()"
   ]
  },
  {
   "cell_type": "code",
   "execution_count": 27,
   "id": "52ba1e41",
   "metadata": {},
   "outputs": [
    {
     "data": {
      "text/plain": [
       "False"
      ]
     },
     "execution_count": 27,
     "metadata": {},
     "output_type": "execute_result"
    }
   ],
   "source": [
    "test_df['Credit_History'].fillna(\n",
    "    1,\n",
    "    inplace = True)\n",
    "\n",
    "test_df['Credit_History'].isna().values.any()"
   ]
  },
  {
   "cell_type": "markdown",
   "id": "668d31e5",
   "metadata": {},
   "source": [
    "Now lets check our test dataframe to make sure that the columns do not contain any NA values."
   ]
  },
  {
   "cell_type": "code",
   "execution_count": 28,
   "id": "4463dcee",
   "metadata": {},
   "outputs": [
    {
     "data": {
      "text/plain": [
       "Loan_ID              0\n",
       "Gender               0\n",
       "Married              0\n",
       "Dependents           0\n",
       "Education            0\n",
       "Self_Employed        0\n",
       "ApplicantIncome      0\n",
       "CoapplicantIncome    0\n",
       "LoanAmount           0\n",
       "Loan_Amount_Term     0\n",
       "Credit_History       0\n",
       "Property_Area        0\n",
       "dtype: int64"
      ]
     },
     "execution_count": 28,
     "metadata": {},
     "output_type": "execute_result"
    }
   ],
   "source": [
    "test_df.isna().sum()"
   ]
  },
  {
   "cell_type": "markdown",
   "id": "cfadbe02",
   "metadata": {},
   "source": [
    "Awesome, lets move on to the next section in our Loan Prediction project."
   ]
  },
  {
   "cell_type": "markdown",
   "id": "476a5efa",
   "metadata": {},
   "source": [
    "### Exploratory Data Analysis \n",
    "- **using Data Visualiation**"
   ]
  },
  {
   "cell_type": "markdown",
   "id": "16a2331e",
   "metadata": {},
   "source": [
    "Now that we finished preliminary work:\n",
    "- Viewing our data\n",
    "- Filling in any NA values\n",
    "\n",
    "\n",
    "We can begin doing Exploratory Data Analysis to see view in more detail what are data is trying to tell us. \n",
    "\n",
    "\n",
    "Doing EDA, allows us to have a better comprehension of how our data stacks up. How each column is interacting with each other, etc.."
   ]
  },
  {
   "cell_type": "markdown",
   "id": "58d655e2",
   "metadata": {},
   "source": [
    "Again, we will be using our training dataset as this is what we are working with."
   ]
  },
  {
   "cell_type": "code",
   "execution_count": 42,
   "id": "e7655815",
   "metadata": {},
   "outputs": [
    {
     "data": {
      "text/html": [
       "<div>\n",
       "<style scoped>\n",
       "    .dataframe tbody tr th:only-of-type {\n",
       "        vertical-align: middle;\n",
       "    }\n",
       "\n",
       "    .dataframe tbody tr th {\n",
       "        vertical-align: top;\n",
       "    }\n",
       "\n",
       "    .dataframe thead th {\n",
       "        text-align: right;\n",
       "    }\n",
       "</style>\n",
       "<table border=\"1\" class=\"dataframe\">\n",
       "  <thead>\n",
       "    <tr style=\"text-align: right;\">\n",
       "      <th></th>\n",
       "      <th>Loan_ID</th>\n",
       "      <th>Gender</th>\n",
       "      <th>Married</th>\n",
       "      <th>Dependents</th>\n",
       "      <th>Education</th>\n",
       "      <th>Self_Employed</th>\n",
       "      <th>ApplicantIncome</th>\n",
       "      <th>CoapplicantIncome</th>\n",
       "      <th>LoanAmount</th>\n",
       "      <th>Loan_Amount_Term</th>\n",
       "      <th>Credit_History</th>\n",
       "      <th>Property_Area</th>\n",
       "      <th>Loan_Status</th>\n",
       "    </tr>\n",
       "  </thead>\n",
       "  <tbody>\n",
       "    <tr>\n",
       "      <th>0</th>\n",
       "      <td>LP001002</td>\n",
       "      <td>Male</td>\n",
       "      <td>No</td>\n",
       "      <td>0</td>\n",
       "      <td>Graduate</td>\n",
       "      <td>No</td>\n",
       "      <td>5849</td>\n",
       "      <td>0.0</td>\n",
       "      <td>NaN</td>\n",
       "      <td>360.0</td>\n",
       "      <td>1.0</td>\n",
       "      <td>Urban</td>\n",
       "      <td>Y</td>\n",
       "    </tr>\n",
       "    <tr>\n",
       "      <th>1</th>\n",
       "      <td>LP001003</td>\n",
       "      <td>Male</td>\n",
       "      <td>Yes</td>\n",
       "      <td>1</td>\n",
       "      <td>Graduate</td>\n",
       "      <td>No</td>\n",
       "      <td>4583</td>\n",
       "      <td>1508.0</td>\n",
       "      <td>128.0</td>\n",
       "      <td>360.0</td>\n",
       "      <td>1.0</td>\n",
       "      <td>Rural</td>\n",
       "      <td>N</td>\n",
       "    </tr>\n",
       "    <tr>\n",
       "      <th>2</th>\n",
       "      <td>LP001005</td>\n",
       "      <td>Male</td>\n",
       "      <td>Yes</td>\n",
       "      <td>0</td>\n",
       "      <td>Graduate</td>\n",
       "      <td>Yes</td>\n",
       "      <td>3000</td>\n",
       "      <td>0.0</td>\n",
       "      <td>66.0</td>\n",
       "      <td>360.0</td>\n",
       "      <td>1.0</td>\n",
       "      <td>Urban</td>\n",
       "      <td>Y</td>\n",
       "    </tr>\n",
       "    <tr>\n",
       "      <th>3</th>\n",
       "      <td>LP001006</td>\n",
       "      <td>Male</td>\n",
       "      <td>Yes</td>\n",
       "      <td>0</td>\n",
       "      <td>Not Graduate</td>\n",
       "      <td>No</td>\n",
       "      <td>2583</td>\n",
       "      <td>2358.0</td>\n",
       "      <td>120.0</td>\n",
       "      <td>360.0</td>\n",
       "      <td>1.0</td>\n",
       "      <td>Urban</td>\n",
       "      <td>Y</td>\n",
       "    </tr>\n",
       "    <tr>\n",
       "      <th>4</th>\n",
       "      <td>LP001008</td>\n",
       "      <td>Male</td>\n",
       "      <td>No</td>\n",
       "      <td>0</td>\n",
       "      <td>Graduate</td>\n",
       "      <td>No</td>\n",
       "      <td>6000</td>\n",
       "      <td>0.0</td>\n",
       "      <td>141.0</td>\n",
       "      <td>360.0</td>\n",
       "      <td>1.0</td>\n",
       "      <td>Urban</td>\n",
       "      <td>Y</td>\n",
       "    </tr>\n",
       "  </tbody>\n",
       "</table>\n",
       "</div>"
      ],
      "text/plain": [
       "    Loan_ID Gender Married Dependents     Education Self_Employed  \\\n",
       "0  LP001002   Male      No          0      Graduate            No   \n",
       "1  LP001003   Male     Yes          1      Graduate            No   \n",
       "2  LP001005   Male     Yes          0      Graduate           Yes   \n",
       "3  LP001006   Male     Yes          0  Not Graduate            No   \n",
       "4  LP001008   Male      No          0      Graduate            No   \n",
       "\n",
       "   ApplicantIncome  CoapplicantIncome  LoanAmount  Loan_Amount_Term  \\\n",
       "0             5849                0.0         NaN             360.0   \n",
       "1             4583             1508.0       128.0             360.0   \n",
       "2             3000                0.0        66.0             360.0   \n",
       "3             2583             2358.0       120.0             360.0   \n",
       "4             6000                0.0       141.0             360.0   \n",
       "\n",
       "   Credit_History Property_Area Loan_Status  \n",
       "0             1.0         Urban           Y  \n",
       "1             1.0         Rural           N  \n",
       "2             1.0         Urban           Y  \n",
       "3             1.0         Urban           Y  \n",
       "4             1.0         Urban           Y  "
      ]
     },
     "execution_count": 42,
     "metadata": {},
     "output_type": "execute_result"
    }
   ],
   "source": [
    "''' Created March 6, 2022\n",
    "\n",
    "Visualizations:\n",
    "- Correlation plot\n",
    "- Subplots on loan status\n",
    "\n",
    "\n",
    "-- DON'T WANT TO SPEND TO MUCH TIME ON VISUALS/EDA\n",
    "'''\n",
    "\n",
    "show_dataframe(train_df) # VIEW OUR DATA FOR REMEMBRANCE"
   ]
  },
  {
   "cell_type": "code",
   "execution_count": 49,
   "id": "afd01ec3",
   "metadata": {},
   "outputs": [
    {
     "data": {
      "image/png": "[encoded data removed]",
      "text/plain": [
       "<Figure size 1152x432 with 2 Axes>"
      ]
     },
     "metadata": {
      "needs_background": "light"
     },
     "output_type": "display_data"
    }
   ],
   "source": [
    "def show_correlations(df, title):\n",
    "    \n",
    "    plt.figure(figsize = (16, 6)) # SET FIG SIZE\n",
    "    \n",
    "    heatmap = sns.heatmap(        # INIT HEATMAP OBJECT\n",
    "        df.corr(),                # TYPE OF HEATMAP (CORRELATION)\n",
    "        annot = True,             # TRUE TO WRITE DATA IN CELL\n",
    "        cmap = 'rocket'             # COLORMAP NAME\n",
    "    )\n",
    "    \n",
    "    heatmap.set_title(            # INIT TITLE OBJECT\n",
    "        title,                    # GIVE TITLE AS INPUT (STRING FORMAT)\n",
    "        fontdict={'fontsize':18}  # GIVE COMMANDS FOR FONT DICT\n",
    "    )\n",
    "\n",
    "show_correlations(train_df, 'Correlations on Categorical Values')"
   ]
  },
  {
   "cell_type": "code",
   "execution_count": null,
   "id": "86af1341",
   "metadata": {},
   "outputs": [],
   "source": []
  }
 ],
 "metadata": {
  "kernelspec": {
   "display_name": "Python 3",
   "language": "python",
   "name": "python3"
  },
  "language_info": {
   "codemirror_mode": {
    "name": "ipython",
    "version": 3
   },
   "file_extension": ".py",
   "mimetype": "text/x-python",
   "name": "python",
   "nbconvert_exporter": "python",
   "pygments_lexer": "ipython3",
   "version": "3.8.5"
  }
 },
 "nbformat": 4,
 "nbformat_minor": 5
}
