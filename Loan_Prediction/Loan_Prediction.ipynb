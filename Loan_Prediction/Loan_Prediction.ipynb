{
 "cells": [
  {
   "cell_type": "markdown",
   "id": "c2dd1c1f",
   "metadata": {},
   "source": [
    "# Loan Prediction"
   ]
  },
  {
   "cell_type": "markdown",
   "id": "d5863bda",
   "metadata": {},
   "source": [
    "In this analysis we will be doing a loan prediction project using various algorithms to determine which is the best. \n",
    "\n",
    "<br>\n",
    "\n",
    "The goal is to predict which customers have the 'right stuff' to get a loan from a bank. \n",
    "\n",
    "<br>\n",
    "\n",
    "During this process, I will be sure to explain the machine learning algorithms used and provide resources that were used and for an in depth understanding. \n",
    "\n",
    "\n",
    "Follow along here:\n",
    "- [Github](https://github.com/iamAngelSH)\n",
    "- [Twitter](https://twitter.com/iamAngelSH)"
   ]
  },
  {
   "cell_type": "markdown",
   "id": "231d87da",
   "metadata": {},
   "source": [
    "### Import Libraries\n",
    "\n",
    "<br>\n",
    "\n",
    "Here will be all the libraries used for this project. \n",
    "- Depening on the time you see this, libraries will be added. \n",
    "- They will all be kept and organized accordingly here."
   ]
  },
  {
   "cell_type": "code",
   "execution_count": 1,
   "id": "9fb0370e",
   "metadata": {},
   "outputs": [],
   "source": [
    "'''\n",
    "Data Visualization and Data Analysis\n",
    "- Updated on March 1st, 2022\n",
    "'''\n",
    "import pandas as pd\n",
    "import numpy as np\n",
    "import matplotlib.pyplot as plt\n",
    "import seaborn as sns\n",
    "\n",
    "\n",
    "'''\n",
    "Data Pre-processing/metrics\n",
    "- Updated on March 8, 9th, 2022\n",
    "'''\n",
    "from sklearn.preprocessing import LabelEncoder\n",
    "from sklearn.model_selection import train_test_split\n",
    "from sklearn.metrics import confusion_matrix\n",
    "from sklearn.metrics import classification_report\n",
    "from sklearn import metrics\n",
    "from sklearn.metrics import accuracy_score\n",
    "from sklearn.model_selection import GridSearchCV\n",
    "\n",
    "'''\n",
    "Machine Learning Models\n",
    "- Updated on March 9th, 2022\n",
    "'''\n",
    "from sklearn.tree import DecisionTreeClassifier\n",
    "from sklearn.ensemble import RandomForestClassifier\n",
    "from sklearn.linear_model import LogisticRegression"
   ]
  },
  {
   "cell_type": "markdown",
   "id": "0ad21b4b",
   "metadata": {},
   "source": [
    "**Our first order of business is to get the data and assign it to our resepected variables.**\n",
    "\n",
    "<br>\n",
    "\n",
    "For this I will be creating a function that will get the data and return the files we need.\n",
    "- Specifically for this project we will be using two datasets\n",
    "    - Training data\n",
    "    - Testing data"
   ]
  },
  {
   "cell_type": "code",
   "execution_count": 2,
   "id": "a616916a",
   "metadata": {},
   "outputs": [],
   "source": [
    "'''\n",
    "Created March 1, 2022\n",
    "'''\n",
    "\n",
    "def get_files(url):\n",
    "    df = pd.read_csv(url)\n",
    "    \n",
    "    \n",
    "    # RETURN OUR DATA FRAMES \n",
    "    return df\n",
    "\n",
    "\n",
    "data1 = 'Data/train.csv'\n",
    "data2 = 'Data/test.csv'\n",
    "\n",
    "train_df = get_files(data1)\n",
    "test_df = get_files(data2)"
   ]
  },
  {
   "cell_type": "markdown",
   "id": "b6ccd3ee",
   "metadata": {},
   "source": [
    "### Preliminary Data Analysis\n",
    "\n",
    "\n",
    "\n",
    "<br>\n",
    "\n",
    "We will be conducting preliminary data analysis which includes:\n",
    "- Previewing the data\n",
    "- Looking at the structure of our data\n",
    "- Looking at our columns\n",
    "- Looking at our missing values\n",
    "    - Filling in missing values appropriately\n",
    "\n"
   ]
  },
  {
   "cell_type": "code",
   "execution_count": 3,
   "id": "d88426dc",
   "metadata": {
    "scrolled": false
   },
   "outputs": [
    {
     "data": {
      "text/html": [
       "<div>\n",
       "<style scoped>\n",
       "    .dataframe tbody tr th:only-of-type {\n",
       "        vertical-align: middle;\n",
       "    }\n",
       "\n",
       "    .dataframe tbody tr th {\n",
       "        vertical-align: top;\n",
       "    }\n",
       "\n",
       "    .dataframe thead th {\n",
       "        text-align: right;\n",
       "    }\n",
       "</style>\n",
       "<table border=\"1\" class=\"dataframe\">\n",
       "  <thead>\n",
       "    <tr style=\"text-align: right;\">\n",
       "      <th></th>\n",
       "      <th>Loan_ID</th>\n",
       "      <th>Gender</th>\n",
       "      <th>Married</th>\n",
       "      <th>Dependents</th>\n",
       "      <th>Education</th>\n",
       "      <th>Self_Employed</th>\n",
       "      <th>ApplicantIncome</th>\n",
       "      <th>CoapplicantIncome</th>\n",
       "      <th>LoanAmount</th>\n",
       "      <th>Loan_Amount_Term</th>\n",
       "      <th>Credit_History</th>\n",
       "      <th>Property_Area</th>\n",
       "      <th>Loan_Status</th>\n",
       "    </tr>\n",
       "  </thead>\n",
       "  <tbody>\n",
       "    <tr>\n",
       "      <th>0</th>\n",
       "      <td>LP001002</td>\n",
       "      <td>Male</td>\n",
       "      <td>No</td>\n",
       "      <td>0</td>\n",
       "      <td>Graduate</td>\n",
       "      <td>No</td>\n",
       "      <td>5849</td>\n",
       "      <td>0.0</td>\n",
       "      <td>NaN</td>\n",
       "      <td>360.0</td>\n",
       "      <td>1.0</td>\n",
       "      <td>Urban</td>\n",
       "      <td>Y</td>\n",
       "    </tr>\n",
       "    <tr>\n",
       "      <th>1</th>\n",
       "      <td>LP001003</td>\n",
       "      <td>Male</td>\n",
       "      <td>Yes</td>\n",
       "      <td>1</td>\n",
       "      <td>Graduate</td>\n",
       "      <td>No</td>\n",
       "      <td>4583</td>\n",
       "      <td>1508.0</td>\n",
       "      <td>128.0</td>\n",
       "      <td>360.0</td>\n",
       "      <td>1.0</td>\n",
       "      <td>Rural</td>\n",
       "      <td>N</td>\n",
       "    </tr>\n",
       "    <tr>\n",
       "      <th>2</th>\n",
       "      <td>LP001005</td>\n",
       "      <td>Male</td>\n",
       "      <td>Yes</td>\n",
       "      <td>0</td>\n",
       "      <td>Graduate</td>\n",
       "      <td>Yes</td>\n",
       "      <td>3000</td>\n",
       "      <td>0.0</td>\n",
       "      <td>66.0</td>\n",
       "      <td>360.0</td>\n",
       "      <td>1.0</td>\n",
       "      <td>Urban</td>\n",
       "      <td>Y</td>\n",
       "    </tr>\n",
       "    <tr>\n",
       "      <th>3</th>\n",
       "      <td>LP001006</td>\n",
       "      <td>Male</td>\n",
       "      <td>Yes</td>\n",
       "      <td>0</td>\n",
       "      <td>Not Graduate</td>\n",
       "      <td>No</td>\n",
       "      <td>2583</td>\n",
       "      <td>2358.0</td>\n",
       "      <td>120.0</td>\n",
       "      <td>360.0</td>\n",
       "      <td>1.0</td>\n",
       "      <td>Urban</td>\n",
       "      <td>Y</td>\n",
       "    </tr>\n",
       "    <tr>\n",
       "      <th>4</th>\n",
       "      <td>LP001008</td>\n",
       "      <td>Male</td>\n",
       "      <td>No</td>\n",
       "      <td>0</td>\n",
       "      <td>Graduate</td>\n",
       "      <td>No</td>\n",
       "      <td>6000</td>\n",
       "      <td>0.0</td>\n",
       "      <td>141.0</td>\n",
       "      <td>360.0</td>\n",
       "      <td>1.0</td>\n",
       "      <td>Urban</td>\n",
       "      <td>Y</td>\n",
       "    </tr>\n",
       "  </tbody>\n",
       "</table>\n",
       "</div>"
      ],
      "text/plain": [
       "    Loan_ID Gender Married Dependents     Education Self_Employed  \\\n",
       "0  LP001002   Male      No          0      Graduate            No   \n",
       "1  LP001003   Male     Yes          1      Graduate            No   \n",
       "2  LP001005   Male     Yes          0      Graduate           Yes   \n",
       "3  LP001006   Male     Yes          0  Not Graduate            No   \n",
       "4  LP001008   Male      No          0      Graduate            No   \n",
       "\n",
       "   ApplicantIncome  CoapplicantIncome  LoanAmount  Loan_Amount_Term  \\\n",
       "0             5849                0.0         NaN             360.0   \n",
       "1             4583             1508.0       128.0             360.0   \n",
       "2             3000                0.0        66.0             360.0   \n",
       "3             2583             2358.0       120.0             360.0   \n",
       "4             6000                0.0       141.0             360.0   \n",
       "\n",
       "   Credit_History Property_Area Loan_Status  \n",
       "0             1.0         Urban           Y  \n",
       "1             1.0         Rural           N  \n",
       "2             1.0         Urban           Y  \n",
       "3             1.0         Urban           Y  \n",
       "4             1.0         Urban           Y  "
      ]
     },
     "execution_count": 3,
     "metadata": {},
     "output_type": "execute_result"
    }
   ],
   "source": [
    "'''\n",
    "Created March 1, 2022\n",
    "\n",
    "\n",
    "Lets first look at first 5 rows of our data.\n",
    "\n",
    "- For this, I only be using one of our data frames (train_df)\n",
    "'''\n",
    "\n",
    "def show_dataframe(dataframe):\n",
    "    return dataframe.head()\n",
    "\n",
    "show_dataframe(train_df)"
   ]
  },
  {
   "cell_type": "markdown",
   "id": "8bf6dd07",
   "metadata": {},
   "source": [
    "Given that we are working with two different data sets, it is a good idea to see how much data we are working with on each. this will give us a good understanding of how much is provided for us."
   ]
  },
  {
   "cell_type": "code",
   "execution_count": 4,
   "id": "0b77592e",
   "metadata": {},
   "outputs": [
    {
     "name": "stdout",
     "output_type": "stream",
     "text": [
      "Rows in data set: 614 \n",
      "Columns in data set: 13\n",
      "\n",
      "Rows in data set: 367 \n",
      "Columns in data set: 12\n"
     ]
    }
   ],
   "source": [
    "'''\n",
    "Created March 2, 2022\n",
    "\n",
    "Return number of columns and rows in our data frames\n",
    "'''\n",
    "\n",
    "def df_shape(df):\n",
    "    r1 = df.shape[0]\n",
    "    c1 = df.shape[1]\n",
    "\n",
    "        \n",
    "        \n",
    "    print(f'Rows in data set: {r1} \\nColumns in data set: {c1}')\n",
    "    \n",
    "    \n",
    "df_shape(train_df)\n",
    "print()\n",
    "df_shape(test_df)\n"
   ]
  },
  {
   "cell_type": "markdown",
   "id": "0b90d8e1",
   "metadata": {},
   "source": [
    "**Looking at our columns**\n",
    "\n",
    "Since we are working with testing and training data, lets take a look at our column names on both data frames and see if they match, and see what columns we are working with."
   ]
  },
  {
   "cell_type": "code",
   "execution_count": 5,
   "id": "267ac21f",
   "metadata": {},
   "outputs": [],
   "source": [
    "'''\n",
    "Created March 2, 2022\n",
    "\n",
    "Looking at the columns for our testing and training data\n",
    "'''\n",
    "\n",
    "def look_at_columns(df):\n",
    "    return list(df.columns)\n",
    "\n",
    "col_train_df = look_at_columns(train_df)\n",
    "col_test_df = look_at_columns(test_df)"
   ]
  },
  {
   "cell_type": "code",
   "execution_count": 6,
   "id": "e8af8d2d",
   "metadata": {
    "scrolled": true
   },
   "outputs": [
    {
     "data": {
      "text/plain": [
       "['Loan_ID',\n",
       " 'Gender',\n",
       " 'Married',\n",
       " 'Dependents',\n",
       " 'Education',\n",
       " 'Self_Employed',\n",
       " 'ApplicantIncome',\n",
       " 'CoapplicantIncome',\n",
       " 'LoanAmount',\n",
       " 'Loan_Amount_Term',\n",
       " 'Credit_History',\n",
       " 'Property_Area',\n",
       " 'Loan_Status']"
      ]
     },
     "execution_count": 6,
     "metadata": {},
     "output_type": "execute_result"
    }
   ],
   "source": [
    "col_train_df"
   ]
  },
  {
   "cell_type": "code",
   "execution_count": 7,
   "id": "a6814614",
   "metadata": {},
   "outputs": [
    {
     "data": {
      "text/plain": [
       "['Loan_ID',\n",
       " 'Gender',\n",
       " 'Married',\n",
       " 'Dependents',\n",
       " 'Education',\n",
       " 'Self_Employed',\n",
       " 'ApplicantIncome',\n",
       " 'CoapplicantIncome',\n",
       " 'LoanAmount',\n",
       " 'Loan_Amount_Term',\n",
       " 'Credit_History',\n",
       " 'Property_Area']"
      ]
     },
     "execution_count": 7,
     "metadata": {},
     "output_type": "execute_result"
    }
   ],
   "source": [
    "col_test_df"
   ]
  },
  {
   "cell_type": "markdown",
   "id": "10b74bb1",
   "metadata": {},
   "source": [
    "As we can see, our two datasets are similar, except that our testing data data frame has an extra column called 'Loan Status' which will be used for predictive modeling when we get to our Machine Learning modeling.\n",
    "\n",
    "<br>\n",
    "\n"
   ]
  },
  {
   "cell_type": "markdown",
   "id": "b2a52cc3",
   "metadata": {},
   "source": [
    "Our next order of business would be to take a look at any missing values present in our data, this is good because if there is too many NA values in a column (or dataset in general), we have to decide what we want to do with it.\n",
    "\n",
    "We can take a look at our visual below to see missing values."
   ]
  },
  {
   "cell_type": "code",
   "execution_count": 8,
   "id": "7ce23a8e",
   "metadata": {},
   "outputs": [
    {
     "data": {
      "image/png": "[encoded data removed]",
      "text/plain": [
       "<Figure size 1440x360 with 4 Axes>"
      ]
     },
     "metadata": {
      "needs_background": "light"
     },
     "output_type": "display_data"
    }
   ],
   "source": [
    "'''\n",
    "Created March 2, 2022\n",
    "\n",
    "Looking at our data frames for missing values using a heat map\n",
    "'''\n",
    "def show_missing_values(df1, df2):\n",
    "\n",
    "    fig, (ax1, ax2) = plt.subplots(ncols=2, figsize=(20,5))\n",
    "    fig.subplots_adjust(wspace=0.01)\n",
    "    sns.heatmap(df1.isnull(), cmap=\"rocket\", ax=ax1, cbar=False)\n",
    "    fig.colorbar(ax1.collections[0], ax=ax1, location=\"left\", use_gridspec=False, pad=0.2)\n",
    "\n",
    "    sns.heatmap(df2.isnull(), cmap=\"rocket\", ax=ax2, cbar=False)\n",
    "    fig.colorbar(ax2.collections[0], ax=ax2, location=\"right\", use_gridspec=False, pad=0.2)\n",
    "\n",
    "    plt.show()\n",
    "\n",
    "show_missing_values(train_df, test_df)"
   ]
  },
  {
   "cell_type": "markdown",
   "id": "1e517518",
   "metadata": {},
   "source": [
    "As we can see from our resulting heatmap of missing values, both dataframes do contain missing values in more than one column. \n",
    "Being able to visually see these things helps us to decided what we should do next. \n",
    "\n",
    "Two things we are going to do:\n",
    "1. Check how many NA values are in the dataframes\n",
    "2. Fill in the NA values \n",
    "    - 2 types of fills:\n",
    "        - 'ffill': Forward filling\n",
    "            - Filling NA with values in the previous row\n",
    "        - 'bfill': Backward filling\n",
    "            - Filling NA with values after current row\n",
    "    - For this case, we will use forward filling\n",
    "  \n",
    "\n",
    "\n",
    "<br>\n",
    "\n",
    "This now leeds us to our next phase, Data Cleaning\n",
    "\n",
    "<!-- ---- Finished in March 3, 2022 -->"
   ]
  },
  {
   "cell_type": "markdown",
   "id": "12ec5635",
   "metadata": {},
   "source": [
    "### Data Cleaning"
   ]
  },
  {
   "cell_type": "code",
   "execution_count": 9,
   "id": "e7ecc4bb",
   "metadata": {},
   "outputs": [],
   "source": [
    "''' Created March 3, 2022\n",
    "\n",
    "1. Create helper function to find number of missing values\n",
    "2. Create helper function to fill in missing value\n",
    "'''\n",
    "\n",
    "def missing_values(df):\n",
    "    return df.isna().sum() \n",
    "    \n",
    "missVals_train_df = missing_values(train_df)\n",
    "missVals_test_df = missing_values(test_df)"
   ]
  },
  {
   "cell_type": "code",
   "execution_count": 10,
   "id": "9b758b91",
   "metadata": {},
   "outputs": [
    {
     "data": {
      "text/plain": [
       "Loan_ID               0\n",
       "Gender               13\n",
       "Married               3\n",
       "Dependents           15\n",
       "Education             0\n",
       "Self_Employed        32\n",
       "ApplicantIncome       0\n",
       "CoapplicantIncome     0\n",
       "LoanAmount           22\n",
       "Loan_Amount_Term     14\n",
       "Credit_History       50\n",
       "Property_Area         0\n",
       "Loan_Status           0\n",
       "dtype: int64"
      ]
     },
     "execution_count": 10,
     "metadata": {},
     "output_type": "execute_result"
    }
   ],
   "source": [
    "missVals_train_df # --- Missing Values for our training dataset"
   ]
  },
  {
   "cell_type": "code",
   "execution_count": 11,
   "id": "b4f2b5bd",
   "metadata": {},
   "outputs": [
    {
     "data": {
      "text/plain": [
       "Loan_ID               0\n",
       "Gender               11\n",
       "Married               0\n",
       "Dependents           10\n",
       "Education             0\n",
       "Self_Employed        23\n",
       "ApplicantIncome       0\n",
       "CoapplicantIncome     0\n",
       "LoanAmount            5\n",
       "Loan_Amount_Term      6\n",
       "Credit_History       29\n",
       "Property_Area         0\n",
       "dtype: int64"
      ]
     },
     "execution_count": 11,
     "metadata": {},
     "output_type": "execute_result"
    }
   ],
   "source": [
    "missVals_test_df # --- Missing Values for our testing data"
   ]
  },
  {
   "cell_type": "markdown",
   "id": "8f8217ca",
   "metadata": {},
   "source": [
    "**Handling missing Values**\n",
    "\n",
    "\n",
    "Now that we know which columns contains are missing values, we can fill them in accordingly. The reason I don't see why we need to drop these rows is because there is not a big enough number to drop these rows. If there were more than 100 NA values per column, we can drop them.\n",
    "\n",
    "\n",
    "We will handle each column individually.\n",
    "\n"
   ]
  },
  {
   "cell_type": "code",
   "execution_count": 12,
   "id": "39285976",
   "metadata": {},
   "outputs": [
    {
     "data": {
      "text/html": [
       "<div>\n",
       "<style scoped>\n",
       "    .dataframe tbody tr th:only-of-type {\n",
       "        vertical-align: middle;\n",
       "    }\n",
       "\n",
       "    .dataframe tbody tr th {\n",
       "        vertical-align: top;\n",
       "    }\n",
       "\n",
       "    .dataframe thead th {\n",
       "        text-align: right;\n",
       "    }\n",
       "</style>\n",
       "<table border=\"1\" class=\"dataframe\">\n",
       "  <thead>\n",
       "    <tr style=\"text-align: right;\">\n",
       "      <th></th>\n",
       "      <th>count</th>\n",
       "      <th>unique</th>\n",
       "      <th>top</th>\n",
       "      <th>freq</th>\n",
       "    </tr>\n",
       "  </thead>\n",
       "  <tbody>\n",
       "    <tr>\n",
       "      <th>Loan_ID</th>\n",
       "      <td>614</td>\n",
       "      <td>614</td>\n",
       "      <td>LP001002</td>\n",
       "      <td>1</td>\n",
       "    </tr>\n",
       "    <tr>\n",
       "      <th>Gender</th>\n",
       "      <td>601</td>\n",
       "      <td>2</td>\n",
       "      <td>Male</td>\n",
       "      <td>489</td>\n",
       "    </tr>\n",
       "    <tr>\n",
       "      <th>Married</th>\n",
       "      <td>611</td>\n",
       "      <td>2</td>\n",
       "      <td>Yes</td>\n",
       "      <td>398</td>\n",
       "    </tr>\n",
       "    <tr>\n",
       "      <th>Dependents</th>\n",
       "      <td>599</td>\n",
       "      <td>4</td>\n",
       "      <td>0</td>\n",
       "      <td>345</td>\n",
       "    </tr>\n",
       "    <tr>\n",
       "      <th>Education</th>\n",
       "      <td>614</td>\n",
       "      <td>2</td>\n",
       "      <td>Graduate</td>\n",
       "      <td>480</td>\n",
       "    </tr>\n",
       "    <tr>\n",
       "      <th>Self_Employed</th>\n",
       "      <td>582</td>\n",
       "      <td>2</td>\n",
       "      <td>No</td>\n",
       "      <td>500</td>\n",
       "    </tr>\n",
       "    <tr>\n",
       "      <th>ApplicantIncome</th>\n",
       "      <td>614</td>\n",
       "      <td>505</td>\n",
       "      <td>2500</td>\n",
       "      <td>9</td>\n",
       "    </tr>\n",
       "    <tr>\n",
       "      <th>CoapplicantIncome</th>\n",
       "      <td>614.0</td>\n",
       "      <td>287.0</td>\n",
       "      <td>0.0</td>\n",
       "      <td>273.0</td>\n",
       "    </tr>\n",
       "    <tr>\n",
       "      <th>LoanAmount</th>\n",
       "      <td>592.0</td>\n",
       "      <td>203.0</td>\n",
       "      <td>120.0</td>\n",
       "      <td>20.0</td>\n",
       "    </tr>\n",
       "    <tr>\n",
       "      <th>Loan_Amount_Term</th>\n",
       "      <td>600.0</td>\n",
       "      <td>10.0</td>\n",
       "      <td>360.0</td>\n",
       "      <td>512.0</td>\n",
       "    </tr>\n",
       "    <tr>\n",
       "      <th>Credit_History</th>\n",
       "      <td>564.0</td>\n",
       "      <td>2.0</td>\n",
       "      <td>1.0</td>\n",
       "      <td>475.0</td>\n",
       "    </tr>\n",
       "    <tr>\n",
       "      <th>Property_Area</th>\n",
       "      <td>614</td>\n",
       "      <td>3</td>\n",
       "      <td>Semiurban</td>\n",
       "      <td>233</td>\n",
       "    </tr>\n",
       "    <tr>\n",
       "      <th>Loan_Status</th>\n",
       "      <td>614</td>\n",
       "      <td>2</td>\n",
       "      <td>Y</td>\n",
       "      <td>422</td>\n",
       "    </tr>\n",
       "  </tbody>\n",
       "</table>\n",
       "</div>"
      ],
      "text/plain": [
       "                   count unique        top   freq\n",
       "Loan_ID              614    614   LP001002      1\n",
       "Gender               601      2       Male    489\n",
       "Married              611      2        Yes    398\n",
       "Dependents           599      4          0    345\n",
       "Education            614      2   Graduate    480\n",
       "Self_Employed        582      2         No    500\n",
       "ApplicantIncome      614    505       2500      9\n",
       "CoapplicantIncome  614.0  287.0        0.0  273.0\n",
       "LoanAmount         592.0  203.0      120.0   20.0\n",
       "Loan_Amount_Term   600.0   10.0      360.0  512.0\n",
       "Credit_History     564.0    2.0        1.0  475.0\n",
       "Property_Area        614      3  Semiurban    233\n",
       "Loan_Status          614      2          Y    422"
      ]
     },
     "execution_count": 12,
     "metadata": {},
     "output_type": "execute_result"
    }
   ],
   "source": [
    "train_df.astype('object').describe().transpose()"
   ]
  },
  {
   "cell_type": "markdown",
   "id": "2f7c237e",
   "metadata": {},
   "source": [
    "<!-- ---- Created March 4, 2022 -->\n",
    "As we can see from our above figure, each column has a different representation of values, we will fill the columns with NA values with their respected top value.\n",
    "\n",
    "**NOTE: COLUMNS WITH NA VALUES IS WHERE THE COUNT IS LESS THAN 614**\n",
    "\n",
    "\n",
    "- Gender:\n",
    "    - Fill in the values with MALE\n",
    "- Married:\n",
    "    - Fill in the values with YES\n",
    "- Dependents:\n",
    "    - Fill in with 0 \n",
    "- Self Employed:\n",
    "    - Fill in with NO \n",
    "- Loan Amount:\n",
    "    - Fill in with median value; don't want to skew the results with the top amount\n",
    "- Loan Amount Term:\n",
    "    - Fill in with median value; don't want to skew the results with the top amount\n",
    "- Credit History\n",
    "    - Use forward filling\n",
    "    \n",
    "<br>\n",
    "\n",
    "We will begin working with the train dataframe first.\n",
    "- Will not create a new variable to hold this new dataframe of values\n",
    "- Will be using inplace to replace values in real time"
   ]
  },
  {
   "cell_type": "code",
   "execution_count": 13,
   "id": "22ab58e4",
   "metadata": {},
   "outputs": [
    {
     "data": {
      "text/plain": [
       "False"
      ]
     },
     "execution_count": 13,
     "metadata": {},
     "output_type": "execute_result"
    }
   ],
   "source": [
    "train_df['Gender'].fillna(                  # REPLACE NA WITH MALE\n",
    "    'Male', \n",
    "    inplace = True)\n",
    "\n",
    "train_df['Gender'].isna().values.any()      # SHOULD RETURN FALSE"
   ]
  },
  {
   "cell_type": "code",
   "execution_count": 14,
   "id": "7bd1ba5c",
   "metadata": {},
   "outputs": [
    {
     "data": {
      "text/plain": [
       "False"
      ]
     },
     "execution_count": 14,
     "metadata": {},
     "output_type": "execute_result"
    }
   ],
   "source": [
    "train_df['Married'].fillna(                  # REPLACE NA WITH YES\n",
    "    'Yes', \n",
    "    inplace = True) \n",
    "\n",
    "train_df['Married'].isna().values.any()      # SHOULD RETURN FALSE\n"
   ]
  },
  {
   "cell_type": "code",
   "execution_count": 15,
   "id": "2521d1e6",
   "metadata": {},
   "outputs": [
    {
     "data": {
      "text/plain": [
       "False"
      ]
     },
     "execution_count": 15,
     "metadata": {},
     "output_type": "execute_result"
    }
   ],
   "source": [
    "train_df['Dependents'].fillna(              # REPLACE NA WITH 0\n",
    "    0,\n",
    "    inplace = True)\n",
    "\n",
    "train_df['Dependents'].isna().values.any()  # SHOULD RETURN FALSE\n"
   ]
  },
  {
   "cell_type": "code",
   "execution_count": 16,
   "id": "2b2ea034",
   "metadata": {},
   "outputs": [
    {
     "data": {
      "text/plain": [
       "False"
      ]
     },
     "execution_count": 16,
     "metadata": {},
     "output_type": "execute_result"
    }
   ],
   "source": [
    "train_df['Self_Employed'].fillna(             # REPLACE NA WITH NO\n",
    "    'No', \n",
    "    inplace = True)\n",
    "\n",
    "train_df['Self_Employed'].isna().values.any() # SHOULD RETURN FALSE\n"
   ]
  },
  {
   "cell_type": "code",
   "execution_count": 17,
   "id": "9901cf6f",
   "metadata": {},
   "outputs": [
    {
     "data": {
      "text/plain": [
       "False"
      ]
     },
     "execution_count": 17,
     "metadata": {},
     "output_type": "execute_result"
    }
   ],
   "source": [
    "train_df['LoanAmount'].fillna(               # REPLACE NA WITH MEDIAN\n",
    "    train_df['LoanAmount'].median(), \n",
    "    inplace = True)\n",
    "\n",
    "train_df['LoanAmount'].isna().values.any()   # SHOULD RETURN FALSE\n"
   ]
  },
  {
   "cell_type": "code",
   "execution_count": 18,
   "id": "0ccaa488",
   "metadata": {},
   "outputs": [
    {
     "data": {
      "text/plain": [
       "False"
      ]
     },
     "execution_count": 18,
     "metadata": {},
     "output_type": "execute_result"
    }
   ],
   "source": [
    "train_df['Loan_Amount_Term'].fillna(              # REPLACE NA WITH MEDIAN\n",
    "    train_df['Loan_Amount_Term'].median(), \n",
    "    inplace = True) \n",
    "\n",
    "train_df['Loan_Amount_Term'].isna().values.any()  # SHOULD RETURN FALSE\n"
   ]
  },
  {
   "cell_type": "code",
   "execution_count": 19,
   "id": "d3af405a",
   "metadata": {},
   "outputs": [
    {
     "data": {
      "text/plain": [
       "False"
      ]
     },
     "execution_count": 19,
     "metadata": {},
     "output_type": "execute_result"
    }
   ],
   "source": [
    "train_df['Credit_History'].fillna(               # REPLACE NA WITH FFILL\n",
    "    method = 'ffill', \n",
    "    inplace = True)\n",
    "\n",
    "train_df['Credit_History'].isna().values.any()   # SHOULD RETURN FALSE\n"
   ]
  },
  {
   "cell_type": "markdown",
   "id": "ee8db034",
   "metadata": {},
   "source": [
    "Lets check our dataframe to make sure there are no more missing values."
   ]
  },
  {
   "cell_type": "code",
   "execution_count": 20,
   "id": "57d35039",
   "metadata": {},
   "outputs": [
    {
     "data": {
      "text/plain": [
       "Loan_ID              0\n",
       "Gender               0\n",
       "Married              0\n",
       "Dependents           0\n",
       "Education            0\n",
       "Self_Employed        0\n",
       "ApplicantIncome      0\n",
       "CoapplicantIncome    0\n",
       "LoanAmount           0\n",
       "Loan_Amount_Term     0\n",
       "Credit_History       0\n",
       "Property_Area        0\n",
       "Loan_Status          0\n",
       "dtype: int64"
      ]
     },
     "execution_count": 20,
     "metadata": {},
     "output_type": "execute_result"
    }
   ],
   "source": [
    "train_df.isna().sum()"
   ]
  },
  {
   "cell_type": "markdown",
   "id": "ca305566",
   "metadata": {},
   "source": [
    "We have now finished replacing the missing values in our train data frame.\n",
    "\n",
    "\n",
    "Since we are working with 2 datasets (train & test), we want to make sure our test data frame also doesn't have any NA values. If it does, same process as above.\n",
    "\n",
    "\n",
    "Lets see what columns have NA values, and fill them accordingly like we did for our train dataframe.\n",
    "\n",
    "\n",
    "**Note: Our total count for values in this set is 367**"
   ]
  },
  {
   "cell_type": "code",
   "execution_count": 21,
   "id": "7ca02145",
   "metadata": {},
   "outputs": [
    {
     "data": {
      "text/html": [
       "<div>\n",
       "<style scoped>\n",
       "    .dataframe tbody tr th:only-of-type {\n",
       "        vertical-align: middle;\n",
       "    }\n",
       "\n",
       "    .dataframe tbody tr th {\n",
       "        vertical-align: top;\n",
       "    }\n",
       "\n",
       "    .dataframe thead th {\n",
       "        text-align: right;\n",
       "    }\n",
       "</style>\n",
       "<table border=\"1\" class=\"dataframe\">\n",
       "  <thead>\n",
       "    <tr style=\"text-align: right;\">\n",
       "      <th></th>\n",
       "      <th>count</th>\n",
       "      <th>unique</th>\n",
       "      <th>top</th>\n",
       "      <th>freq</th>\n",
       "    </tr>\n",
       "  </thead>\n",
       "  <tbody>\n",
       "    <tr>\n",
       "      <th>Loan_ID</th>\n",
       "      <td>367</td>\n",
       "      <td>367</td>\n",
       "      <td>LP001015</td>\n",
       "      <td>1</td>\n",
       "    </tr>\n",
       "    <tr>\n",
       "      <th>Gender</th>\n",
       "      <td>356</td>\n",
       "      <td>2</td>\n",
       "      <td>Male</td>\n",
       "      <td>286</td>\n",
       "    </tr>\n",
       "    <tr>\n",
       "      <th>Married</th>\n",
       "      <td>367</td>\n",
       "      <td>2</td>\n",
       "      <td>Yes</td>\n",
       "      <td>233</td>\n",
       "    </tr>\n",
       "    <tr>\n",
       "      <th>Dependents</th>\n",
       "      <td>357</td>\n",
       "      <td>4</td>\n",
       "      <td>0</td>\n",
       "      <td>200</td>\n",
       "    </tr>\n",
       "    <tr>\n",
       "      <th>Education</th>\n",
       "      <td>367</td>\n",
       "      <td>2</td>\n",
       "      <td>Graduate</td>\n",
       "      <td>283</td>\n",
       "    </tr>\n",
       "    <tr>\n",
       "      <th>Self_Employed</th>\n",
       "      <td>344</td>\n",
       "      <td>2</td>\n",
       "      <td>No</td>\n",
       "      <td>307</td>\n",
       "    </tr>\n",
       "    <tr>\n",
       "      <th>ApplicantIncome</th>\n",
       "      <td>367</td>\n",
       "      <td>314</td>\n",
       "      <td>5000</td>\n",
       "      <td>6</td>\n",
       "    </tr>\n",
       "    <tr>\n",
       "      <th>CoapplicantIncome</th>\n",
       "      <td>367</td>\n",
       "      <td>194</td>\n",
       "      <td>0</td>\n",
       "      <td>156</td>\n",
       "    </tr>\n",
       "    <tr>\n",
       "      <th>LoanAmount</th>\n",
       "      <td>362.0</td>\n",
       "      <td>144.0</td>\n",
       "      <td>150.0</td>\n",
       "      <td>12.0</td>\n",
       "    </tr>\n",
       "    <tr>\n",
       "      <th>Loan_Amount_Term</th>\n",
       "      <td>361.0</td>\n",
       "      <td>12.0</td>\n",
       "      <td>360.0</td>\n",
       "      <td>311.0</td>\n",
       "    </tr>\n",
       "    <tr>\n",
       "      <th>Credit_History</th>\n",
       "      <td>338.0</td>\n",
       "      <td>2.0</td>\n",
       "      <td>1.0</td>\n",
       "      <td>279.0</td>\n",
       "    </tr>\n",
       "    <tr>\n",
       "      <th>Property_Area</th>\n",
       "      <td>367</td>\n",
       "      <td>3</td>\n",
       "      <td>Urban</td>\n",
       "      <td>140</td>\n",
       "    </tr>\n",
       "  </tbody>\n",
       "</table>\n",
       "</div>"
      ],
      "text/plain": [
       "                   count unique       top   freq\n",
       "Loan_ID              367    367  LP001015      1\n",
       "Gender               356      2      Male    286\n",
       "Married              367      2       Yes    233\n",
       "Dependents           357      4         0    200\n",
       "Education            367      2  Graduate    283\n",
       "Self_Employed        344      2        No    307\n",
       "ApplicantIncome      367    314      5000      6\n",
       "CoapplicantIncome    367    194         0    156\n",
       "LoanAmount         362.0  144.0     150.0   12.0\n",
       "Loan_Amount_Term   361.0   12.0     360.0  311.0\n",
       "Credit_History     338.0    2.0       1.0  279.0\n",
       "Property_Area        367      3     Urban    140"
      ]
     },
     "execution_count": 21,
     "metadata": {},
     "output_type": "execute_result"
    }
   ],
   "source": [
    "test_df.astype('object').describe().transpose()"
   ]
  },
  {
   "cell_type": "markdown",
   "id": "764d792e",
   "metadata": {},
   "source": [
    "<!-- Created March 5, 2022 -->\n",
    "\n",
    "This is how we will fill our test dataframe NA values:\n",
    "- Gender with MALE\n",
    "- Dependents with 0\n",
    "- Self Employed with NO\n",
    "- Loan Amount with Median\n",
    "- Loan Amount Term with Median\n",
    "- Credit History with 1\n"
   ]
  },
  {
   "cell_type": "code",
   "execution_count": 22,
   "id": "c8470147",
   "metadata": {},
   "outputs": [
    {
     "data": {
      "text/plain": [
       "False"
      ]
     },
     "execution_count": 22,
     "metadata": {},
     "output_type": "execute_result"
    }
   ],
   "source": [
    "test_df['Gender'].fillna(\n",
    "    'Male',\n",
    "    inplace = True)\n",
    "\n",
    "test_df['Gender'].isna().values.any()"
   ]
  },
  {
   "cell_type": "code",
   "execution_count": 23,
   "id": "c536edd4",
   "metadata": {},
   "outputs": [
    {
     "data": {
      "text/plain": [
       "False"
      ]
     },
     "execution_count": 23,
     "metadata": {},
     "output_type": "execute_result"
    }
   ],
   "source": [
    "test_df['Dependents'].fillna(\n",
    "    '0',\n",
    "    inplace = True)\n",
    "\n",
    "test_df['Dependents'].isna().values.any()"
   ]
  },
  {
   "cell_type": "code",
   "execution_count": 24,
   "id": "570f341d",
   "metadata": {},
   "outputs": [
    {
     "data": {
      "text/plain": [
       "False"
      ]
     },
     "execution_count": 24,
     "metadata": {},
     "output_type": "execute_result"
    }
   ],
   "source": [
    "test_df['Self_Employed'].fillna(\n",
    "    'No',\n",
    "    inplace = True)\n",
    "\n",
    "test_df['Self_Employed'].isna().values.any()"
   ]
  },
  {
   "cell_type": "code",
   "execution_count": 25,
   "id": "0c906ebb",
   "metadata": {},
   "outputs": [
    {
     "data": {
      "text/plain": [
       "False"
      ]
     },
     "execution_count": 25,
     "metadata": {},
     "output_type": "execute_result"
    }
   ],
   "source": [
    "test_df['LoanAmount'].fillna(\n",
    "    test_df['LoanAmount'].median(),\n",
    "    inplace = True)\n",
    "\n",
    "test_df['LoanAmount'].isna().values.any()"
   ]
  },
  {
   "cell_type": "code",
   "execution_count": 26,
   "id": "9b77fa5d",
   "metadata": {},
   "outputs": [
    {
     "data": {
      "text/plain": [
       "False"
      ]
     },
     "execution_count": 26,
     "metadata": {},
     "output_type": "execute_result"
    }
   ],
   "source": [
    "test_df['Loan_Amount_Term'].fillna(\n",
    "    test_df['Loan_Amount_Term'].median(),\n",
    "    inplace = True)\n",
    "\n",
    "test_df['Loan_Amount_Term'].isna().values.any()"
   ]
  },
  {
   "cell_type": "code",
   "execution_count": 27,
   "id": "f733e1fb",
   "metadata": {},
   "outputs": [
    {
     "data": {
      "text/plain": [
       "False"
      ]
     },
     "execution_count": 27,
     "metadata": {},
     "output_type": "execute_result"
    }
   ],
   "source": [
    "test_df['Credit_History'].fillna(\n",
    "    1,\n",
    "    inplace = True)\n",
    "\n",
    "test_df['Credit_History'].isna().values.any()"
   ]
  },
  {
   "cell_type": "markdown",
   "id": "f3d6bc35",
   "metadata": {},
   "source": [
    "Now lets check our test dataframe to make sure that the columns do not contain any NA values."
   ]
  },
  {
   "cell_type": "code",
   "execution_count": 28,
   "id": "252cec83",
   "metadata": {},
   "outputs": [
    {
     "data": {
      "text/plain": [
       "Loan_ID              0\n",
       "Gender               0\n",
       "Married              0\n",
       "Dependents           0\n",
       "Education            0\n",
       "Self_Employed        0\n",
       "ApplicantIncome      0\n",
       "CoapplicantIncome    0\n",
       "LoanAmount           0\n",
       "Loan_Amount_Term     0\n",
       "Credit_History       0\n",
       "Property_Area        0\n",
       "dtype: int64"
      ]
     },
     "execution_count": 28,
     "metadata": {},
     "output_type": "execute_result"
    }
   ],
   "source": [
    "test_df.isna().sum()"
   ]
  },
  {
   "cell_type": "markdown",
   "id": "c6d2015a",
   "metadata": {},
   "source": [
    "Awesome, lets move on to the next section in our Loan Prediction project."
   ]
  },
  {
   "cell_type": "markdown",
   "id": "f9b0a8ac",
   "metadata": {},
   "source": [
    "### Exploratory Data Analysis \n",
    "- **using Data Visualiation**"
   ]
  },
  {
   "cell_type": "markdown",
   "id": "9bb3a64c",
   "metadata": {},
   "source": [
    "Now that we finished preliminary work:\n",
    "- Viewing our data\n",
    "- Filling in any NA values\n",
    "\n",
    "\n",
    "We can begin doing Exploratory Data Analysis to see view in more detail what are data is trying to tell us. \n",
    "\n",
    "\n",
    "Doing EDA, allows us to have a better comprehension of how our data stacks up. How each column is interacting with each other, etc.."
   ]
  },
  {
   "cell_type": "markdown",
   "id": "158554c3",
   "metadata": {},
   "source": [
    "Again, we will be using our training dataset as this is what we are working with."
   ]
  },
  {
   "cell_type": "code",
   "execution_count": 29,
   "id": "5f48b6b4",
   "metadata": {},
   "outputs": [
    {
     "data": {
      "text/html": [
       "<div>\n",
       "<style scoped>\n",
       "    .dataframe tbody tr th:only-of-type {\n",
       "        vertical-align: middle;\n",
       "    }\n",
       "\n",
       "    .dataframe tbody tr th {\n",
       "        vertical-align: top;\n",
       "    }\n",
       "\n",
       "    .dataframe thead th {\n",
       "        text-align: right;\n",
       "    }\n",
       "</style>\n",
       "<table border=\"1\" class=\"dataframe\">\n",
       "  <thead>\n",
       "    <tr style=\"text-align: right;\">\n",
       "      <th></th>\n",
       "      <th>Loan_ID</th>\n",
       "      <th>Gender</th>\n",
       "      <th>Married</th>\n",
       "      <th>Dependents</th>\n",
       "      <th>Education</th>\n",
       "      <th>Self_Employed</th>\n",
       "      <th>ApplicantIncome</th>\n",
       "      <th>CoapplicantIncome</th>\n",
       "      <th>LoanAmount</th>\n",
       "      <th>Loan_Amount_Term</th>\n",
       "      <th>Credit_History</th>\n",
       "      <th>Property_Area</th>\n",
       "      <th>Loan_Status</th>\n",
       "    </tr>\n",
       "  </thead>\n",
       "  <tbody>\n",
       "    <tr>\n",
       "      <th>0</th>\n",
       "      <td>LP001002</td>\n",
       "      <td>Male</td>\n",
       "      <td>No</td>\n",
       "      <td>0</td>\n",
       "      <td>Graduate</td>\n",
       "      <td>No</td>\n",
       "      <td>5849</td>\n",
       "      <td>0.0</td>\n",
       "      <td>128.0</td>\n",
       "      <td>360.0</td>\n",
       "      <td>1.0</td>\n",
       "      <td>Urban</td>\n",
       "      <td>Y</td>\n",
       "    </tr>\n",
       "    <tr>\n",
       "      <th>1</th>\n",
       "      <td>LP001003</td>\n",
       "      <td>Male</td>\n",
       "      <td>Yes</td>\n",
       "      <td>1</td>\n",
       "      <td>Graduate</td>\n",
       "      <td>No</td>\n",
       "      <td>4583</td>\n",
       "      <td>1508.0</td>\n",
       "      <td>128.0</td>\n",
       "      <td>360.0</td>\n",
       "      <td>1.0</td>\n",
       "      <td>Rural</td>\n",
       "      <td>N</td>\n",
       "    </tr>\n",
       "    <tr>\n",
       "      <th>2</th>\n",
       "      <td>LP001005</td>\n",
       "      <td>Male</td>\n",
       "      <td>Yes</td>\n",
       "      <td>0</td>\n",
       "      <td>Graduate</td>\n",
       "      <td>Yes</td>\n",
       "      <td>3000</td>\n",
       "      <td>0.0</td>\n",
       "      <td>66.0</td>\n",
       "      <td>360.0</td>\n",
       "      <td>1.0</td>\n",
       "      <td>Urban</td>\n",
       "      <td>Y</td>\n",
       "    </tr>\n",
       "    <tr>\n",
       "      <th>3</th>\n",
       "      <td>LP001006</td>\n",
       "      <td>Male</td>\n",
       "      <td>Yes</td>\n",
       "      <td>0</td>\n",
       "      <td>Not Graduate</td>\n",
       "      <td>No</td>\n",
       "      <td>2583</td>\n",
       "      <td>2358.0</td>\n",
       "      <td>120.0</td>\n",
       "      <td>360.0</td>\n",
       "      <td>1.0</td>\n",
       "      <td>Urban</td>\n",
       "      <td>Y</td>\n",
       "    </tr>\n",
       "    <tr>\n",
       "      <th>4</th>\n",
       "      <td>LP001008</td>\n",
       "      <td>Male</td>\n",
       "      <td>No</td>\n",
       "      <td>0</td>\n",
       "      <td>Graduate</td>\n",
       "      <td>No</td>\n",
       "      <td>6000</td>\n",
       "      <td>0.0</td>\n",
       "      <td>141.0</td>\n",
       "      <td>360.0</td>\n",
       "      <td>1.0</td>\n",
       "      <td>Urban</td>\n",
       "      <td>Y</td>\n",
       "    </tr>\n",
       "  </tbody>\n",
       "</table>\n",
       "</div>"
      ],
      "text/plain": [
       "    Loan_ID Gender Married Dependents     Education Self_Employed  \\\n",
       "0  LP001002   Male      No          0      Graduate            No   \n",
       "1  LP001003   Male     Yes          1      Graduate            No   \n",
       "2  LP001005   Male     Yes          0      Graduate           Yes   \n",
       "3  LP001006   Male     Yes          0  Not Graduate            No   \n",
       "4  LP001008   Male      No          0      Graduate            No   \n",
       "\n",
       "   ApplicantIncome  CoapplicantIncome  LoanAmount  Loan_Amount_Term  \\\n",
       "0             5849                0.0       128.0             360.0   \n",
       "1             4583             1508.0       128.0             360.0   \n",
       "2             3000                0.0        66.0             360.0   \n",
       "3             2583             2358.0       120.0             360.0   \n",
       "4             6000                0.0       141.0             360.0   \n",
       "\n",
       "   Credit_History Property_Area Loan_Status  \n",
       "0             1.0         Urban           Y  \n",
       "1             1.0         Rural           N  \n",
       "2             1.0         Urban           Y  \n",
       "3             1.0         Urban           Y  \n",
       "4             1.0         Urban           Y  "
      ]
     },
     "execution_count": 29,
     "metadata": {},
     "output_type": "execute_result"
    }
   ],
   "source": [
    "''' Created March 6, 2022\n",
    "\n",
    "Visualizations:\n",
    "- Correlation plot\n",
    "- Subplots on loan status\n",
    "\n",
    "\n",
    "-- DON'T WANT TO SPEND TO MUCH TIME ON VISUALS/EDA\n",
    "'''\n",
    "\n",
    "show_dataframe(train_df) # VIEW OUR DATA FOR REMEMBRANCE"
   ]
  },
  {
   "cell_type": "code",
   "execution_count": 30,
   "id": "c8abaabc",
   "metadata": {},
   "outputs": [
    {
     "data": {
      "image/png": "[encoded data removed]",
      "text/plain": [
       "<Figure size 1152x432 with 2 Axes>"
      ]
     },
     "metadata": {
      "needs_background": "light"
     },
     "output_type": "display_data"
    }
   ],
   "source": [
    "def show_correlations(df, title):\n",
    "    \n",
    "    plt.figure(figsize = (16, 6)) # SET FIG SIZE\n",
    "    \n",
    "    heatmap = sns.heatmap(        # INIT HEATMAP OBJECT\n",
    "        df.corr(),                # TYPE OF HEATMAP (CORRELATION)\n",
    "        annot = True,             # TRUE TO WRITE DATA IN CELL\n",
    "        cmap = 'rocket'             # COLORMAP NAME\n",
    "    )\n",
    "    \n",
    "    heatmap.set_title(            # INIT TITLE OBJECT\n",
    "        title,                    # GIVE TITLE AS INPUT (STRING FORMAT)\n",
    "        fontdict={'fontsize':18}  # GIVE COMMANDS FOR FONT DICT\n",
    "    )\n",
    "\n",
    "show_correlations(train_df, 'Correlations on Categorical Values')"
   ]
  },
  {
   "cell_type": "markdown",
   "id": "fac8e436",
   "metadata": {},
   "source": [
    "Now, because we are creating a loan prediction model, I think it is a good idea to look at a subset of plots that are based of loan status. \n",
    "\n",
    "It is interesting to see, how each categorical feature lines up with loan status.\n",
    "\n",
    "<br>\n",
    "\n",
    "To do this, we will get our features by selecting its type, in this case, the category feature is known as *object*."
   ]
  },
  {
   "cell_type": "code",
   "execution_count": 31,
   "id": "abef542e",
   "metadata": {},
   "outputs": [
    {
     "data": {
      "text/plain": [
       "['Gender',\n",
       " 'Married',\n",
       " 'Dependents',\n",
       " 'Education',\n",
       " 'Self_Employed',\n",
       " 'Property_Area',\n",
       " 'Loan_Status']"
      ]
     },
     "execution_count": 31,
     "metadata": {},
     "output_type": "execute_result"
    }
   ],
   "source": [
    "''' Created March 7, 2022\n",
    "\n",
    "Create a function to get the categorical columns of our dataframe\n",
    "- Use these columns to create subplots based on loan status\n",
    "\n",
    "'''\n",
    "\n",
    "\n",
    "def get_object_cols(df):\n",
    "    cat_features = df.select_dtypes('object').columns.to_list()\n",
    "    \n",
    "    return cat_features\n",
    "\n",
    "list_cat_features = get_object_cols(train_df)\n",
    "\n",
    "list_cat_features = list_cat_features[1:]\n",
    "\n",
    "list_cat_features"
   ]
  },
  {
   "cell_type": "code",
   "execution_count": 32,
   "id": "df717374",
   "metadata": {},
   "outputs": [
    {
     "data": {
      "image/png": "[encoded data removed]",
      "text/plain": [
       "<Figure size 1080x720 with 1 Axes>"
      ]
     },
     "metadata": {
      "needs_background": "light"
     },
     "output_type": "display_data"
    },
    {
     "data": {
      "image/png": "[encoded data removed]",
      "text/plain": [
       "<Figure size 1080x720 with 1 Axes>"
      ]
     },
     "metadata": {
      "needs_background": "light"
     },
     "output_type": "display_data"
    },
    {
     "data": {
      "image/png": "[encoded data removed]",
      "text/plain": [
       "<Figure size 1080x720 with 1 Axes>"
      ]
     },
     "metadata": {
      "needs_background": "light"
     },
     "output_type": "display_data"
    },
    {
     "data": {
      "image/png": "[encoded data removed]",
      "text/plain": [
       "<Figure size 1080x720 with 1 Axes>"
      ]
     },
     "metadata": {
      "needs_background": "light"
     },
     "output_type": "display_data"
    },
    {
     "data": {
      "image/png": "[encoded data removed]",
      "text/plain": [
       "<Figure size 1080x720 with 1 Axes>"
      ]
     },
     "metadata": {
      "needs_background": "light"
     },
     "output_type": "display_data"
    },
    {
     "data": {
      "image/png": "[encoded data removed]",
      "text/plain": [
       "<Figure size 1080x720 with 1 Axes>"
      ]
     },
     "metadata": {
      "needs_background": "light"
     },
     "output_type": "display_data"
    }
   ],
   "source": [
    "def create_subplots(list_features, dataframe):\n",
    "    for i in list_features[1:]:\n",
    "        plt.figure(\n",
    "            figsize = (15, 10)\n",
    "        )\n",
    "        \n",
    "        plt.subplot(3, 2, 1)\n",
    "        \n",
    "        sns.countplot(\n",
    "            x = i,\n",
    "            hue = 'Loan_Status',\n",
    "            data = dataframe,\n",
    "            palette = 'rocket'\n",
    "        )\n",
    "        \n",
    "        plt.xlabel(i, fontsize = 14)\n",
    "        \n",
    "create_subplots(list_cat_features, train_df)"
   ]
  },
  {
   "cell_type": "markdown",
   "id": "e95dbf45",
   "metadata": {},
   "source": [
    "Now that we have some data visuals to represent some trends, we have a better understanding of we are looking at and working with. \n",
    "\n",
    "\n",
    "Now we can move on to data preprocessing for our modeling."
   ]
  },
  {
   "cell_type": "markdown",
   "id": "0c247490",
   "metadata": {},
   "source": [
    "### Data Preprocessing for Modeling"
   ]
  },
  {
   "cell_type": "markdown",
   "id": "53153a07",
   "metadata": {},
   "source": [
    "For this section we will be doing 2 things:\n",
    "1. Transforming our categorical features to numeric values\n",
    "2. Doing a correlation plot to show any new correlations now that all our features are categorical.\n"
   ]
  },
  {
   "cell_type": "markdown",
   "id": "334dcdbc",
   "metadata": {},
   "source": [
    "For step 1: We will be converting categorical features on both datasets to numeric."
   ]
  },
  {
   "cell_type": "code",
   "execution_count": 33,
   "id": "8602806b",
   "metadata": {},
   "outputs": [],
   "source": [
    "''' Created March 8, 2022\n",
    "\n",
    "Create a function to convert the categorical columsn to numeric values\n",
    "\n",
    "\n",
    "- If you remember, we created a function that returns a list of categorical values, using that list\n",
    "we can iterate through the list and apply each feature to our dataset and then encode it\n",
    "'''\n",
    "\n",
    "le = LabelEncoder()  # INIT LABEL ENCODER OBJECT TO USE FOR ENCODING CATEG. --> NUMERIC\n",
    "\n",
    "def encode_object(df, list_features):\n",
    "    for feat in list_features:\n",
    "        df[feat] = le.fit_transform(df[feat].astype(str))\n",
    "        \n",
    "\n",
    "'''TRAIN DATAFRAME'''\n",
    "feat_list = get_object_cols(train_df) # GET LIST OF OBJECT TYPE\n",
    "encode_object(train_df, feat_list) # PASS IN OUR DATAFRAME AND CORRESPONDING LIST\n",
    "\n",
    "\n",
    "'''TEST DATAFRAME'''\n",
    "feat_list_test = get_object_cols(test_df) # GET LIST OF OBJECT TYPE\n",
    "encode_object(test_df, feat_list_test) # PASS IN OUR DATAFRAME AND CORRESPONDING LIST"
   ]
  },
  {
   "cell_type": "code",
   "execution_count": 34,
   "id": "1023d5bb",
   "metadata": {},
   "outputs": [
    {
     "name": "stdout",
     "output_type": "stream",
     "text": [
      "<class 'pandas.core.frame.DataFrame'>\n",
      "RangeIndex: 614 entries, 0 to 613\n",
      "Data columns (total 13 columns):\n",
      " #   Column             Non-Null Count  Dtype  \n",
      "---  ------             --------------  -----  \n",
      " 0   Loan_ID            614 non-null    int32  \n",
      " 1   Gender             614 non-null    int32  \n",
      " 2   Married            614 non-null    int32  \n",
      " 3   Dependents         614 non-null    int32  \n",
      " 4   Education          614 non-null    int32  \n",
      " 5   Self_Employed      614 non-null    int32  \n",
      " 6   ApplicantIncome    614 non-null    int64  \n",
      " 7   CoapplicantIncome  614 non-null    float64\n",
      " 8   LoanAmount         614 non-null    float64\n",
      " 9   Loan_Amount_Term   614 non-null    float64\n",
      " 10  Credit_History     614 non-null    float64\n",
      " 11  Property_Area      614 non-null    int32  \n",
      " 12  Loan_Status        614 non-null    int32  \n",
      "dtypes: float64(4), int32(8), int64(1)\n",
      "memory usage: 43.3 KB\n"
     ]
    }
   ],
   "source": [
    "# LETS CHECK THE INFO OF OUR TRAIN DF TO MAKE SURE THE TYPES ARE NOW NUMERIC\n",
    "train_df.info()"
   ]
  },
  {
   "cell_type": "code",
   "execution_count": 35,
   "id": "1b2a14f4",
   "metadata": {},
   "outputs": [
    {
     "name": "stdout",
     "output_type": "stream",
     "text": [
      "<class 'pandas.core.frame.DataFrame'>\n",
      "RangeIndex: 367 entries, 0 to 366\n",
      "Data columns (total 12 columns):\n",
      " #   Column             Non-Null Count  Dtype  \n",
      "---  ------             --------------  -----  \n",
      " 0   Loan_ID            367 non-null    int32  \n",
      " 1   Gender             367 non-null    int32  \n",
      " 2   Married            367 non-null    int32  \n",
      " 3   Dependents         367 non-null    int32  \n",
      " 4   Education          367 non-null    int32  \n",
      " 5   Self_Employed      367 non-null    int32  \n",
      " 6   ApplicantIncome    367 non-null    int64  \n",
      " 7   CoapplicantIncome  367 non-null    int64  \n",
      " 8   LoanAmount         367 non-null    float64\n",
      " 9   Loan_Amount_Term   367 non-null    float64\n",
      " 10  Credit_History     367 non-null    float64\n",
      " 11  Property_Area      367 non-null    int32  \n",
      "dtypes: float64(3), int32(7), int64(2)\n",
      "memory usage: 24.5 KB\n"
     ]
    }
   ],
   "source": [
    "test_df.info()"
   ]
  },
  {
   "cell_type": "code",
   "execution_count": 36,
   "id": "9b2d4dc2",
   "metadata": {},
   "outputs": [
    {
     "data": {
      "image/png": "[encoded data removed]",
      "text/plain": [
       "<Figure size 1152x432 with 2 Axes>"
      ]
     },
     "metadata": {
      "needs_background": "light"
     },
     "output_type": "display_data"
    }
   ],
   "source": [
    "'''\n",
    "As mentioned above, we plot the whole dataframe now that all values are numeric.\n",
    "\n",
    "\n",
    "We notice to big things:\n",
    "1. Applicant Income and Loan Amount are highly correlated\n",
    "2. Credit History and Loan Status are alse highly correlated.\n",
    "'''\n",
    "\n",
    "show_correlations(train_df, 'Correlations on ALl Values')"
   ]
  },
  {
   "cell_type": "markdown",
   "id": "357e8e36",
   "metadata": {},
   "source": [
    "### Machine Learning Implementation"
   ]
  },
  {
   "cell_type": "markdown",
   "id": "ca175513",
   "metadata": {},
   "source": [
    "For this part of the project, we will be using 3 different classifiers:\n",
    "1. Logistic Regression\n",
    "2. Random Forest Classifier\n",
    "3. Decision Tree Classifier\n",
    "\n",
    "\n",
    "**For an explanation on why I chose these ML Algorithms, refer to the [readme]()!**\n",
    "\n",
    "<br>"
   ]
  },
  {
   "cell_type": "markdown",
   "id": "86171521",
   "metadata": {},
   "source": [
    "Before we begin the implementation, we need to break our data into training and testing.\n",
    "\n",
    "- As we saw from earlier when doing our correlations, we determined that Applicant Income, Loan Amount, Credit History, and Loan Status were highly correlated.\n",
    "- We will be using these 4 features to determine our loan Status."
   ]
  },
  {
   "cell_type": "code",
   "execution_count": 37,
   "id": "c9c5881e",
   "metadata": {},
   "outputs": [],
   "source": [
    "'''\n",
    "X will contain our features that were highly correlated\n",
    "Y will contain our feautre that we want to predict\n",
    "'''\n",
    "\n",
    "X = train_df[['ApplicantIncome', 'LoanAmount', 'Credit_History']]\n",
    "Y = train_df[['Loan_Status']]"
   ]
  },
  {
   "cell_type": "code",
   "execution_count": 38,
   "id": "dad0d65c",
   "metadata": {},
   "outputs": [],
   "source": [
    "'''\n",
    "Using train test split from sklearn, we can split our dataset accordinly.\n",
    "We will use 70% training and 30% testing\n",
    "'''\n",
    "X_train, X_test, Y_train, Y_test = train_test_split(X, Y, test_size = 0.30, random_state = 0)"
   ]
  },
  {
   "cell_type": "markdown",
   "id": "3ac522bc",
   "metadata": {},
   "source": [
    "### Logistic Regression Implementation"
   ]
  },
  {
   "cell_type": "markdown",
   "id": "0e0b27a7",
   "metadata": {},
   "source": [
    "Now we can set up our GridSearch for our Logistic Regression Algorithm.\n",
    "- GridSearch looks for the best parameters for a classifier.\n",
    "- We will be looking at the following parameters:\n",
    "    - penalty\n",
    "    - C"
   ]
  },
  {
   "cell_type": "code",
   "execution_count": 39,
   "id": "a7c51c45",
   "metadata": {},
   "outputs": [],
   "source": [
    "parameters_log_reg = {\n",
    "    'penalty' :['l2'],\n",
    "    'C' : [0.01, 0.1, 1, 2, 10, 100]\n",
    "}"
   ]
  },
  {
   "cell_type": "code",
   "execution_count": 40,
   "id": "e61dacc0",
   "metadata": {},
   "outputs": [],
   "source": [
    "''' Created March 10, 2022\n",
    "\n",
    "Working with Logisitc Regression Model today.\n",
    "'''\n",
    "log_reg_clf = GridSearchCV(LogisticRegression(), parameters_log_reg, cv =10, n_jobs = 1)"
   ]
  },
  {
   "cell_type": "code",
   "execution_count": 41,
   "id": "96688a57",
   "metadata": {},
   "outputs": [
    {
     "data": {
      "text/plain": [
       "GridSearchCV(cv=10, estimator=LogisticRegression(), n_jobs=1,\n",
       "             param_grid={'C': [0.01, 0.1, 1, 2, 10, 100], 'penalty': ['l2']})"
      ]
     },
     "execution_count": 41,
     "metadata": {},
     "output_type": "execute_result"
    }
   ],
   "source": [
    "'''\n",
    "Once we initialize our classifier, we can fit the data\n",
    "'''\n",
    "\n",
    "log_reg_clf.fit(X_train, Y_train.values.ravel())"
   ]
  },
  {
   "cell_type": "code",
   "execution_count": 42,
   "id": "c31d4a99",
   "metadata": {
    "scrolled": true
   },
   "outputs": [
    {
     "name": "stdout",
     "output_type": "stream",
     "text": [
      "0.7925407925407926\n",
      "{'C': 2, 'penalty': 'l2'}\n"
     ]
    }
   ],
   "source": [
    "'''\n",
    "Once the data is fitted we can get our classifier score and find what the best parameters are\n",
    "'''\n",
    "print(log_reg_clf.score(X_train, Y_train))\n",
    "print(log_reg_clf.best_params_)"
   ]
  },
  {
   "cell_type": "code",
   "execution_count": 43,
   "id": "9852f6cb",
   "metadata": {},
   "outputs": [
    {
     "name": "stdout",
     "output_type": "stream",
     "text": [
      "Accuracy Score on training data: 79.0%\n",
      "Accuracy Score on validation data: 84.0%\n"
     ]
    }
   ],
   "source": [
    "'''\n",
    "Now, lets get our accuracy score on:\n",
    "- Training data\n",
    "- Testing data\n",
    "'''\n",
    "print(f'Accuracy Score on training data: {round(log_reg_clf.score(X_train, Y_train), 2) * 100}%')\n",
    "print(f'Accuracy Score on validation data: {round(log_reg_clf.score(X_test, Y_test), 2) * 100}%')\n"
   ]
  },
  {
   "cell_type": "code",
   "execution_count": 44,
   "id": "02409c36",
   "metadata": {},
   "outputs": [],
   "source": [
    "'''\n",
    "Now, lets predict the response for the test dataset\n",
    "- This will be used to test Accuracy, Precision, and Recall for our model\n",
    "'''\n",
    "log_reg_pred = log_reg_clf.predict(X_test)"
   ]
  },
  {
   "cell_type": "markdown",
   "id": "0fac27a9",
   "metadata": {},
   "source": [
    "### Evaluating Model Performance\n",
    "\n",
    "\n",
    "We will evaluate 3 things:\n",
    "- Accuracy\n",
    "  - This metric will describe how the model performs across all classes, in our case the features we used.\n",
    "- Precision\n",
    "  - This gives us the ration between the number of positive samples correctly classified to the total number of samples classifies as positively correct or incorrect.\n",
    "- Recall\n",
    "  - Similar to precision, this is the ration between positive samples correctly identified as positive to the total number of positive samples."
   ]
  },
  {
   "cell_type": "code",
   "execution_count": 58,
   "id": "1a074f71",
   "metadata": {},
   "outputs": [
    {
     "name": "stdout",
     "output_type": "stream",
     "text": [
      "Accuracy for Log. Reg. Classifier:\n",
      "84.0%\n",
      "\n",
      "Precision for Log. Reg. Classifier:\n",
      "83.0%\n",
      "\n",
      "Recall for Log. Reg. Classifier:\n",
      "98.0%\n"
     ]
    }
   ],
   "source": [
    "# calculate accuracy\n",
    "print(f'Accuracy for Log. Reg. Classifier:\\n{round(metrics.accuracy_score(Y_test, log_reg_pred), 2) * 100}%')\n",
    "\n",
    "# Caclulate precision\n",
    "print()\n",
    "print(f'Precision for Log. Reg. Classifier:\\n{round(metrics.precision_score(Y_test, log_reg_pred), 2) * 100}%')\n",
    "\n",
    "# Calculate recall\n",
    "print()\n",
    "print(f'Recall for Log. Reg. Classifier:\\n{round(metrics.recall_score(Y_test, log_reg_pred), 2) * 100}%')"
   ]
  },
  {
   "cell_type": "markdown",
   "id": "9d226a5f",
   "metadata": {},
   "source": [
    "#### Logistic Regression Predictions\n",
    "\n",
    "Now that we have our evaulation on model performance, we can use the classifier to predict values and apply them to our testing data"
   ]
  },
  {
   "cell_type": "code",
   "execution_count": 49,
   "id": "86b70499",
   "metadata": {
    "collapsed": true
   },
   "outputs": [
    {
     "name": "stderr",
     "output_type": "stream",
     "text": [
      "<ipython-input-49-374f06293ebb>:10: SettingWithCopyWarning: \n",
      "A value is trying to be set on a copy of a slice from a DataFrame.\n",
      "Try using .loc[row_indexer,col_indexer] = value instead\n",
      "\n",
      "See the caveats in the documentation: https://pandas.pydata.org/pandas-docs/stable/user_guide/indexing.html#returning-a-view-versus-a-copy\n",
      "  X_test_log_pred['Predictions_log_reg'] = log_reg_pred\n"
     ]
    }
   ],
   "source": [
    "'''\n",
    "Build predictions based on our model classifier.\n",
    "\n",
    "Steps to do this:\n",
    "- Create a copy of our test data\n",
    "- Create a new column that will contain our predictions.\n",
    "'''\n",
    "\n",
    "X_test_log_pred = X_test\n",
    "X_test_log_pred['Predictions_log_reg'] = log_reg_pred"
   ]
  },
  {
   "cell_type": "code",
   "execution_count": 57,
   "id": "83b1f3ca",
   "metadata": {},
   "outputs": [
    {
     "data": {
      "text/html": [
       "<div>\n",
       "<style scoped>\n",
       "    .dataframe tbody tr th:only-of-type {\n",
       "        vertical-align: middle;\n",
       "    }\n",
       "\n",
       "    .dataframe tbody tr th {\n",
       "        vertical-align: top;\n",
       "    }\n",
       "\n",
       "    .dataframe thead th {\n",
       "        text-align: right;\n",
       "    }\n",
       "</style>\n",
       "<table border=\"1\" class=\"dataframe\">\n",
       "  <thead>\n",
       "    <tr style=\"text-align: right;\">\n",
       "      <th>Predictions_log_reg</th>\n",
       "      <th>0</th>\n",
       "      <th>1</th>\n",
       "    </tr>\n",
       "  </thead>\n",
       "  <tbody>\n",
       "    <tr>\n",
       "      <th>ApplicantIncome</th>\n",
       "      <td>3404.259259</td>\n",
       "      <td>5212.303797</td>\n",
       "    </tr>\n",
       "    <tr>\n",
       "      <th>LoanAmount</th>\n",
       "      <td>131.888889</td>\n",
       "      <td>142.727848</td>\n",
       "    </tr>\n",
       "    <tr>\n",
       "      <th>Credit_History</th>\n",
       "      <td>0.0</td>\n",
       "      <td>1.0</td>\n",
       "    </tr>\n",
       "  </tbody>\n",
       "</table>\n",
       "</div>"
      ],
      "text/plain": [
       "Predictions_log_reg            0            1\n",
       "ApplicantIncome      3404.259259  5212.303797\n",
       "LoanAmount            131.888889   142.727848\n",
       "Credit_History               0.0          1.0"
      ]
     },
     "execution_count": 57,
     "metadata": {},
     "output_type": "execute_result"
    }
   ],
   "source": [
    "X_test_log_pred.groupby('Predictions_log_reg').mean().astype('object').transpose()"
   ]
  },
  {
   "cell_type": "markdown",
   "id": "53ad19ff",
   "metadata": {},
   "source": [
    "As we can see from our table above, the average person who got approved for a loan had the following:\n",
    "- Applicant Income of 52k dollars\n",
    "- Loan amount for 14K dollars\n",
    "- Some sort of credit history"
   ]
  },
  {
   "cell_type": "markdown",
   "id": "40791402",
   "metadata": {},
   "source": [
    "## Random Forest Classifier Implementation"
   ]
  },
  {
   "cell_type": "markdown",
   "id": "b5e1c9e5",
   "metadata": {},
   "source": [
    "Now we can set up our GridSearch for our Random Forest Classifier.\n",
    "- GridSearch looks for the best parameters for a classifier.\n",
    "- We will be looking at the following parameters:\n",
    "    - N Estimators\n",
    "    - Max Features\n",
    "    - Max Depth\n",
    "    - Criterion"
   ]
  },
  {
   "cell_type": "code",
   "execution_count": 60,
   "id": "c85e0fad",
   "metadata": {},
   "outputs": [],
   "source": [
    "parameters_ran_for_clas = {\n",
    "    'n_estimators': [200, 500],\n",
    "    'max_features': ['auto', 'sqrt', 'log2'],\n",
    "    'criterion': ['gini', 'entropy']\n",
    "}"
   ]
  },
  {
   "cell_type": "code",
   "execution_count": 64,
   "id": "0a8ef8d8",
   "metadata": {},
   "outputs": [],
   "source": [
    "''' Created March 11, 2022\n",
    "\n",
    "Working with Random Forest Classifier.\n",
    "'''\n",
    "ran_for_clf = GridSearchCV(RandomForestClassifier(), parameters_ran_for_clas, cv =10, n_jobs = 1)"
   ]
  },
  {
   "cell_type": "code",
   "execution_count": 74,
   "id": "7882d9d1",
   "metadata": {},
   "outputs": [
    {
     "data": {
      "text/plain": [
       "GridSearchCV(cv=10, estimator=RandomForestClassifier(), n_jobs=1,\n",
       "             param_grid={'criterion': ['gini', 'entropy'],\n",
       "                         'max_features': ['auto', 'sqrt', 'log2'],\n",
       "                         'n_estimators': [200, 500]})"
      ]
     },
     "execution_count": 74,
     "metadata": {},
     "output_type": "execute_result"
    }
   ],
   "source": [
    "'''\n",
    "Once we initialize our classifier, we can fit the data\n",
    "'''\n",
    "\n",
    "ran_for_clf.fit(X_train, Y_train.values.ravel())"
   ]
  },
  {
   "cell_type": "code",
   "execution_count": 75,
   "id": "6654eb8f",
   "metadata": {
    "scrolled": true
   },
   "outputs": [
    {
     "name": "stdout",
     "output_type": "stream",
     "text": [
      "1.0\n",
      "{'criterion': 'entropy', 'max_features': 'sqrt', 'n_estimators': 200}\n"
     ]
    }
   ],
   "source": [
    "'''\n",
    "Once the data is fitted we can get our classifier score and find what the best parameters are\n",
    "'''\n",
    "print(ran_for_clf.score(X_train, Y_train.values.reshape(-1, 1)))\n",
    "print(ran_for_clf.best_params_)"
   ]
  },
  {
   "cell_type": "code",
   "execution_count": 78,
   "id": "26dacefe",
   "metadata": {},
   "outputs": [
    {
     "name": "stdout",
     "output_type": "stream",
     "text": [
      "Accuracy Score on training data: 100.0%\n"
     ]
    },
    {
     "ename": "ValueError",
     "evalue": "Number of features of the model must match the input. Model n_features is 3 and input n_features is 4 ",
     "output_type": "error",
     "traceback": [
      "\u001b[1;31m---------------------------------------------------------------------------\u001b[0m",
      "\u001b[1;31mValueError\u001b[0m                                Traceback (most recent call last)",
      "\u001b[1;32m<ipython-input-78-72a1b8fab097>\u001b[0m in \u001b[0;36m<module>\u001b[1;34m\u001b[0m\n\u001b[0;32m      5\u001b[0m '''\n\u001b[0;32m      6\u001b[0m \u001b[0mprint\u001b[0m\u001b[1;33m(\u001b[0m\u001b[1;34mf'Accuracy Score on training data: {round(ran_for_clf.score(X_train,  Y_train.values.reshape(-1, 1)), 2) * 100}%'\u001b[0m\u001b[1;33m)\u001b[0m\u001b[1;33m\u001b[0m\u001b[1;33m\u001b[0m\u001b[0m\n\u001b[1;32m----> 7\u001b[1;33m \u001b[0mprint\u001b[0m\u001b[1;33m(\u001b[0m\u001b[1;34mf'Accuracy Score on validation data: {round(ran_for_clf.score(X_test, Y_test.values.reshape(-1, 1)), 2) * 100}%'\u001b[0m\u001b[1;33m)\u001b[0m\u001b[1;33m\u001b[0m\u001b[1;33m\u001b[0m\u001b[0m\n\u001b[0m",
      "\u001b[1;32m~\\anaconda3\\lib\\site-packages\\sklearn\\model_selection\\_search.py\u001b[0m in \u001b[0;36mscore\u001b[1;34m(self, X, y)\u001b[0m\n\u001b[0;32m    456\u001b[0m                              % self.best_estimator_)\n\u001b[0;32m    457\u001b[0m         \u001b[0mscore\u001b[0m \u001b[1;33m=\u001b[0m \u001b[0mself\u001b[0m\u001b[1;33m.\u001b[0m\u001b[0mscorer_\u001b[0m\u001b[1;33m[\u001b[0m\u001b[0mself\u001b[0m\u001b[1;33m.\u001b[0m\u001b[0mrefit\u001b[0m\u001b[1;33m]\u001b[0m \u001b[1;32mif\u001b[0m \u001b[0mself\u001b[0m\u001b[1;33m.\u001b[0m\u001b[0mmultimetric_\u001b[0m \u001b[1;32melse\u001b[0m \u001b[0mself\u001b[0m\u001b[1;33m.\u001b[0m\u001b[0mscorer_\u001b[0m\u001b[1;33m\u001b[0m\u001b[1;33m\u001b[0m\u001b[0m\n\u001b[1;32m--> 458\u001b[1;33m         \u001b[1;32mreturn\u001b[0m \u001b[0mscore\u001b[0m\u001b[1;33m(\u001b[0m\u001b[0mself\u001b[0m\u001b[1;33m.\u001b[0m\u001b[0mbest_estimator_\u001b[0m\u001b[1;33m,\u001b[0m \u001b[0mX\u001b[0m\u001b[1;33m,\u001b[0m \u001b[0my\u001b[0m\u001b[1;33m)\u001b[0m\u001b[1;33m\u001b[0m\u001b[1;33m\u001b[0m\u001b[0m\n\u001b[0m\u001b[0;32m    459\u001b[0m \u001b[1;33m\u001b[0m\u001b[0m\n\u001b[0;32m    460\u001b[0m     \u001b[1;32mdef\u001b[0m \u001b[0m_check_is_fitted\u001b[0m\u001b[1;33m(\u001b[0m\u001b[0mself\u001b[0m\u001b[1;33m,\u001b[0m \u001b[0mmethod_name\u001b[0m\u001b[1;33m)\u001b[0m\u001b[1;33m:\u001b[0m\u001b[1;33m\u001b[0m\u001b[1;33m\u001b[0m\u001b[0m\n",
      "\u001b[1;32m~\\anaconda3\\lib\\site-packages\\sklearn\\metrics\\_scorer.py\u001b[0m in \u001b[0;36m_passthrough_scorer\u001b[1;34m(estimator, *args, **kwargs)\u001b[0m\n\u001b[0;32m    370\u001b[0m \u001b[1;32mdef\u001b[0m \u001b[0m_passthrough_scorer\u001b[0m\u001b[1;33m(\u001b[0m\u001b[0mestimator\u001b[0m\u001b[1;33m,\u001b[0m \u001b[1;33m*\u001b[0m\u001b[0margs\u001b[0m\u001b[1;33m,\u001b[0m \u001b[1;33m**\u001b[0m\u001b[0mkwargs\u001b[0m\u001b[1;33m)\u001b[0m\u001b[1;33m:\u001b[0m\u001b[1;33m\u001b[0m\u001b[1;33m\u001b[0m\u001b[0m\n\u001b[0;32m    371\u001b[0m     \u001b[1;34m\"\"\"Function that wraps estimator.score\"\"\"\u001b[0m\u001b[1;33m\u001b[0m\u001b[1;33m\u001b[0m\u001b[0m\n\u001b[1;32m--> 372\u001b[1;33m     \u001b[1;32mreturn\u001b[0m \u001b[0mestimator\u001b[0m\u001b[1;33m.\u001b[0m\u001b[0mscore\u001b[0m\u001b[1;33m(\u001b[0m\u001b[1;33m*\u001b[0m\u001b[0margs\u001b[0m\u001b[1;33m,\u001b[0m \u001b[1;33m**\u001b[0m\u001b[0mkwargs\u001b[0m\u001b[1;33m)\u001b[0m\u001b[1;33m\u001b[0m\u001b[1;33m\u001b[0m\u001b[0m\n\u001b[0m\u001b[0;32m    373\u001b[0m \u001b[1;33m\u001b[0m\u001b[0m\n\u001b[0;32m    374\u001b[0m \u001b[1;33m\u001b[0m\u001b[0m\n",
      "\u001b[1;32m~\\anaconda3\\lib\\site-packages\\sklearn\\base.py\u001b[0m in \u001b[0;36mscore\u001b[1;34m(self, X, y, sample_weight)\u001b[0m\n\u001b[0;32m    497\u001b[0m         \"\"\"\n\u001b[0;32m    498\u001b[0m         \u001b[1;32mfrom\u001b[0m \u001b[1;33m.\u001b[0m\u001b[0mmetrics\u001b[0m \u001b[1;32mimport\u001b[0m \u001b[0maccuracy_score\u001b[0m\u001b[1;33m\u001b[0m\u001b[1;33m\u001b[0m\u001b[0m\n\u001b[1;32m--> 499\u001b[1;33m         \u001b[1;32mreturn\u001b[0m \u001b[0maccuracy_score\u001b[0m\u001b[1;33m(\u001b[0m\u001b[0my\u001b[0m\u001b[1;33m,\u001b[0m \u001b[0mself\u001b[0m\u001b[1;33m.\u001b[0m\u001b[0mpredict\u001b[0m\u001b[1;33m(\u001b[0m\u001b[0mX\u001b[0m\u001b[1;33m)\u001b[0m\u001b[1;33m,\u001b[0m \u001b[0msample_weight\u001b[0m\u001b[1;33m=\u001b[0m\u001b[0msample_weight\u001b[0m\u001b[1;33m)\u001b[0m\u001b[1;33m\u001b[0m\u001b[1;33m\u001b[0m\u001b[0m\n\u001b[0m\u001b[0;32m    500\u001b[0m \u001b[1;33m\u001b[0m\u001b[0m\n\u001b[0;32m    501\u001b[0m     \u001b[1;32mdef\u001b[0m \u001b[0m_more_tags\u001b[0m\u001b[1;33m(\u001b[0m\u001b[0mself\u001b[0m\u001b[1;33m)\u001b[0m\u001b[1;33m:\u001b[0m\u001b[1;33m\u001b[0m\u001b[1;33m\u001b[0m\u001b[0m\n",
      "\u001b[1;32m~\\anaconda3\\lib\\site-packages\\sklearn\\ensemble\\_forest.py\u001b[0m in \u001b[0;36mpredict\u001b[1;34m(self, X)\u001b[0m\n\u001b[0;32m    627\u001b[0m             \u001b[0mThe\u001b[0m \u001b[0mpredicted\u001b[0m \u001b[0mclasses\u001b[0m\u001b[1;33m.\u001b[0m\u001b[1;33m\u001b[0m\u001b[1;33m\u001b[0m\u001b[0m\n\u001b[0;32m    628\u001b[0m         \"\"\"\n\u001b[1;32m--> 629\u001b[1;33m         \u001b[0mproba\u001b[0m \u001b[1;33m=\u001b[0m \u001b[0mself\u001b[0m\u001b[1;33m.\u001b[0m\u001b[0mpredict_proba\u001b[0m\u001b[1;33m(\u001b[0m\u001b[0mX\u001b[0m\u001b[1;33m)\u001b[0m\u001b[1;33m\u001b[0m\u001b[1;33m\u001b[0m\u001b[0m\n\u001b[0m\u001b[0;32m    630\u001b[0m \u001b[1;33m\u001b[0m\u001b[0m\n\u001b[0;32m    631\u001b[0m         \u001b[1;32mif\u001b[0m \u001b[0mself\u001b[0m\u001b[1;33m.\u001b[0m\u001b[0mn_outputs_\u001b[0m \u001b[1;33m==\u001b[0m \u001b[1;36m1\u001b[0m\u001b[1;33m:\u001b[0m\u001b[1;33m\u001b[0m\u001b[1;33m\u001b[0m\u001b[0m\n",
      "\u001b[1;32m~\\anaconda3\\lib\\site-packages\\sklearn\\ensemble\\_forest.py\u001b[0m in \u001b[0;36mpredict_proba\u001b[1;34m(self, X)\u001b[0m\n\u001b[0;32m    671\u001b[0m         \u001b[0mcheck_is_fitted\u001b[0m\u001b[1;33m(\u001b[0m\u001b[0mself\u001b[0m\u001b[1;33m)\u001b[0m\u001b[1;33m\u001b[0m\u001b[1;33m\u001b[0m\u001b[0m\n\u001b[0;32m    672\u001b[0m         \u001b[1;31m# Check data\u001b[0m\u001b[1;33m\u001b[0m\u001b[1;33m\u001b[0m\u001b[1;33m\u001b[0m\u001b[0m\n\u001b[1;32m--> 673\u001b[1;33m         \u001b[0mX\u001b[0m \u001b[1;33m=\u001b[0m \u001b[0mself\u001b[0m\u001b[1;33m.\u001b[0m\u001b[0m_validate_X_predict\u001b[0m\u001b[1;33m(\u001b[0m\u001b[0mX\u001b[0m\u001b[1;33m)\u001b[0m\u001b[1;33m\u001b[0m\u001b[1;33m\u001b[0m\u001b[0m\n\u001b[0m\u001b[0;32m    674\u001b[0m \u001b[1;33m\u001b[0m\u001b[0m\n\u001b[0;32m    675\u001b[0m         \u001b[1;31m# Assign chunk of trees to jobs\u001b[0m\u001b[1;33m\u001b[0m\u001b[1;33m\u001b[0m\u001b[1;33m\u001b[0m\u001b[0m\n",
      "\u001b[1;32m~\\anaconda3\\lib\\site-packages\\sklearn\\ensemble\\_forest.py\u001b[0m in \u001b[0;36m_validate_X_predict\u001b[1;34m(self, X)\u001b[0m\n\u001b[0;32m    419\u001b[0m         \u001b[0mcheck_is_fitted\u001b[0m\u001b[1;33m(\u001b[0m\u001b[0mself\u001b[0m\u001b[1;33m)\u001b[0m\u001b[1;33m\u001b[0m\u001b[1;33m\u001b[0m\u001b[0m\n\u001b[0;32m    420\u001b[0m \u001b[1;33m\u001b[0m\u001b[0m\n\u001b[1;32m--> 421\u001b[1;33m         \u001b[1;32mreturn\u001b[0m \u001b[0mself\u001b[0m\u001b[1;33m.\u001b[0m\u001b[0mestimators_\u001b[0m\u001b[1;33m[\u001b[0m\u001b[1;36m0\u001b[0m\u001b[1;33m]\u001b[0m\u001b[1;33m.\u001b[0m\u001b[0m_validate_X_predict\u001b[0m\u001b[1;33m(\u001b[0m\u001b[0mX\u001b[0m\u001b[1;33m,\u001b[0m \u001b[0mcheck_input\u001b[0m\u001b[1;33m=\u001b[0m\u001b[1;32mTrue\u001b[0m\u001b[1;33m)\u001b[0m\u001b[1;33m\u001b[0m\u001b[1;33m\u001b[0m\u001b[0m\n\u001b[0m\u001b[0;32m    422\u001b[0m \u001b[1;33m\u001b[0m\u001b[0m\n\u001b[0;32m    423\u001b[0m     \u001b[1;33m@\u001b[0m\u001b[0mproperty\u001b[0m\u001b[1;33m\u001b[0m\u001b[1;33m\u001b[0m\u001b[0m\n",
      "\u001b[1;32m~\\anaconda3\\lib\\site-packages\\sklearn\\tree\\_classes.py\u001b[0m in \u001b[0;36m_validate_X_predict\u001b[1;34m(self, X, check_input)\u001b[0m\n\u001b[0;32m    394\u001b[0m         \u001b[0mn_features\u001b[0m \u001b[1;33m=\u001b[0m \u001b[0mX\u001b[0m\u001b[1;33m.\u001b[0m\u001b[0mshape\u001b[0m\u001b[1;33m[\u001b[0m\u001b[1;36m1\u001b[0m\u001b[1;33m]\u001b[0m\u001b[1;33m\u001b[0m\u001b[1;33m\u001b[0m\u001b[0m\n\u001b[0;32m    395\u001b[0m         \u001b[1;32mif\u001b[0m \u001b[0mself\u001b[0m\u001b[1;33m.\u001b[0m\u001b[0mn_features_\u001b[0m \u001b[1;33m!=\u001b[0m \u001b[0mn_features\u001b[0m\u001b[1;33m:\u001b[0m\u001b[1;33m\u001b[0m\u001b[1;33m\u001b[0m\u001b[0m\n\u001b[1;32m--> 396\u001b[1;33m             raise ValueError(\"Number of features of the model must \"\n\u001b[0m\u001b[0;32m    397\u001b[0m                              \u001b[1;34m\"match the input. Model n_features is %s and \"\u001b[0m\u001b[1;33m\u001b[0m\u001b[1;33m\u001b[0m\u001b[0m\n\u001b[0;32m    398\u001b[0m                              \u001b[1;34m\"input n_features is %s \"\u001b[0m\u001b[1;33m\u001b[0m\u001b[1;33m\u001b[0m\u001b[0m\n",
      "\u001b[1;31mValueError\u001b[0m: Number of features of the model must match the input. Model n_features is 3 and input n_features is 4 "
     ]
    }
   ],
   "source": [
    "'''\n",
    "Now, lets get our accuracy score on:\n",
    "- Training data\n",
    "- Testing data\n",
    "'''\n",
    "print(f'Accuracy Score on training data: {round(ran_for_clf.score(X_train,  Y_train.values.reshape(-1, 1)), 2) * 100}%')\n",
    "print(f'Accuracy Score on validation data: {round(ran_for_clf.score(X_test, Y_test.values.reshape(-1, 1)), 2) * 100}%')\n"
   ]
  },
  {
   "cell_type": "code",
   "execution_count": 44,
   "id": "753ce547",
   "metadata": {},
   "outputs": [],
   "source": [
    "'''\n",
    "Now, lets predict the response for the test dataset\n",
    "- This will be used to test Accuracy, Precision, and Recall for our model\n",
    "'''\n",
    "ran_for_pred = ran_for_clf.predict(X_test)"
   ]
  },
  {
   "cell_type": "code",
   "execution_count": null,
   "id": "f131b343",
   "metadata": {},
   "outputs": [],
   "source": []
  }
 ],
 "metadata": {
  "kernelspec": {
   "display_name": "Python 3",
   "language": "python",
   "name": "python3"
  },
  "language_info": {
   "codemirror_mode": {
    "name": "ipython",
    "version": 3
   },
   "file_extension": ".py",
   "mimetype": "text/x-python",
   "name": "python",
   "nbconvert_exporter": "python",
   "pygments_lexer": "ipython3",
   "version": "3.8.5"
  }
 },
 "nbformat": 4,
 "nbformat_minor": 5
}
