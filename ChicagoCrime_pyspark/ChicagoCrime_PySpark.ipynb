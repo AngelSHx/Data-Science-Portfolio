{
 "cells": [
  {
   "cell_type": "markdown",
   "id": "a9e1cf52-2ea9-4a31-bc08-bb0b64701f0d",
   "metadata": {},
   "source": [
    "# Chicago Crime Analysis with PySpark"
   ]
  },
  {
   "cell_type": "markdown",
   "id": "6ddea294-bfa0-4040-8522-3346a778736a",
   "metadata": {},
   "source": [
    "#### Goals\n",
    "\n",
    "\n",
    "Some goals for this project:\n",
    "- Do some simple EDA on *Chicago Crime* from [Kaggle](https://www.kaggle.com/)\n",
    "\n",
    "All this will be done using **[PySpark](https://spark.apache.org/docs/latest/api/python/)**"
   ]
  },
  {
   "cell_type": "markdown",
   "id": "18a5829c-950a-43e5-b8d7-95983d9ec66c",
   "metadata": {},
   "source": [
    "<hr>"
   ]
  },
  {
   "cell_type": "markdown",
   "id": "0bc41c05-7a52-4a14-bcf9-39737584692e",
   "metadata": {},
   "source": [
    "#### Import Libraries"
   ]
  },
  {
   "cell_type": "code",
   "execution_count": 1,
   "id": "7864839a-d58e-44d1-a7bf-4b07290d4fa2",
   "metadata": {},
   "outputs": [
    {
     "name": "stdout",
     "output_type": "stream",
     "text": [
      "[SUCCESS]\n"
     ]
    }
   ],
   "source": [
    "try:\n",
    "    from pyspark.sql import SparkSession\n",
    "    from pyspark import SparkContext\n",
    "    from pyspark.sql import SQLContext\n",
    "    from pyspark.sql import DataFrame\n",
    "    import pyspark.sql.types as tp\n",
    "    import pyspark.sql.functions as F\n",
    "    import pandas as pd\n",
    "    import numpy as np\n",
    "    import glob\n",
    "    from functools import reduce\n",
    "    from urllib.request import urlopen\n",
    "    \n",
    "    print('[SUCCESS]')\n",
    "except ImportError as ie:\n",
    "    raise ImportError(f'[Error importing]: {ie}')"
   ]
  },
  {
   "cell_type": "markdown",
   "id": "f6f8b54d-cd2d-4da8-8901-2f3777b929b4",
   "metadata": {},
   "source": [
    "**INITIALIZE SESSION**"
   ]
  },
  {
   "cell_type": "code",
   "execution_count": 2,
   "id": "d91a6239-3a54-4ebf-a350-7bc37201013b",
   "metadata": {},
   "outputs": [],
   "source": [
    "sc = SparkContext('local')\n",
    "spark = SparkSession(sc)"
   ]
  },
  {
   "cell_type": "markdown",
   "id": "e16723ed-499b-42b1-9fdb-5225cb57686b",
   "metadata": {},
   "source": [
    "<hr>"
   ]
  },
  {
   "cell_type": "markdown",
   "id": "c9a5c17f-4095-4558-8e2e-aa165af7af07",
   "metadata": {
    "tags": []
   },
   "source": [
    "#### Read in our DATA"
   ]
  },
  {
   "cell_type": "code",
   "execution_count": 3,
   "id": "f84a79d7-065c-40ed-8dc8-dcca843b6a43",
   "metadata": {},
   "outputs": [],
   "source": [
    "'''\n",
    "URL THAT WE ARE USING TO READ IN OUR JSON DATA\n",
    "'''\n",
    "URL = 'https://data.cityofchicago.org/resource/x2n5-8w5q.json'"
   ]
  },
  {
   "cell_type": "code",
   "execution_count": 4,
   "id": "a4aeb62c-a3b1-4e0f-9ce6-c1f4b8df8219",
   "metadata": {},
   "outputs": [],
   "source": [
    "def read_json_api(URL):\n",
    "    json_data = urlopen(URL).read().decode('utf-8')\n",
    "    \n",
    "    rdd = spark.sparkContext.parallelize([json_data])\n",
    "    \n",
    "    df = spark.read.json(rdd)\n",
    "    \n",
    "    \n",
    "    return df"
   ]
  },
  {
   "cell_type": "code",
   "execution_count": 5,
   "id": "64c3ca27-2520-41c7-b3ea-2e8ea07ab396",
   "metadata": {},
   "outputs": [
    {
     "name": "stdout",
     "output_type": "stream",
     "text": [
      "+---------------------------+---------------------------+---------------------------+---------------------------+---------------------------+---------------------------+-----+---------------------+--------------------+----------------------+------+----+--------------------+--------+--------------------+--------+------+------------+--------------------+-------------+----+------------+------------+\n",
      "|:@computed_region_43wa_7qmu|:@computed_region_6mkv_f3dw|:@computed_region_awaf_s7ux|:@computed_region_bdys_3d7i|:@computed_region_rpca_8um6|:@computed_region_vrxf_vc4k|_iucr|_location_description|_primary_decsription|_secondary_description|arrest|beat|               block|   case_|  date_of_occurrence|domestic|fbi_cd|    latitude|            location|    longitude|ward|x_coordinate|y_coordinate|\n",
      "+---------------------------+---------------------------+---------------------------+---------------------------+---------------------------+---------------------------+-----+---------------------+--------------------+----------------------+------+----+--------------------+--------+--------------------+--------+------+------------+--------------------+-------------+----+------------+------------+\n",
      "|                         16|                       4451|                         40|                         13|                         14|                         76| 0486|            CTA TRAIN|             BATTERY|  DOMESTIC BATTERY ...|     N|2433|011XX W THORNDALE...|JE175850|2021-03-22T05:05:...|       Y|   08B|41.990041584|{{\"address\": \"\", ...| -87.65891695|  48|     1167594|     1939683|\n",
      "|                          9|                       4301|                         12|                        625|                         36|                          4| 1320|               STREET|     CRIMINAL DAMAGE|            TO VEHICLE|     N| 214|     004XX E 43RD ST|JE175848|2021-03-22T05:10:...|       Y|    14|41.816647898|{{\"address\": \"\", ...|-87.616002363|   3|     1179789|     1876593|\n",
      "|                         15|                      21867|                         23|                          6|                         58|                         63| 0810|               STREET|               THEFT|             OVER $500|     N| 833| 065XX S KEDVALE AVE|JE175856|2021-03-22T05:30:...|       N|    06|41.773973377|{{\"address\": \"\", ...| -87.72630134|  13|     1149832|     1860811|\n",
      "|                          1|                      22248|                         29|                        638|                         43|                         55| 1130|          GAS STATION|  DECEPTIVE PRACTICE|  FRAUD OR CONFIDEN...|     N| 911|034XX S CALIFORNI...|JE175927|2021-03-22T05:30:...|       N|    11|41.831990039|{{\"address\": \"\", ...| -87.69486863|  12|     1158249|     1882014|\n",
      "|                         35|                      21202|                          9|                        431|                         25|                         41| 1152|        HOTEL / MOTEL|  DECEPTIVE PRACTICE|  ILLEGAL USE CASH ...|     N| 411|081XX S STONY ISL...|JE175972|2021-03-22T05:31:...|       Y|    11|41.747393001|{{\"address\": \"\", ...|-87.585438607|   8|     1188340|     1851428|\n",
      "+---------------------------+---------------------------+---------------------------+---------------------------+---------------------------+---------------------------+-----+---------------------+--------------------+----------------------+------+----+--------------------+--------+--------------------+--------+------+------------+--------------------+-------------+----+------------+------------+\n",
      "only showing top 5 rows\n",
      "\n"
     ]
    }
   ],
   "source": [
    "df = read_json_api(URL)\n",
    "df.show(5)"
   ]
  },
  {
   "cell_type": "markdown",
   "id": "5cde38eb-ddfe-4086-ba9d-9d74acc667ab",
   "metadata": {},
   "source": [
    "<hr>"
   ]
  },
  {
   "cell_type": "markdown",
   "id": "3b54a137-4219-4595-b8ef-344475b20aac",
   "metadata": {
    "tags": []
   },
   "source": [
    "#### Look at our Schema"
   ]
  },
  {
   "cell_type": "markdown",
   "id": "cfbbe032-45fc-48e1-92bb-b07c224781dc",
   "metadata": {},
   "source": [
    "Looking at schema allows us to see how our column types are set up."
   ]
  },
  {
   "cell_type": "code",
   "execution_count": 9,
   "id": "deb3d5de-5019-4a9a-8bed-3a8f36e420e1",
   "metadata": {},
   "outputs": [
    {
     "name": "stdout",
     "output_type": "stream",
     "text": [
      "root\n",
      " |-- :@computed_region_43wa_7qmu: string (nullable = true)\n",
      " |-- :@computed_region_6mkv_f3dw: string (nullable = true)\n",
      " |-- :@computed_region_awaf_s7ux: string (nullable = true)\n",
      " |-- :@computed_region_bdys_3d7i: string (nullable = true)\n",
      " |-- :@computed_region_rpca_8um6: string (nullable = true)\n",
      " |-- :@computed_region_vrxf_vc4k: string (nullable = true)\n",
      " |-- _iucr: string (nullable = true)\n",
      " |-- _location_description: string (nullable = true)\n",
      " |-- _primary_decsription: string (nullable = true)\n",
      " |-- _secondary_description: string (nullable = true)\n",
      " |-- arrest: string (nullable = true)\n",
      " |-- beat: string (nullable = true)\n",
      " |-- block: string (nullable = true)\n",
      " |-- case_: string (nullable = true)\n",
      " |-- date_of_occurrence: string (nullable = true)\n",
      " |-- domestic: string (nullable = true)\n",
      " |-- fbi_cd: string (nullable = true)\n",
      " |-- latitude: string (nullable = true)\n",
      " |-- location: struct (nullable = true)\n",
      " |    |-- human_address: string (nullable = true)\n",
      " |    |-- latitude: string (nullable = true)\n",
      " |    |-- longitude: string (nullable = true)\n",
      " |-- longitude: string (nullable = true)\n",
      " |-- ward: string (nullable = true)\n",
      " |-- x_coordinate: string (nullable = true)\n",
      " |-- y_coordinate: string (nullable = true)\n",
      "\n"
     ]
    }
   ],
   "source": [
    "df.printSchema()"
   ]
  },
  {
   "cell_type": "markdown",
   "id": "af7c9fea-585a-4fe6-a221-722a9bba0d0f",
   "metadata": {},
   "source": [
    "As we, our schema isn't in the best condition to use for EDA. \n",
    "\n",
    "We want certain attributes to the appropriate data types. \n",
    "- This would involve changing the schema\n",
    "\n",
    "\n",
    "However, for now we will stick with the way it is and drop columns we don't need."
   ]
  },
  {
   "cell_type": "code",
   "execution_count": 10,
   "id": "e135084c-5d83-4854-8008-088688123370",
   "metadata": {},
   "outputs": [],
   "source": [
    "columns_to_be_dropped = (':@computed_region_43wa_7qmu', ':@computed_region_6mkv_f3dw', ':@computed_region_awaf_s7ux', ':@computed_region_bdys_3d7i', ':@computed_region_rpca_8um6', ':@computed_region_vrxf_vc4k')"
   ]
  },
  {
   "cell_type": "code",
   "execution_count": 11,
   "id": "a58931b0-85ef-4468-b99a-462288903e95",
   "metadata": {},
   "outputs": [],
   "source": [
    "def drop_cols(df, cols):\n",
    "    df = df.drop(*cols)\n",
    "    \n",
    "    return df"
   ]
  },
  {
   "cell_type": "code",
   "execution_count": 12,
   "id": "e8eb6f4a-cccc-4ea4-98ca-74a0d4891872",
   "metadata": {},
   "outputs": [
    {
     "name": "stdout",
     "output_type": "stream",
     "text": [
      "root\n",
      " |-- _iucr: string (nullable = true)\n",
      " |-- _location_description: string (nullable = true)\n",
      " |-- _primary_decsription: string (nullable = true)\n",
      " |-- _secondary_description: string (nullable = true)\n",
      " |-- arrest: string (nullable = true)\n",
      " |-- beat: string (nullable = true)\n",
      " |-- block: string (nullable = true)\n",
      " |-- case_: string (nullable = true)\n",
      " |-- date_of_occurrence: string (nullable = true)\n",
      " |-- domestic: string (nullable = true)\n",
      " |-- fbi_cd: string (nullable = true)\n",
      " |-- latitude: string (nullable = true)\n",
      " |-- location: struct (nullable = true)\n",
      " |    |-- human_address: string (nullable = true)\n",
      " |    |-- latitude: string (nullable = true)\n",
      " |    |-- longitude: string (nullable = true)\n",
      " |-- longitude: string (nullable = true)\n",
      " |-- ward: string (nullable = true)\n",
      " |-- x_coordinate: string (nullable = true)\n",
      " |-- y_coordinate: string (nullable = true)\n",
      "\n"
     ]
    }
   ],
   "source": [
    "df = drop_cols(df, columns_to_be_dropped)\n",
    "df.printSchema()"
   ]
  },
  {
   "cell_type": "code",
   "execution_count": 14,
   "id": "f467af0c-7f52-4e35-9229-0f8a6e03f41f",
   "metadata": {},
   "outputs": [
    {
     "data": {
      "text/plain": [
       "['_iucr',\n",
       " '_location_description',\n",
       " '_primary_decsription',\n",
       " '_secondary_description',\n",
       " 'arrest',\n",
       " 'beat',\n",
       " 'block',\n",
       " 'case_',\n",
       " 'date_of_occurrence',\n",
       " 'domestic',\n",
       " 'fbi_cd',\n",
       " 'latitude',\n",
       " 'location',\n",
       " 'longitude',\n",
       " 'ward',\n",
       " 'x_coordinate',\n",
       " 'y_coordinate']"
      ]
     },
     "execution_count": 14,
     "metadata": {},
     "output_type": "execute_result"
    }
   ],
   "source": [
    "df.columns"
   ]
  },
  {
   "cell_type": "markdown",
   "id": "2276ecc4-8d56-4bce-9e0e-843c684ce747",
   "metadata": {},
   "source": [
    "Now that we have the columns we want to work with, here is a small description of what each column is according to [chicago.gov](https://www.chicago.gov/city/en/dataset/crime.html)"
   ]
  },
  {
   "cell_type": "markdown",
   "id": "b51906ea-30a5-40f7-839b-3863087cc07d",
   "metadata": {},
   "source": [
    "#### Exploratory Data Analysis"
   ]
  },
  {
   "cell_type": "markdown",
   "id": "5501ca64-5f8b-4718-a12a-dd8dfd759535",
   "metadata": {},
   "source": [
    "Goals:\n",
    "- Dataset overview\n",
    "    - NA values\n",
    "    - Dimensions of the data\n",
    "- Description on columns (Important ones chosen by me)\n",
    "    - Description\n",
    "    - Arrest\n",
    "    - Year\n",
    "    - \n"
   ]
  },
  {
   "cell_type": "code",
   "execution_count": 6,
   "id": "a2750b61-7c64-4050-a586-b10c6890287c",
   "metadata": {},
   "outputs": [],
   "source": [
    "'''\n",
    "FUNCTION TO FIND NULL/NA VALUES IN DATAFRAME\n",
    "'''\n",
    "def null_values(df):\n",
    "    return df.agg(*[F.count(F.when(F.isnull(c), c)).alias(c) for c in df.columns])\n",
    "\n",
    "df_null = null_values(df)"
   ]
  },
  {
   "cell_type": "code",
   "execution_count": null,
   "id": "2e27f265-03bb-4968-9ec5-726064b90690",
   "metadata": {},
   "outputs": [],
   "source": [
    "'''\n",
    "FUNCTION TO GET DIMENSIONS OF DATAFRAME\n",
    "'''\n",
    "def GET_DIMENSIONS(df):\n",
    "    return (df.count(), len(df.columns))\n",
    "\n",
    "# -----\n",
    "print(f'Number of rows: {GET_DIMENSIONS(df)[0]} \\nNumber of columns: {GET_DIMENSIONS(df)[1]}')"
   ]
  },
  {
   "cell_type": "code",
   "execution_count": 39,
   "id": "960958f6-8f4b-455c-9a0d-4da504629eff",
   "metadata": {},
   "outputs": [],
   "source": [
    "sc.stop()"
   ]
  },
  {
   "cell_type": "code",
   "execution_count": null,
   "id": "55be1ac8-9ce4-415f-92f8-17b645100ac3",
   "metadata": {},
   "outputs": [],
   "source": []
  }
 ],
 "metadata": {
  "kernelspec": {
   "display_name": "Python 3 (ipykernel)",
   "language": "python",
   "name": "python3"
  },
  "language_info": {
   "codemirror_mode": {
    "name": "ipython",
    "version": 3
   },
   "file_extension": ".py",
   "mimetype": "text/x-python",
   "name": "python",
   "nbconvert_exporter": "python",
   "pygments_lexer": "ipython3",
   "version": "3.9.10"
  }
 },
 "nbformat": 4,
 "nbformat_minor": 5
}
