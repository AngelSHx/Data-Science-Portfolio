{
 "cells": [
  {
   "cell_type": "markdown",
   "id": "a9e1cf52-2ea9-4a31-bc08-bb0b64701f0d",
   "metadata": {},
   "source": [
    "# Chicago Crime Analysis with PySpark"
   ]
  },
  {
   "cell_type": "markdown",
   "id": "6ddea294-bfa0-4040-8522-3346a778736a",
   "metadata": {},
   "source": [
    "#### Goals\n",
    "\n",
    "\n",
    "Some goals for this project:\n",
    "- Do some simple EDA on *Chicago Crime* from [Kaggle](https://www.kaggle.com/)\n",
    "\n",
    "All this will be done using **[PySpark](https://spark.apache.org/docs/latest/api/python/)**"
   ]
  },
  {
   "cell_type": "markdown",
   "id": "18a5829c-950a-43e5-b8d7-95983d9ec66c",
   "metadata": {},
   "source": [
    "<hr>"
   ]
  },
  {
   "cell_type": "markdown",
   "id": "0bc41c05-7a52-4a14-bcf9-39737584692e",
   "metadata": {},
   "source": [
    "#### Import Libraries"
   ]
  },
  {
   "cell_type": "code",
   "execution_count": 40,
   "id": "7864839a-d58e-44d1-a7bf-4b07290d4fa2",
   "metadata": {},
   "outputs": [
    {
     "name": "stdout",
     "output_type": "stream",
     "text": [
      "[SUCCESS]\n"
     ]
    }
   ],
   "source": [
    "try:\n",
    "    from pyspark.sql import SparkSession\n",
    "    from pyspark import SparkContext\n",
    "    from pyspark.sql import SQLContext\n",
    "    from pyspark.sql import DataFrame\n",
    "    import pyspark.sql.types as tp\n",
    "    import pyspark.sql.functions as F\n",
    "    import pandas as pd\n",
    "    import numpy as np\n",
    "    import glob\n",
    "    from functools import reduce\n",
    "    from urllib.request import urlopen\n",
    "    \n",
    "    print('[SUCCESS]')\n",
    "except ImportError as ie:\n",
    "    raise ImportError(f'[Error importing]: {ie}')"
   ]
  },
  {
   "cell_type": "markdown",
   "id": "f6f8b54d-cd2d-4da8-8901-2f3777b929b4",
   "metadata": {},
   "source": [
    "**INITIALIZE SESSION**"
   ]
  },
  {
   "cell_type": "code",
   "execution_count": 2,
   "id": "d91a6239-3a54-4ebf-a350-7bc37201013b",
   "metadata": {},
   "outputs": [],
   "source": [
    "sc = SparkContext('local')\n",
    "spark = SparkSession(sc)"
   ]
  },
  {
   "cell_type": "markdown",
   "id": "e16723ed-499b-42b1-9fdb-5225cb57686b",
   "metadata": {},
   "source": [
    "<hr>"
   ]
  },
  {
   "cell_type": "markdown",
   "id": "c9a5c17f-4095-4558-8e2e-aa165af7af07",
   "metadata": {
    "tags": []
   },
   "source": [
    "#### Read in our DATA"
   ]
  },
  {
   "cell_type": "code",
   "execution_count": 37,
   "id": "f84a79d7-065c-40ed-8dc8-dcca843b6a43",
   "metadata": {},
   "outputs": [],
   "source": [
    "'''\n",
    "URL THAT WE ARE USING TO READ IN OUR JSON DATA\n",
    "'''\n",
    "URL = 'https://data.cityofchicago.org/resource/x2n5-8w5q.json'"
   ]
  },
  {
   "cell_type": "code",
   "execution_count": 36,
   "id": "a4aeb62c-a3b1-4e0f-9ce6-c1f4b8df8219",
   "metadata": {},
   "outputs": [],
   "source": [
    "def read_json_api(URL):\n",
    "    json_data = urlopen(URL).read().decode('utf-8')\n",
    "    \n",
    "    rdd = spark.sparkContext.parallelize([json_data])\n",
    "    \n",
    "    df = spark.read.json(rdd)\n",
    "    \n",
    "    \n",
    "    return df"
   ]
  },
  {
   "cell_type": "code",
   "execution_count": 38,
   "id": "64c3ca27-2520-41c7-b3ea-2e8ea07ab396",
   "metadata": {},
   "outputs": [
    {
     "name": "stdout",
     "output_type": "stream",
     "text": [
      "+---------------------------+---------------------------+---------------------------+---------------------------+---------------------------+---------------------------+-----+---------------------+--------------------+----------------------+------+----+--------------------+--------+--------------------+--------+------+------------+--------------------+-------------+----+------------+------------+\n",
      "|:@computed_region_43wa_7qmu|:@computed_region_6mkv_f3dw|:@computed_region_awaf_s7ux|:@computed_region_bdys_3d7i|:@computed_region_rpca_8um6|:@computed_region_vrxf_vc4k|_iucr|_location_description|_primary_decsription|_secondary_description|arrest|beat|               block|   case_|  date_of_occurrence|domestic|fbi_cd|    latitude|            location|    longitude|ward|x_coordinate|y_coordinate|\n",
      "+---------------------------+---------------------------+---------------------------+---------------------------+---------------------------+---------------------------+-----+---------------------+--------------------+----------------------+------+----+--------------------+--------+--------------------+--------+------+------------+--------------------+-------------+----+------------+------------+\n",
      "|                          7|                      22615|                         52|                        597|                          2|                         26| 1320|               STREET|     CRIMINAL DAMAGE|            TO VEHICLE|     N|2513|016XX N MC VICKER...|JE174959|2021-03-21T05:04:...|       N|    14|41.909865701|{{\"address\": \"\", ...|-87.776456145|  29|     1135830|     1910237|\n",
      "|                          9|                      14924|                         12|                        224|                         37|                          3| 0420|            CTA TRAIN|             BATTERY|  AGGRAVATED - KNIF...|     N| 925|     002XX W 47TH ST|JE174965|2021-03-21T05:30:...|       N|   04B|41.809125265|{{\"address\": \"\", ...|-87.631906508|   3|     1175476|     1873816|\n",
      "|                         14|                      21572|                         36|                         36|                         30|                         28| 5002|               STREET|       OTHER OFFENSE|  OTHER VEHICLE OFF...|     N|1134|     032XX W POLK ST|JE175520|2021-03-21T05:30:...|       Y|    26|41.870951132|{{\"address\": \"\", ...|-87.706979085|  24|     1154845|     1896187|\n",
      "|                          2|                      21559|                         19|                        436|                         11|                         66| 0460|            APARTMENT|             BATTERY|                SIMPLE|     N| 724|     010XX W 64TH ST|JE174985|2021-03-21T05:30:...|       N|   08B|41.777850177|{{\"address\": \"\", ...|-87.650377017|  16|     1170531|     1862379|\n",
      "|                          6|                      22268|                         35|                        336|                          7|                         62| 0810|               STREET|               THEFT|             OVER $500|     N| 812|     070XX W 64TH ST|JE174964|2021-03-21T05:30:...|       N|    06|41.775619485|{{\"address\": \"\", ...|-87.796785523|  23|     1130602|     1861283|\n",
      "+---------------------------+---------------------------+---------------------------+---------------------------+---------------------------+---------------------------+-----+---------------------+--------------------+----------------------+------+----+--------------------+--------+--------------------+--------+------+------------+--------------------+-------------+----+------------+------------+\n",
      "only showing top 5 rows\n",
      "\n"
     ]
    }
   ],
   "source": [
    "df = read_json_api(URL)\n",
    "df.show(5)"
   ]
  },
  {
   "cell_type": "markdown",
   "id": "5cde38eb-ddfe-4086-ba9d-9d74acc667ab",
   "metadata": {},
   "source": [
    "<hr>"
   ]
  },
  {
   "cell_type": "markdown",
   "id": "3b54a137-4219-4595-b8ef-344475b20aac",
   "metadata": {
    "tags": []
   },
   "source": [
    "#### Look at our Schema"
   ]
  },
  {
   "cell_type": "markdown",
   "id": "cfbbe032-45fc-48e1-92bb-b07c224781dc",
   "metadata": {},
   "source": [
    "Looking at schema allows us to see how our column types are set up."
   ]
  },
  {
   "cell_type": "code",
   "execution_count": 39,
   "id": "deb3d5de-5019-4a9a-8bed-3a8f36e420e1",
   "metadata": {},
   "outputs": [
    {
     "name": "stdout",
     "output_type": "stream",
     "text": [
      "root\n",
      " |-- :@computed_region_43wa_7qmu: string (nullable = true)\n",
      " |-- :@computed_region_6mkv_f3dw: string (nullable = true)\n",
      " |-- :@computed_region_awaf_s7ux: string (nullable = true)\n",
      " |-- :@computed_region_bdys_3d7i: string (nullable = true)\n",
      " |-- :@computed_region_rpca_8um6: string (nullable = true)\n",
      " |-- :@computed_region_vrxf_vc4k: string (nullable = true)\n",
      " |-- _iucr: string (nullable = true)\n",
      " |-- _location_description: string (nullable = true)\n",
      " |-- _primary_decsription: string (nullable = true)\n",
      " |-- _secondary_description: string (nullable = true)\n",
      " |-- arrest: string (nullable = true)\n",
      " |-- beat: string (nullable = true)\n",
      " |-- block: string (nullable = true)\n",
      " |-- case_: string (nullable = true)\n",
      " |-- date_of_occurrence: string (nullable = true)\n",
      " |-- domestic: string (nullable = true)\n",
      " |-- fbi_cd: string (nullable = true)\n",
      " |-- latitude: string (nullable = true)\n",
      " |-- location: struct (nullable = true)\n",
      " |    |-- human_address: string (nullable = true)\n",
      " |    |-- latitude: string (nullable = true)\n",
      " |    |-- longitude: string (nullable = true)\n",
      " |-- longitude: string (nullable = true)\n",
      " |-- ward: string (nullable = true)\n",
      " |-- x_coordinate: string (nullable = true)\n",
      " |-- y_coordinate: string (nullable = true)\n",
      "\n"
     ]
    }
   ],
   "source": [
    "df.printSchema()"
   ]
  },
  {
   "cell_type": "markdown",
   "id": "af7c9fea-585a-4fe6-a221-722a9bba0d0f",
   "metadata": {},
   "source": [
    "As we, our schema isn't in the best condition to use for EDA. \n",
    "\n",
    "We want certain attributes to the appropriate data types. \n",
    "\n",
    "Let's change that."
   ]
  },
  {
   "cell_type": "code",
   "execution_count": null,
   "id": "32962b47-9b2c-460f-8bb3-34465691d599",
   "metadata": {},
   "outputs": [],
   "source": [
    "new_schema = tp.StructType([])"
   ]
  },
  {
   "cell_type": "markdown",
   "id": "b51906ea-30a5-40f7-839b-3863087cc07d",
   "metadata": {},
   "source": [
    "#### Exploratory Data Analysis"
   ]
  },
  {
   "cell_type": "markdown",
   "id": "5501ca64-5f8b-4718-a12a-dd8dfd759535",
   "metadata": {},
   "source": [
    "Goals:\n",
    "- Dataset overview\n",
    "    - NA values\n",
    "    - Dimensions of the data\n",
    "- Description on columns (Important ones chosen by me)\n",
    "    - Description\n",
    "    - Arrest\n",
    "    - Year\n",
    "    - \n"
   ]
  },
  {
   "cell_type": "code",
   "execution_count": 6,
   "id": "a2750b61-7c64-4050-a586-b10c6890287c",
   "metadata": {},
   "outputs": [],
   "source": [
    "'''\n",
    "FUNCTION TO FIND NULL/NA VALUES IN DATAFRAME\n",
    "'''\n",
    "def null_values(df):\n",
    "    return df.agg(*[F.count(F.when(F.isnull(c), c)).alias(c) for c in df.columns])\n",
    "\n",
    "df_null = null_values(df)"
   ]
  },
  {
   "cell_type": "code",
   "execution_count": null,
   "id": "2e27f265-03bb-4968-9ec5-726064b90690",
   "metadata": {},
   "outputs": [],
   "source": [
    "'''\n",
    "FUNCTION TO GET DIMENSIONS OF DATAFRAME\n",
    "'''\n",
    "def GET_DIMENSIONS(df):\n",
    "    return (df.count(), len(df.columns))\n",
    "\n",
    "# -----\n",
    "print(f'Number of rows: {GET_DIMENSIONS(df)[0]} \\nNumber of columns: {GET_DIMENSIONS(df)[1]}')"
   ]
  },
  {
   "cell_type": "code",
   "execution_count": 39,
   "id": "960958f6-8f4b-455c-9a0d-4da504629eff",
   "metadata": {},
   "outputs": [],
   "source": [
    "sc.stop()"
   ]
  },
  {
   "cell_type": "code",
   "execution_count": null,
   "id": "55be1ac8-9ce4-415f-92f8-17b645100ac3",
   "metadata": {},
   "outputs": [],
   "source": []
  }
 ],
 "metadata": {
  "kernelspec": {
   "display_name": "Python 3 (ipykernel)",
   "language": "python",
   "name": "python3"
  },
  "language_info": {
   "codemirror_mode": {
    "name": "ipython",
    "version": 3
   },
   "file_extension": ".py",
   "mimetype": "text/x-python",
   "name": "python",
   "nbconvert_exporter": "python",
   "pygments_lexer": "ipython3",
   "version": "3.9.10"
  }
 },
 "nbformat": 4,
 "nbformat_minor": 5
}
