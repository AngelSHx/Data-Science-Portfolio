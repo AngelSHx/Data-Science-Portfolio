{
 "cells": [
  {
   "cell_type": "markdown",
   "id": "a9e1cf52-2ea9-4a31-bc08-bb0b64701f0d",
   "metadata": {},
   "source": [
    "# Chicago Crime Analysis and Pipeline with PySpark"
   ]
  },
  {
   "cell_type": "markdown",
   "id": "6ddea294-bfa0-4040-8522-3346a778736a",
   "metadata": {},
   "source": [
    "#### Goals\n",
    "\n",
    "\n",
    "Some goals for this project:\n",
    "- Do EDA on *Chicago Crime* from [Kaggle](https://www.kaggle.com/)\n",
    "- Create a Machine Learning Pipeline\n",
    "\n",
    "All this will be done using **[PySpark](https://spark.apache.org/docs/latest/api/python/)**"
   ]
  },
  {
   "cell_type": "markdown",
   "id": "18a5829c-950a-43e5-b8d7-95983d9ec66c",
   "metadata": {},
   "source": [
    "<hr>"
   ]
  },
  {
   "cell_type": "markdown",
   "id": "0bc41c05-7a52-4a14-bcf9-39737584692e",
   "metadata": {},
   "source": [
    "#### Import Libraries"
   ]
  },
  {
   "cell_type": "code",
   "execution_count": 23,
   "id": "7864839a-d58e-44d1-a7bf-4b07290d4fa2",
   "metadata": {},
   "outputs": [
    {
     "name": "stdout",
     "output_type": "stream",
     "text": [
      "[SUCCESS]\n"
     ]
    }
   ],
   "source": [
    "try:\n",
    "    from pyspark.sql import SparkSession\n",
    "    from pyspark import SparkContext\n",
    "    from pyspark.sql import SQLContext\n",
    "    from pyspark.sql import DataFrame\n",
    "    import pyspark.sql.functions as F\n",
    "    import pandas as pd\n",
    "    import numpy as np\n",
    "    import glob\n",
    "    from functools import reduce\n",
    "    \n",
    "    print('[SUCCESS]')\n",
    "except ImportError as ie:\n",
    "    raise ImportError(f'[Error importing]: {ie}')"
   ]
  },
  {
   "cell_type": "markdown",
   "id": "f6f8b54d-cd2d-4da8-8901-2f3777b929b4",
   "metadata": {},
   "source": [
    "**INITIALIZE SESSION**"
   ]
  },
  {
   "cell_type": "code",
   "execution_count": 24,
   "id": "d91a6239-3a54-4ebf-a350-7bc37201013b",
   "metadata": {},
   "outputs": [],
   "source": [
    "sc = SparkContext('local')\n",
    "spark = SparkSession(sc)"
   ]
  },
  {
   "cell_type": "markdown",
   "id": "e16723ed-499b-42b1-9fdb-5225cb57686b",
   "metadata": {},
   "source": [
    "<hr>"
   ]
  },
  {
   "cell_type": "markdown",
   "id": "c9a5c17f-4095-4558-8e2e-aa165af7af07",
   "metadata": {
    "tags": []
   },
   "source": [
    "#### Read in our DATA"
   ]
  },
  {
   "cell_type": "code",
   "execution_count": 25,
   "id": "724668ce-5aa0-4884-9c8d-83b6de6a2d38",
   "metadata": {},
   "outputs": [],
   "source": [
    "PATH = 'DATA' # FOLDER CONTAINING FILES\n",
    "csv_files = glob.glob(PATH + '/*.csv') # GET ALL CSV FILES\n",
    "\n",
    "\n",
    "# CREATE FUNCTION TO READ IN THE DATA AND MERGE FILES\n",
    "def merge_csv(files):\n",
    "    df = spark.read.options(header = True).csv(files)\n",
    "    \n",
    "    return df\n",
    "\n",
    "df = merge_csv(csv_files)"
   ]
  },
  {
   "cell_type": "code",
   "execution_count": 26,
   "id": "b536e7ca-0332-41f3-8bdc-7132425ec186",
   "metadata": {},
   "outputs": [
    {
     "name": "stdout",
     "output_type": "stream",
     "text": [
      "+---+-----------+--------+--------------------+-----------------+------------+-----------+--------------------+---------+--------+-----+--------+----+--------------+--------+------------+------------+----+----------+--------------------+---------+--------+\n",
      "| ID|Case Number|    Date|               Block|             IUCR|Primary Type|Description|Location Description|   Arrest|Domestic| Beat|District|Ward|Community Area|FBI Code|X Coordinate|Y Coordinate|Year|Updated On|            Latitude|Longitude|Location|\n",
      "+---+-----------+--------+--------------------+-----------------+------------+-----------+--------------------+---------+--------+-----+--------+----+--------------+--------+------------+------------+----+----------+--------------------+---------+--------+\n",
      "|879|    4786321|HM399414|01/01/2004 12:01:...|082XX S COLES AVE|        0840|      THEFT|FINANCIAL ID THEF...|RESIDENCE|   False|False|     424| 4.0|           7.0|    46.0|          06|        null|null|      2004|08/17/2015 03:03:...|     null|    null|\n",
      "+---+-----------+--------+--------------------+-----------------+------------+-----------+--------------------+---------+--------+-----+--------+----+--------------+--------+------------+------------+----+----------+--------------------+---------+--------+\n",
      "only showing top 1 row\n",
      "\n"
     ]
    }
   ],
   "source": [
    "df.show(1)"
   ]
  },
  {
   "cell_type": "markdown",
   "id": "5cde38eb-ddfe-4086-ba9d-9d74acc667ab",
   "metadata": {},
   "source": [
    "<hr>"
   ]
  },
  {
   "cell_type": "markdown",
   "id": "3b54a137-4219-4595-b8ef-344475b20aac",
   "metadata": {
    "tags": []
   },
   "source": [
    "#### Look at our Schema"
   ]
  },
  {
   "cell_type": "markdown",
   "id": "cfbbe032-45fc-48e1-92bb-b07c224781dc",
   "metadata": {},
   "source": [
    "Looking at schema allows us to see how our column types are set up."
   ]
  },
  {
   "cell_type": "code",
   "execution_count": 27,
   "id": "deb3d5de-5019-4a9a-8bed-3a8f36e420e1",
   "metadata": {},
   "outputs": [
    {
     "name": "stdout",
     "output_type": "stream",
     "text": [
      "root\n",
      " |-- ID: string (nullable = true)\n",
      " |-- Case Number: string (nullable = true)\n",
      " |-- Date: string (nullable = true)\n",
      " |-- Block: string (nullable = true)\n",
      " |-- IUCR: string (nullable = true)\n",
      " |-- Primary Type: string (nullable = true)\n",
      " |-- Description: string (nullable = true)\n",
      " |-- Location Description: string (nullable = true)\n",
      " |-- Arrest: string (nullable = true)\n",
      " |-- Domestic: string (nullable = true)\n",
      " |-- Beat: string (nullable = true)\n",
      " |-- District: string (nullable = true)\n",
      " |-- Ward: string (nullable = true)\n",
      " |-- Community Area: string (nullable = true)\n",
      " |-- FBI Code: string (nullable = true)\n",
      " |-- X Coordinate: string (nullable = true)\n",
      " |-- Y Coordinate: string (nullable = true)\n",
      " |-- Year: string (nullable = true)\n",
      " |-- Updated On: string (nullable = true)\n",
      " |-- Latitude: string (nullable = true)\n",
      " |-- Longitude: string (nullable = true)\n",
      " |-- Location: string (nullable = true)\n",
      "\n"
     ]
    }
   ],
   "source": [
    "df.printSchema()"
   ]
  },
  {
   "cell_type": "markdown",
   "id": "af7c9fea-585a-4fe6-a221-722a9bba0d0f",
   "metadata": {},
   "source": [
    "Because our schema has the appropriate data types for each column, we don't have to create a custom schema. "
   ]
  },
  {
   "cell_type": "markdown",
   "id": "b51906ea-30a5-40f7-839b-3863087cc07d",
   "metadata": {},
   "source": [
    "#### Exploratory Data Analysis"
   ]
  },
  {
   "cell_type": "markdown",
   "id": "5501ca64-5f8b-4718-a12a-dd8dfd759535",
   "metadata": {},
   "source": [
    "Goals:\n",
    "- Do some basic data descriptions\n",
    "    - NA values\n",
    "    - Dimensions of the data\n",
    "\n"
   ]
  },
  {
   "cell_type": "code",
   "execution_count": 31,
   "id": "a2750b61-7c64-4050-a586-b10c6890287c",
   "metadata": {},
   "outputs": [],
   "source": [
    "# FIND NULL VALUES IN DATAFRAME\n",
    "def null_values(df):\n",
    "    return df.agg(*[F.count(F.when(F.isnull(c), c)).alias(c) for c in df.columns])\n",
    "\n",
    "df_null = null_values(df)"
   ]
  },
  {
   "cell_type": "code",
   "execution_count": 32,
   "id": "b4de277d-3c71-450c-a36f-84ad354893f4",
   "metadata": {},
   "outputs": [
    {
     "name": "stdout",
     "output_type": "stream",
     "text": [
      "+---+-----------+----+-----+----+------------+-----------+--------------------+------+--------+----+--------+----+--------------+--------+------------+------------+------+----------+--------+---------+--------+\n",
      "| ID|Case Number|Date|Block|IUCR|Primary Type|Description|Location Description|Arrest|Domestic|Beat|District|Ward|Community Area|FBI Code|X Coordinate|Y Coordinate|  Year|Updated On|Latitude|Longitude|Location|\n",
      "+---+-----------+----+-----+----+------------+-----------+--------------------+------+--------+----+--------+----+--------------+--------+------------+------------+------+----------+--------+---------+--------+\n",
      "|  0|          1|   7|    0|   0|           0|          0|                   0|  1990|       0|   0|       0|  91|        700224|  702091|           0|      105573|105573|         0|       0|   105573|  105574|\n",
      "+---+-----------+----+-----+----+------------+-----------+--------------------+------+--------+----+--------+----+--------------+--------+------------+------------+------+----------+--------+---------+--------+\n",
      "\n"
     ]
    }
   ],
   "source": [
    "df_null.show()"
   ]
  },
  {
   "cell_type": "code",
   "execution_count": 37,
   "id": "2e27f265-03bb-4968-9ec5-726064b90690",
   "metadata": {},
   "outputs": [
    {
     "name": "stdout",
     "output_type": "stream",
     "text": [
      "Number of rows: 7941286 \n",
      "Number of columns: 22\n"
     ]
    }
   ],
   "source": [
    "def GET_DIMENSIONS(df):\n",
    "    return (df.count(), len(df.columns))\n",
    "\n",
    "\n",
    "# -----\n",
    "print(f'Number of rows: {GET_DIMENSIONS(df)[0]} \\nNumber of columns: {GET_DIMENSIONS(df)[1]}')"
   ]
  },
  {
   "cell_type": "code",
   "execution_count": 22,
   "id": "960958f6-8f4b-455c-9a0d-4da504629eff",
   "metadata": {},
   "outputs": [],
   "source": [
    "sc.stop()"
   ]
  },
  {
   "cell_type": "markdown",
   "id": "81fd6323-2508-4360-814a-4a7bf14f6143",
   "metadata": {},
   "source": [
    "```python\n",
    "+---+-----------+----+-----+----+------------+-----------+--------------------+------+--------+----+--------+----+--------------+--------+------------+------------+------+----------+--------+---------+--------+\n",
    "| ID|Case Number|Date|Block|IUCR|Primary Type|Description|Location Description|Arrest|Domestic|Beat|District|Ward|Community Area|FBI Code|X Coordinate|Y Coordinate|  Year|Updated On|Latitude|Longitude|Location|\n",
    "+---+-----------+----+-----+----+------------+-----------+--------------------+------+--------+----+--------+----+--------------+--------+------------+------------+------+----------+--------+---------+--------+\n",
    "|  0|          1|   7|    0|   0|           0|          0|                   0|  1990|       0|   0|       0|  91|        700224|  702091|           0|      105573|105573|         0|       0|   105573|  105574|\n",
    "+---+-----------+----+-----+----+------------+-----------+--------------------+------+--------+----+--------+----+--------------+--------+------------+------------+------+----------+--------+---------+--------+\n",
    "```"
   ]
  },
  {
   "cell_type": "code",
   "execution_count": null,
   "id": "f896bf26-529b-4cf3-82af-46147bd43939",
   "metadata": {},
   "outputs": [],
   "source": []
  }
 ],
 "metadata": {
  "kernelspec": {
   "display_name": "Python 3 (ipykernel)",
   "language": "python",
   "name": "python3"
  },
  "language_info": {
   "codemirror_mode": {
    "name": "ipython",
    "version": 3
   },
   "file_extension": ".py",
   "mimetype": "text/x-python",
   "name": "python",
   "nbconvert_exporter": "python",
   "pygments_lexer": "ipython3",
   "version": "3.9.10"
  }
 },
 "nbformat": 4,
 "nbformat_minor": 5
}
