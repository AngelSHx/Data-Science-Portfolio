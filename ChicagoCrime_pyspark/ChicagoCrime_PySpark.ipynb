{
 "cells": [
  {
   "cell_type": "markdown",
   "id": "a9e1cf52-2ea9-4a31-bc08-bb0b64701f0d",
   "metadata": {},
   "source": [
    "# Chicago Crime Analysis with PySpark"
   ]
  },
  {
   "cell_type": "markdown",
   "id": "6ddea294-bfa0-4040-8522-3346a778736a",
   "metadata": {},
   "source": [
    "#### Goals\n",
    "\n",
    "\n",
    "Some goals for this project:\n",
    "- Do some simple EDA on *Chicago Crime* from [Kaggle](https://www.kaggle.com/)\n",
    "\n",
    "All this will be done using **[PySpark](https://spark.apache.org/docs/latest/api/python/)**"
   ]
  },
  {
   "cell_type": "markdown",
   "id": "18a5829c-950a-43e5-b8d7-95983d9ec66c",
   "metadata": {},
   "source": [
    "<hr>"
   ]
  },
  {
   "cell_type": "markdown",
   "id": "0bc41c05-7a52-4a14-bcf9-39737584692e",
   "metadata": {},
   "source": [
    "#### Import Libraries"
   ]
  },
  {
   "cell_type": "code",
   "execution_count": 37,
   "id": "7864839a-d58e-44d1-a7bf-4b07290d4fa2",
   "metadata": {},
   "outputs": [
    {
     "name": "stdout",
     "output_type": "stream",
     "text": [
      "[SUCCESS]\n"
     ]
    }
   ],
   "source": [
    "try:\n",
    "    from pyspark.sql import SparkSession\n",
    "    from pyspark import SparkContext\n",
    "    from pyspark.sql import SQLContext\n",
    "    from pyspark.sql import DataFrame\n",
    "    import pyspark.sql.types as tp\n",
    "    import pyspark.sql.functions as F\n",
    "    import pandas as pd\n",
    "    import numpy as np\n",
    "    import glob\n",
    "    from functools import reduce\n",
    "    import seaborn as sns\n",
    "    import matplotlib.pyplot as plt\n",
    "    from urllib.request import urlopen\n",
    "    \n",
    "    print('[SUCCESS]')\n",
    "except ImportError as ie:\n",
    "    raise ImportError(f'[Error importing]: {ie}')"
   ]
  },
  {
   "cell_type": "markdown",
   "id": "f6f8b54d-cd2d-4da8-8901-2f3777b929b4",
   "metadata": {},
   "source": [
    "**INITIALIZE SESSION**"
   ]
  },
  {
   "cell_type": "code",
   "execution_count": 2,
   "id": "d91a6239-3a54-4ebf-a350-7bc37201013b",
   "metadata": {},
   "outputs": [],
   "source": [
    "sc = SparkContext('local')\n",
    "spark = SparkSession(sc)"
   ]
  },
  {
   "cell_type": "markdown",
   "id": "e16723ed-499b-42b1-9fdb-5225cb57686b",
   "metadata": {},
   "source": [
    "<hr>"
   ]
  },
  {
   "cell_type": "markdown",
   "id": "c9a5c17f-4095-4558-8e2e-aa165af7af07",
   "metadata": {
    "tags": []
   },
   "source": [
    "#### Read in our DATA"
   ]
  },
  {
   "cell_type": "code",
   "execution_count": 3,
   "id": "f84a79d7-065c-40ed-8dc8-dcca843b6a43",
   "metadata": {},
   "outputs": [],
   "source": [
    "'''\n",
    "URL THAT WE ARE USING TO READ IN OUR JSON DATA\n",
    "'''\n",
    "URL = 'https://data.cityofchicago.org/resource/x2n5-8w5q.json'"
   ]
  },
  {
   "cell_type": "code",
   "execution_count": 4,
   "id": "a4aeb62c-a3b1-4e0f-9ce6-c1f4b8df8219",
   "metadata": {},
   "outputs": [],
   "source": [
    "def read_json_api(URL):\n",
    "    json_data = urlopen(URL).read().decode('utf-8')\n",
    "    \n",
    "    rdd = spark.sparkContext.parallelize([json_data])\n",
    "    \n",
    "    df = spark.read.json(rdd)\n",
    "    \n",
    "    \n",
    "    return df"
   ]
  },
  {
   "cell_type": "code",
   "execution_count": 5,
   "id": "64c3ca27-2520-41c7-b3ea-2e8ea07ab396",
   "metadata": {},
   "outputs": [
    {
     "name": "stdout",
     "output_type": "stream",
     "text": [
      "+---------------------------+---------------------------+---------------------------+---------------------------+---------------------------+---------------------------+-----+---------------------+--------------------+----------------------+------+----+-------------------+--------+--------------------+--------+------+------------+--------------------+-------------+----+------------+------------+\n",
      "|:@computed_region_43wa_7qmu|:@computed_region_6mkv_f3dw|:@computed_region_awaf_s7ux|:@computed_region_bdys_3d7i|:@computed_region_rpca_8um6|:@computed_region_vrxf_vc4k|_iucr|_location_description|_primary_decsription|_secondary_description|arrest|beat|              block|   case_|  date_of_occurrence|domestic|fbi_cd|    latitude|            location|    longitude|ward|x_coordinate|y_coordinate|\n",
      "+---------------------------+---------------------------+---------------------------+---------------------------+---------------------------+---------------------------+-----+---------------------+--------------------+----------------------+------+----+-------------------+--------+--------------------+--------+------+------------+--------------------+-------------+----+------------+------------+\n",
      "|                         10|                      21192|                          1|                        165|                         10|                          4| 2826|            RESIDENCE|       OTHER OFFENSE|  HARASSMENT BY ELE...|     N| 223|  050XX S EVANS AVE|JE176989|2021-03-23T05:32:...|       Y|    26|41.802875687|{{\"address\": \"\", ...|-87.607907402|   4|     1182038|     1871593|\n",
      "|                         28|                      22268|                         35|                        605|                          7|                         53| 0820|               STREET|               THEFT|        $500 AND UNDER|     N| 814|  047XX S LAMON AVE|JE176993|2021-03-23T05:40:...|       N|    06|41.806651097|{{\"address\": \"\", ...| -87.74557587|  22|     1144493|     1872682|\n",
      "|                         33|                      22538|                         32|                        152|                         24|                         39| 031A|                ALLEY|             ROBBERY|       ARMED - HANDGUN|     N| 331|070XX S MERRILL AVE|JE177003|2021-03-23T05:40:...|       N|    03|41.766859444|{{\"address\": \"\", ...|-87.572654154|   5|     1191766|     1858552|\n",
      "|                         11|                      21560|                         24|                        462|                          4|                         25| 0820|               STREET|               THEFT|        $500 AND UNDER|     N|1212|010XX N WOLCOTT AVE|JE177193|2021-03-23T05:54:...|       N|    06| 41.90015605|{{\"address\": \"\", ...|-87.674725539|   2|     1163548|     1906895|\n",
      "|                         34|                      21190|                         51|                        271|                         16|                         68| 1345|               STREET|     CRIMINAL DAMAGE|  TO CITY OF CHICAG...|     Y|1814|   017XX N WELLS ST|JE177505|2021-03-23T05:58:...|       N|    14| 41.91431366|{{\"address\": \"\", ...| -87.63480841|  43|     1174373|     1912140|\n",
      "+---------------------------+---------------------------+---------------------------+---------------------------+---------------------------+---------------------------+-----+---------------------+--------------------+----------------------+------+----+-------------------+--------+--------------------+--------+------+------------+--------------------+-------------+----+------------+------------+\n",
      "only showing top 5 rows\n",
      "\n"
     ]
    }
   ],
   "source": [
    "df = read_json_api(URL)\n",
    "df.show(5)"
   ]
  },
  {
   "cell_type": "markdown",
   "id": "5cde38eb-ddfe-4086-ba9d-9d74acc667ab",
   "metadata": {},
   "source": [
    "<hr>"
   ]
  },
  {
   "cell_type": "markdown",
   "id": "3b54a137-4219-4595-b8ef-344475b20aac",
   "metadata": {
    "tags": []
   },
   "source": [
    "#### Look at our Schema"
   ]
  },
  {
   "cell_type": "markdown",
   "id": "cfbbe032-45fc-48e1-92bb-b07c224781dc",
   "metadata": {},
   "source": [
    "Looking at schema allows us to see how our column types are set up."
   ]
  },
  {
   "cell_type": "code",
   "execution_count": 6,
   "id": "deb3d5de-5019-4a9a-8bed-3a8f36e420e1",
   "metadata": {},
   "outputs": [
    {
     "name": "stdout",
     "output_type": "stream",
     "text": [
      "root\n",
      " |-- :@computed_region_43wa_7qmu: string (nullable = true)\n",
      " |-- :@computed_region_6mkv_f3dw: string (nullable = true)\n",
      " |-- :@computed_region_awaf_s7ux: string (nullable = true)\n",
      " |-- :@computed_region_bdys_3d7i: string (nullable = true)\n",
      " |-- :@computed_region_rpca_8um6: string (nullable = true)\n",
      " |-- :@computed_region_vrxf_vc4k: string (nullable = true)\n",
      " |-- _iucr: string (nullable = true)\n",
      " |-- _location_description: string (nullable = true)\n",
      " |-- _primary_decsription: string (nullable = true)\n",
      " |-- _secondary_description: string (nullable = true)\n",
      " |-- arrest: string (nullable = true)\n",
      " |-- beat: string (nullable = true)\n",
      " |-- block: string (nullable = true)\n",
      " |-- case_: string (nullable = true)\n",
      " |-- date_of_occurrence: string (nullable = true)\n",
      " |-- domestic: string (nullable = true)\n",
      " |-- fbi_cd: string (nullable = true)\n",
      " |-- latitude: string (nullable = true)\n",
      " |-- location: struct (nullable = true)\n",
      " |    |-- human_address: string (nullable = true)\n",
      " |    |-- latitude: string (nullable = true)\n",
      " |    |-- longitude: string (nullable = true)\n",
      " |-- longitude: string (nullable = true)\n",
      " |-- ward: string (nullable = true)\n",
      " |-- x_coordinate: string (nullable = true)\n",
      " |-- y_coordinate: string (nullable = true)\n",
      "\n"
     ]
    }
   ],
   "source": [
    "df.printSchema()"
   ]
  },
  {
   "cell_type": "markdown",
   "id": "af7c9fea-585a-4fe6-a221-722a9bba0d0f",
   "metadata": {},
   "source": [
    "As we, our schema isn't in the best condition to use for EDA. \n",
    "\n",
    "We want certain attributes to the appropriate data types. \n",
    "- This would involve changing the schema\n",
    "\n",
    "\n",
    "However, for now we will stick with the way it is and drop columns we don't need."
   ]
  },
  {
   "cell_type": "code",
   "execution_count": 7,
   "id": "e135084c-5d83-4854-8008-088688123370",
   "metadata": {},
   "outputs": [],
   "source": [
    "columns_to_be_dropped = (':@computed_region_43wa_7qmu', ':@computed_region_6mkv_f3dw', ':@computed_region_awaf_s7ux', ':@computed_region_bdys_3d7i', ':@computed_region_rpca_8um6', ':@computed_region_vrxf_vc4k')"
   ]
  },
  {
   "cell_type": "code",
   "execution_count": 8,
   "id": "a58931b0-85ef-4468-b99a-462288903e95",
   "metadata": {},
   "outputs": [],
   "source": [
    "def drop_cols(df, cols):\n",
    "    df = df.drop(*cols)\n",
    "    \n",
    "    return df"
   ]
  },
  {
   "cell_type": "code",
   "execution_count": 9,
   "id": "e8eb6f4a-cccc-4ea4-98ca-74a0d4891872",
   "metadata": {},
   "outputs": [
    {
     "name": "stdout",
     "output_type": "stream",
     "text": [
      "root\n",
      " |-- _iucr: string (nullable = true)\n",
      " |-- _location_description: string (nullable = true)\n",
      " |-- _primary_decsription: string (nullable = true)\n",
      " |-- _secondary_description: string (nullable = true)\n",
      " |-- arrest: string (nullable = true)\n",
      " |-- beat: string (nullable = true)\n",
      " |-- block: string (nullable = true)\n",
      " |-- case_: string (nullable = true)\n",
      " |-- date_of_occurrence: string (nullable = true)\n",
      " |-- domestic: string (nullable = true)\n",
      " |-- fbi_cd: string (nullable = true)\n",
      " |-- latitude: string (nullable = true)\n",
      " |-- location: struct (nullable = true)\n",
      " |    |-- human_address: string (nullable = true)\n",
      " |    |-- latitude: string (nullable = true)\n",
      " |    |-- longitude: string (nullable = true)\n",
      " |-- longitude: string (nullable = true)\n",
      " |-- ward: string (nullable = true)\n",
      " |-- x_coordinate: string (nullable = true)\n",
      " |-- y_coordinate: string (nullable = true)\n",
      "\n"
     ]
    }
   ],
   "source": [
    "df = drop_cols(df, columns_to_be_dropped)\n",
    "df.printSchema()"
   ]
  },
  {
   "cell_type": "code",
   "execution_count": 10,
   "id": "f467af0c-7f52-4e35-9229-0f8a6e03f41f",
   "metadata": {},
   "outputs": [
    {
     "data": {
      "text/plain": [
       "['_iucr',\n",
       " '_location_description',\n",
       " '_primary_decsription',\n",
       " '_secondary_description',\n",
       " 'arrest',\n",
       " 'beat',\n",
       " 'block',\n",
       " 'case_',\n",
       " 'date_of_occurrence',\n",
       " 'domestic',\n",
       " 'fbi_cd',\n",
       " 'latitude',\n",
       " 'location',\n",
       " 'longitude',\n",
       " 'ward',\n",
       " 'x_coordinate',\n",
       " 'y_coordinate']"
      ]
     },
     "execution_count": 10,
     "metadata": {},
     "output_type": "execute_result"
    }
   ],
   "source": [
    "df.columns"
   ]
  },
  {
   "cell_type": "markdown",
   "id": "2276ecc4-8d56-4bce-9e0e-843c684ce747",
   "metadata": {},
   "source": [
    "Now that we have the columns we want to work with, here is a small description of what each column is according to [chicago.gov](https://www.chicago.gov/city/en/dataset/crime.html)"
   ]
  },
  {
   "cell_type": "markdown",
   "id": "5d843d58-9cbd-42f3-b2d6-cbf50758f3e8",
   "metadata": {},
   "source": [
    "As we can see, there is a _ at the beginning of our column names, lets change that so it is easier to use when we do EDA.\n",
    "\n",
    "The parameters to pass in to this function is just the dataframe. We also don't have to pass the column names as this can be stated explicitly since each time this notebook is ran, the data comes from an API."
   ]
  },
  {
   "cell_type": "code",
   "execution_count": 20,
   "id": "dfec66d1-cf0e-4ff5-a2ec-913a5bd424af",
   "metadata": {},
   "outputs": [],
   "source": [
    "def rename_cols(df):\n",
    "    return df.withColumnRenamed('_iucr', \n",
    "                                'iucr'\n",
    "                               ).withColumnRenamed(\n",
    "                                '_location_description', \n",
    "                                'location_description'\n",
    "                                ).withColumnRenamed(\n",
    "                                '_primary_decsription',\n",
    "                                'primary_description'\n",
    "                                ).withColumnRenamed(\n",
    "                                '_secondary_description',\n",
    "                                'secondary_description'\n",
    "                                ).withColumnRenamed(\n",
    "                                'case_',\n",
    "                                'case'\n",
    "                                ).withColumnRenamed(\n",
    "                                'date_of_occurrence',\n",
    "                                'date')\n",
    "    "
   ]
  },
  {
   "cell_type": "code",
   "execution_count": 23,
   "id": "380419ee-b5a7-4fea-ae46-b2955d03cbaf",
   "metadata": {},
   "outputs": [
    {
     "data": {
      "text/plain": [
       "['iucr',\n",
       " 'location_description',\n",
       " 'primary_description',\n",
       " 'secondary_description',\n",
       " 'arrest',\n",
       " 'beat',\n",
       " 'block',\n",
       " 'case',\n",
       " 'date',\n",
       " 'domestic',\n",
       " 'fbi_cd',\n",
       " 'latitude',\n",
       " 'location',\n",
       " 'longitude',\n",
       " 'ward',\n",
       " 'x_coordinate',\n",
       " 'y_coordinate']"
      ]
     },
     "execution_count": 23,
     "metadata": {},
     "output_type": "execute_result"
    }
   ],
   "source": [
    "df_renamed = rename_cols(df)\n",
    "\n",
    "\n",
    "\n",
    "# LETS CHECK OUR NEW COLUMN NAMES\n",
    "df_renamed.columns"
   ]
  },
  {
   "cell_type": "markdown",
   "id": "b51906ea-30a5-40f7-839b-3863087cc07d",
   "metadata": {},
   "source": [
    "#### Exploratory Data Analysis"
   ]
  },
  {
   "cell_type": "markdown",
   "id": "5501ca64-5f8b-4718-a12a-dd8dfd759535",
   "metadata": {},
   "source": [
    "Goals:\n",
    "- Dataset overview\n",
    "    - NA values\n",
    "    - Dimensions of the data\n",
    "\n",
    "<hr>\n",
    "    \n",
    "- Description on columns (Important ones chosen by me)\n",
    "    - Primary types\n",
    "    - Arrest\n",
    "    - Year\n",
    "    - \n"
   ]
  },
  {
   "cell_type": "code",
   "execution_count": 33,
   "id": "db4d8a7f-6588-4e9b-9cd5-def18d1db5e2",
   "metadata": {},
   "outputs": [
    {
     "name": "stdout",
     "output_type": "stream",
     "text": [
      "+----+--------------------+-------------------+---------------------+------+----+-------------------+--------+--------------------+--------+------+------------+--------------------+-------------+----+------------+------------+\n",
      "|iucr|location_description|primary_description|secondary_description|arrest|beat|              block|    case|                date|domestic|fbi_cd|    latitude|            location|    longitude|ward|x_coordinate|y_coordinate|\n",
      "+----+--------------------+-------------------+---------------------+------+----+-------------------+--------+--------------------+--------+------+------------+--------------------+-------------+----+------------+------------+\n",
      "|2826|           RESIDENCE|      OTHER OFFENSE| HARASSMENT BY ELE...|     N| 223|  050XX S EVANS AVE|JE176989|2021-03-23T05:32:...|       Y|    26|41.802875687|{{\"address\": \"\", ...|-87.607907402|   4|     1182038|     1871593|\n",
      "|0820|              STREET|              THEFT|       $500 AND UNDER|     N| 814|  047XX S LAMON AVE|JE176993|2021-03-23T05:40:...|       N|    06|41.806651097|{{\"address\": \"\", ...| -87.74557587|  22|     1144493|     1872682|\n",
      "|031A|               ALLEY|            ROBBERY|      ARMED - HANDGUN|     N| 331|070XX S MERRILL AVE|JE177003|2021-03-23T05:40:...|       N|    03|41.766859444|{{\"address\": \"\", ...|-87.572654154|   5|     1191766|     1858552|\n",
      "|0820|              STREET|              THEFT|       $500 AND UNDER|     N|1212|010XX N WOLCOTT AVE|JE177193|2021-03-23T05:54:...|       N|    06| 41.90015605|{{\"address\": \"\", ...|-87.674725539|   2|     1163548|     1906895|\n",
      "|1345|              STREET|    CRIMINAL DAMAGE| TO CITY OF CHICAG...|     Y|1814|   017XX N WELLS ST|JE177505|2021-03-23T05:58:...|       N|    14| 41.91431366|{{\"address\": \"\", ...| -87.63480841|  43|     1174373|     1912140|\n",
      "+----+--------------------+-------------------+---------------------+------+----+-------------------+--------+--------------------+--------+------+------------+--------------------+-------------+----+------------+------------+\n",
      "only showing top 5 rows\n",
      "\n"
     ]
    }
   ],
   "source": [
    "df_renamed.show(5)"
   ]
  },
  {
   "cell_type": "code",
   "execution_count": 24,
   "id": "a2750b61-7c64-4050-a586-b10c6890287c",
   "metadata": {},
   "outputs": [],
   "source": [
    "'''\n",
    "FUNCTION TO FIND NULL/NA VALUES IN DATAFRAME\n",
    "'''\n",
    "def null_values(df):\n",
    "    return df.agg(*[F.count(F.when(F.isnull(c), c)).alias(c) for c in df.columns])\n",
    "\n",
    "df_null = null_values(df_renamed)"
   ]
  },
  {
   "cell_type": "code",
   "execution_count": 25,
   "id": "a727276e-4797-47a9-b380-7cc38526df5b",
   "metadata": {},
   "outputs": [
    {
     "name": "stdout",
     "output_type": "stream",
     "text": [
      "+----+--------------------+-------------------+---------------------+------+----+-----+----+----+--------+------+--------+--------+---------+----+------------+------------+\n",
      "|iucr|location_description|primary_description|secondary_description|arrest|beat|block|case|date|domestic|fbi_cd|latitude|location|longitude|ward|x_coordinate|y_coordinate|\n",
      "+----+--------------------+-------------------+---------------------+------+----+-----+----+----+--------+------+--------+--------+---------+----+------------+------------+\n",
      "|   0|                   5|                  0|                    0|     0|   0|    0|   0|   0|       0|     0|      23|      23|       23|   0|          23|          23|\n",
      "+----+--------------------+-------------------+---------------------+------+----+-----+----+----+--------+------+--------+--------+---------+----+------------+------------+\n",
      "\n"
     ]
    }
   ],
   "source": [
    "df_null.show()"
   ]
  },
  {
   "cell_type": "code",
   "execution_count": 26,
   "id": "2e27f265-03bb-4968-9ec5-726064b90690",
   "metadata": {},
   "outputs": [
    {
     "name": "stdout",
     "output_type": "stream",
     "text": [
      "Number of rows: 1000 \n",
      "Number of columns: 17\n"
     ]
    }
   ],
   "source": [
    "'''\n",
    "FUNCTION TO GET DIMENSIONS OF DATAFRAME\n",
    "'''\n",
    "def GET_DIMENSIONS(df):\n",
    "    return (df.count(), len(df.columns))\n",
    "\n",
    "# -----\n",
    "print(f'Number of rows: {GET_DIMENSIONS(df_renamed)[0]} \\nNumber of columns: {GET_DIMENSIONS(df_renamed)[1]}')"
   ]
  },
  {
   "cell_type": "markdown",
   "id": "505c9f66-4a47-4aaa-84cf-64d4515d66cb",
   "metadata": {},
   "source": [
    "**Lets look at the CRIME TYPES**\n",
    "\n"
   ]
  },
  {
   "cell_type": "code",
   "execution_count": 34,
   "id": "fa301fc4-c6ce-4f47-8f8e-3a415100424c",
   "metadata": {},
   "outputs": [],
   "source": [
    "def get_crime_types(df):\n",
    "    df = df.groupBy('primary_description').count()\n",
    "    \n",
    "    return df.orderBy('count', ascending = False)\n",
    "   "
   ]
  },
  {
   "cell_type": "code",
   "execution_count": 36,
   "id": "c0271b2b-04b3-44b7-abf9-f11eeef1df19",
   "metadata": {},
   "outputs": [
    {
     "name": "stdout",
     "output_type": "stream",
     "text": [
      "+--------------------------------+-----+\n",
      "|primary_description             |count|\n",
      "+--------------------------------+-----+\n",
      "|THEFT                           |207  |\n",
      "|BATTERY                         |166  |\n",
      "|CRIMINAL DAMAGE                 |118  |\n",
      "|ASSAULT                         |100  |\n",
      "|DECEPTIVE PRACTICE              |98   |\n",
      "|OTHER OFFENSE                   |76   |\n",
      "|MOTOR VEHICLE THEFT             |49   |\n",
      "|NARCOTICS                       |48   |\n",
      "|WEAPONS VIOLATION               |40   |\n",
      "|ROBBERY                         |34   |\n",
      "|BURGLARY                        |23   |\n",
      "|CRIMINAL TRESPASS               |10   |\n",
      "|HOMICIDE                        |6    |\n",
      "|SEX OFFENSE                     |6    |\n",
      "|CRIMINAL SEXUAL ASSAULT         |6    |\n",
      "|OFFENSE INVOLVING CHILDREN      |4    |\n",
      "|STALKING                        |4    |\n",
      "|ARSON                           |3    |\n",
      "|INTERFERENCE WITH PUBLIC OFFICER|2    |\n",
      "+--------------------------------+-----+\n",
      "\n"
     ]
    }
   ],
   "source": [
    "# SHOW THE CRIME TYPES AND ITS COUNT\n",
    "df_crime_types = get_crime_types(df_renamed)\n",
    "df_crime_types.show(truncate=False)"
   ]
  },
  {
   "cell_type": "markdown",
   "id": "3b103f86-75f8-477d-9be6-13c35bc4410b",
   "metadata": {},
   "source": [
    "Now that we have our type, we can visualize using our awesome library seaborn.\n",
    "\n",
    "However, this does require us to convert our spark dataframe to a pandas dataframe.\n",
    "\n",
    "Our function will do the following:\n",
    "- Convert from spart df to pandas df\n",
    "- create a bar plot\n",
    "- plot the graph"
   ]
  },
  {
   "cell_type": "code",
   "execution_count": 53,
   "id": "fea4cbe2-ab72-43c1-bc70-a68c8d2f164d",
   "metadata": {
    "tags": []
   },
   "outputs": [],
   "source": [
    "def visualize_crime_types(df):\n",
    "    \n",
    "    df = pd.DataFrame( # Return a new RDD by applying a function to each element of this RDD\n",
    "        df.rdd.map(lambda element: element.asDict()).collect()\n",
    "    )\n",
    "    \n",
    "    graph = sns.barplot(\n",
    "        x = 'count',\n",
    "        y = 'primary_description',\n",
    "        data = df,\n",
    "        palette = 'dark'\n",
    "    )\n",
    "    \n",
    "    graph.set(\n",
    "        ylabel = 'Primary Description',\n",
    "        xlabel = 'Count of Crimes Recorded'\n",
    "    )"
   ]
  },
  {
   "cell_type": "code",
   "execution_count": 54,
   "id": "843dab9a-dd3a-4d6d-a786-c7e293c83432",
   "metadata": {},
   "outputs": [
    {
     "data": {
      "image/png": "[encoded data removed]",
      "text/plain": [
       "<Figure size 432x288 with 1 Axes>"
      ]
     },
     "metadata": {},
     "output_type": "display_data"
    }
   ],
   "source": [
    "visualize_crime_types(df_crime_types)"
   ]
  },
  {
   "cell_type": "code",
   "execution_count": 55,
   "id": "960958f6-8f4b-455c-9a0d-4da504629eff",
   "metadata": {},
   "outputs": [],
   "source": [
    "sc.stop()"
   ]
  },
  {
   "cell_type": "code",
   "execution_count": null,
   "id": "55be1ac8-9ce4-415f-92f8-17b645100ac3",
   "metadata": {},
   "outputs": [],
   "source": []
  }
 ],
 "metadata": {
  "kernelspec": {
   "display_name": "Python 3 (ipykernel)",
   "language": "python",
   "name": "python3"
  },
  "language_info": {
   "codemirror_mode": {
    "name": "ipython",
    "version": 3
   },
   "file_extension": ".py",
   "mimetype": "text/x-python",
   "name": "python",
   "nbconvert_exporter": "python",
   "pygments_lexer": "ipython3",
   "version": "3.9.10"
  }
 },
 "nbformat": 4,
 "nbformat_minor": 5
}
