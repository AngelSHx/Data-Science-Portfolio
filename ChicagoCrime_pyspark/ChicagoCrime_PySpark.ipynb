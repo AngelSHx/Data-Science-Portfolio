{
 "cells": [
  {
   "cell_type": "markdown",
   "id": "a9e1cf52-2ea9-4a31-bc08-bb0b64701f0d",
   "metadata": {},
   "source": [
    "# Chicago Crime Analysis with PySpark"
   ]
  },
  {
   "cell_type": "markdown",
   "id": "6ddea294-bfa0-4040-8522-3346a778736a",
   "metadata": {},
   "source": [
    "#### Goals\n",
    "\n",
    "\n",
    "Some goals for this project:\n",
    "- Do some simple EDA on *Chicago Crime* from [Kaggle](https://www.kaggle.com/)\n",
    "\n",
    "All this will be done using **[PySpark](https://spark.apache.org/docs/latest/api/python/)**"
   ]
  },
  {
   "cell_type": "markdown",
   "id": "18a5829c-950a-43e5-b8d7-95983d9ec66c",
   "metadata": {},
   "source": [
    "<hr>"
   ]
  },
  {
   "cell_type": "markdown",
   "id": "0bc41c05-7a52-4a14-bcf9-39737584692e",
   "metadata": {},
   "source": [
    "#### Import Libraries"
   ]
  },
  {
   "cell_type": "code",
   "execution_count": 1,
   "id": "7864839a-d58e-44d1-a7bf-4b07290d4fa2",
   "metadata": {},
   "outputs": [
    {
     "name": "stdout",
     "output_type": "stream",
     "text": [
      "[SUCCESS]\n"
     ]
    }
   ],
   "source": [
    "try:\n",
    "    from pyspark.sql import SparkSession\n",
    "    from pyspark import SparkContext\n",
    "    from pyspark.sql import SQLContext\n",
    "    from pyspark.sql import DataFrame\n",
    "    import pyspark.sql.types as tp\n",
    "    import pyspark.sql.functions as F\n",
    "    import pandas as pd\n",
    "    import numpy as np\n",
    "    import glob\n",
    "    from functools import reduce\n",
    "    import seaborn as sns\n",
    "    import matplotlib.pyplot as plt\n",
    "    from urllib.request import urlopen\n",
    "    import datetime\n",
    "    from pathlib import Path\n",
    "    \n",
    "    print('[SUCCESS]')\n",
    "except ImportError as ie:\n",
    "    raise ImportError(f'[Error importing]: {ie}')"
   ]
  },
  {
   "cell_type": "markdown",
   "id": "f6f8b54d-cd2d-4da8-8901-2f3777b929b4",
   "metadata": {},
   "source": [
    "**INITIALIZE SESSION**"
   ]
  },
  {
   "cell_type": "code",
   "execution_count": 2,
   "id": "d91a6239-3a54-4ebf-a350-7bc37201013b",
   "metadata": {},
   "outputs": [],
   "source": [
    "sc = SparkContext('local')\n",
    "spark = SparkSession(sc)"
   ]
  },
  {
   "cell_type": "markdown",
   "id": "e16723ed-499b-42b1-9fdb-5225cb57686b",
   "metadata": {},
   "source": [
    "<hr>"
   ]
  },
  {
   "cell_type": "markdown",
   "id": "c9a5c17f-4095-4558-8e2e-aa165af7af07",
   "metadata": {
    "tags": []
   },
   "source": [
    "#### Read in our DATA"
   ]
  },
  {
   "cell_type": "code",
   "execution_count": 3,
   "id": "f84a79d7-065c-40ed-8dc8-dcca843b6a43",
   "metadata": {},
   "outputs": [],
   "source": [
    "'''\n",
    "URL THAT WE ARE USING TO READ IN OUR JSON DATA\n",
    "'''\n",
    "URL = 'https://data.cityofchicago.org/resource/x2n5-8w5q.json'\n"
   ]
  },
  {
   "cell_type": "code",
   "execution_count": 4,
   "id": "a4aeb62c-a3b1-4e0f-9ce6-c1f4b8df8219",
   "metadata": {},
   "outputs": [],
   "source": [
    "def read_json_api(URL):\n",
    "    json_data = urlopen(URL).read().decode('utf-8')\n",
    "    \n",
    "    rdd = spark.sparkContext.parallelize([json_data])\n",
    "    \n",
    "    df = spark.read.json(rdd)\n",
    "    \n",
    "    \n",
    "    return df"
   ]
  },
  {
   "cell_type": "code",
   "execution_count": 5,
   "id": "64c3ca27-2520-41c7-b3ea-2e8ea07ab396",
   "metadata": {},
   "outputs": [
    {
     "name": "stdout",
     "output_type": "stream",
     "text": [
      "+---------------------------+---------------------------+---------------------------+---------------------------+---------------------------+---------------------------+-----+---------------------+--------------------+----------------------+------+----+--------------------+--------+--------------------+--------+------+------------+--------------------+-------------+----+------------+------------+\n",
      "|:@computed_region_43wa_7qmu|:@computed_region_6mkv_f3dw|:@computed_region_awaf_s7ux|:@computed_region_bdys_3d7i|:@computed_region_rpca_8um6|:@computed_region_vrxf_vc4k|_iucr|_location_description|_primary_decsription|_secondary_description|arrest|beat|               block|   case_|  date_of_occurrence|domestic|fbi_cd|    latitude|            location|    longitude|ward|x_coordinate|y_coordinate|\n",
      "+---------------------------+---------------------------+---------------------------+---------------------------+---------------------------+---------------------------+-----+---------------------+--------------------+----------------------+------+----+--------------------+--------+--------------------+--------+------+------------+--------------------+-------------+----+------------+------------+\n",
      "|                         11|                      21560|                         24|                        482|                          4|                         25| 0910|               STREET| MOTOR VEHICLE THEFT|            AUTOMOBILE|     N|1433|   016XX W BEACH AVE|JE179980|2021-03-26T05:10:...|       N|    07|41.907593253|{{\"address\": \"\", ...|-87.668591225|   2|     1165197|     1909618|\n",
      "|                         35|                      21546|                         31|                        407|                         61|                         40| 2826|            RESIDENCE|       OTHER OFFENSE|  HARASSMENT BY ELE...|     N| 632|     007XX E 88TH ST|JE179976|2021-03-26T05:14:...|       Y|    26|41.734800379|{{\"address\": \"\", ...|-87.606548952|   8|     1182618|     1846790|\n",
      "|                         19|                      22254|                         39|                        445|                         52|                         17| 1320|               STREET|     CRIMINAL DAMAGE|            TO VEHICLE|     N|1631|  077XX W ADDISON ST|JE180081|2021-03-26T05:30:...|       N|    14|41.945188039|{{\"address\": \"\", ...|-87.820949919|  38|     1123642|     1923033|\n",
      "|                         32|                      21546|                         31|                        475|                         61|                         67| 0810|            RESIDENCE|               THEFT|             OVER $500|     N| 623|075XX S MICHIGAN AVE|JE200528|2021-03-26T05:30:...|       N|    06|41.757298587|{{\"address\": \"\", ...|-87.621516226|   6|     1178465|     1854954|\n",
      "|                         49|                      21560|                         24|                        542|                          4|                         25| 0810|          GAS STATION|               THEFT|             OVER $500|     N|1212| 008XX N WESTERN AVE|JE180500|2021-03-26T05:35:...|       N|    06|41.896358373|{{\"address\": \"\", ...|-87.686859824|   1|     1160255|     1905486|\n",
      "+---------------------------+---------------------------+---------------------------+---------------------------+---------------------------+---------------------------+-----+---------------------+--------------------+----------------------+------+----+--------------------+--------+--------------------+--------+------+------------+--------------------+-------------+----+------------+------------+\n",
      "only showing top 5 rows\n",
      "\n"
     ]
    }
   ],
   "source": [
    "df = read_json_api(URL)\n",
    "df.show(5)"
   ]
  },
  {
   "cell_type": "markdown",
   "id": "5cde38eb-ddfe-4086-ba9d-9d74acc667ab",
   "metadata": {},
   "source": [
    "<hr>"
   ]
  },
  {
   "cell_type": "markdown",
   "id": "3b54a137-4219-4595-b8ef-344475b20aac",
   "metadata": {
    "tags": []
   },
   "source": [
    "#### Look at our Schema"
   ]
  },
  {
   "cell_type": "markdown",
   "id": "cfbbe032-45fc-48e1-92bb-b07c224781dc",
   "metadata": {},
   "source": [
    "Looking at schema allows us to see how our column types are set up."
   ]
  },
  {
   "cell_type": "code",
   "execution_count": 6,
   "id": "deb3d5de-5019-4a9a-8bed-3a8f36e420e1",
   "metadata": {},
   "outputs": [
    {
     "name": "stdout",
     "output_type": "stream",
     "text": [
      "root\n",
      " |-- :@computed_region_43wa_7qmu: string (nullable = true)\n",
      " |-- :@computed_region_6mkv_f3dw: string (nullable = true)\n",
      " |-- :@computed_region_awaf_s7ux: string (nullable = true)\n",
      " |-- :@computed_region_bdys_3d7i: string (nullable = true)\n",
      " |-- :@computed_region_rpca_8um6: string (nullable = true)\n",
      " |-- :@computed_region_vrxf_vc4k: string (nullable = true)\n",
      " |-- _iucr: string (nullable = true)\n",
      " |-- _location_description: string (nullable = true)\n",
      " |-- _primary_decsription: string (nullable = true)\n",
      " |-- _secondary_description: string (nullable = true)\n",
      " |-- arrest: string (nullable = true)\n",
      " |-- beat: string (nullable = true)\n",
      " |-- block: string (nullable = true)\n",
      " |-- case_: string (nullable = true)\n",
      " |-- date_of_occurrence: string (nullable = true)\n",
      " |-- domestic: string (nullable = true)\n",
      " |-- fbi_cd: string (nullable = true)\n",
      " |-- latitude: string (nullable = true)\n",
      " |-- location: struct (nullable = true)\n",
      " |    |-- human_address: string (nullable = true)\n",
      " |    |-- latitude: string (nullable = true)\n",
      " |    |-- longitude: string (nullable = true)\n",
      " |-- longitude: string (nullable = true)\n",
      " |-- ward: string (nullable = true)\n",
      " |-- x_coordinate: string (nullable = true)\n",
      " |-- y_coordinate: string (nullable = true)\n",
      "\n"
     ]
    }
   ],
   "source": [
    "df.printSchema()"
   ]
  },
  {
   "cell_type": "markdown",
   "id": "af7c9fea-585a-4fe6-a221-722a9bba0d0f",
   "metadata": {},
   "source": [
    "As we, our schema isn't in the best condition to use for EDA. \n",
    "\n",
    "We want certain attributes to the appropriate data types. \n",
    "- This would involve changing the schema\n",
    "\n",
    "\n",
    "However, for now we will stick with the way it is and drop columns we don't need."
   ]
  },
  {
   "cell_type": "code",
   "execution_count": 7,
   "id": "e135084c-5d83-4854-8008-088688123370",
   "metadata": {},
   "outputs": [],
   "source": [
    "columns_to_be_dropped = (':@computed_region_43wa_7qmu', ':@computed_region_6mkv_f3dw', ':@computed_region_awaf_s7ux', ':@computed_region_bdys_3d7i', ':@computed_region_rpca_8um6', ':@computed_region_vrxf_vc4k')"
   ]
  },
  {
   "cell_type": "code",
   "execution_count": 8,
   "id": "a58931b0-85ef-4468-b99a-462288903e95",
   "metadata": {},
   "outputs": [],
   "source": [
    "def drop_cols(df, cols):\n",
    "    df = df.drop(*cols)\n",
    "    \n",
    "    return df"
   ]
  },
  {
   "cell_type": "code",
   "execution_count": 9,
   "id": "e8eb6f4a-cccc-4ea4-98ca-74a0d4891872",
   "metadata": {},
   "outputs": [
    {
     "name": "stdout",
     "output_type": "stream",
     "text": [
      "root\n",
      " |-- _iucr: string (nullable = true)\n",
      " |-- _location_description: string (nullable = true)\n",
      " |-- _primary_decsription: string (nullable = true)\n",
      " |-- _secondary_description: string (nullable = true)\n",
      " |-- arrest: string (nullable = true)\n",
      " |-- beat: string (nullable = true)\n",
      " |-- block: string (nullable = true)\n",
      " |-- case_: string (nullable = true)\n",
      " |-- date_of_occurrence: string (nullable = true)\n",
      " |-- domestic: string (nullable = true)\n",
      " |-- fbi_cd: string (nullable = true)\n",
      " |-- latitude: string (nullable = true)\n",
      " |-- location: struct (nullable = true)\n",
      " |    |-- human_address: string (nullable = true)\n",
      " |    |-- latitude: string (nullable = true)\n",
      " |    |-- longitude: string (nullable = true)\n",
      " |-- longitude: string (nullable = true)\n",
      " |-- ward: string (nullable = true)\n",
      " |-- x_coordinate: string (nullable = true)\n",
      " |-- y_coordinate: string (nullable = true)\n",
      "\n"
     ]
    }
   ],
   "source": [
    "df = drop_cols(df, columns_to_be_dropped)\n",
    "df.printSchema()"
   ]
  },
  {
   "cell_type": "markdown",
   "id": "2276ecc4-8d56-4bce-9e0e-843c684ce747",
   "metadata": {},
   "source": [
    "Now that we have the columns we want to work with, here is a small description of what each column is according to [chicago.gov](https://www.chicago.gov/city/en/dataset/crime.html)"
   ]
  },
  {
   "cell_type": "markdown",
   "id": "5d843d58-9cbd-42f3-b2d6-cbf50758f3e8",
   "metadata": {},
   "source": [
    "As we can see, there is a _ at the beginning of our column names, lets change that so it is easier to use when we do EDA.\n",
    "\n",
    "The parameters to pass in to this function is just the dataframe. We also don't have to pass the column names as this can be stated explicitly since each time this notebook is ran, the data comes from an API."
   ]
  },
  {
   "cell_type": "code",
   "execution_count": 10,
   "id": "dfec66d1-cf0e-4ff5-a2ec-913a5bd424af",
   "metadata": {},
   "outputs": [],
   "source": [
    "def rename_cols(df):\n",
    "    return df.withColumnRenamed('_iucr', \n",
    "                                'iucr'\n",
    "                               ).withColumnRenamed(\n",
    "                                '_location_description', \n",
    "                                'location_description'\n",
    "                                ).withColumnRenamed(\n",
    "                                '_primary_decsription',\n",
    "                                'primary_description'\n",
    "                                ).withColumnRenamed(\n",
    "                                '_secondary_description',\n",
    "                                'secondary_description'\n",
    "                                ).withColumnRenamed(\n",
    "                                'case_',\n",
    "                                'case'\n",
    "                                ).withColumnRenamed(\n",
    "                                'date_of_occurrence',\n",
    "                                'date')\n",
    "    "
   ]
  },
  {
   "cell_type": "code",
   "execution_count": 11,
   "id": "380419ee-b5a7-4fea-ae46-b2955d03cbaf",
   "metadata": {},
   "outputs": [
    {
     "data": {
      "text/plain": [
       "['iucr',\n",
       " 'location_description',\n",
       " 'primary_description',\n",
       " 'secondary_description',\n",
       " 'arrest',\n",
       " 'beat',\n",
       " 'block',\n",
       " 'case',\n",
       " 'date',\n",
       " 'domestic',\n",
       " 'fbi_cd',\n",
       " 'latitude',\n",
       " 'location',\n",
       " 'longitude',\n",
       " 'ward',\n",
       " 'x_coordinate',\n",
       " 'y_coordinate']"
      ]
     },
     "execution_count": 11,
     "metadata": {},
     "output_type": "execute_result"
    }
   ],
   "source": [
    "df_renamed = rename_cols(df)\n",
    "\n",
    "\n",
    "\n",
    "# LETS CHECK OUR NEW COLUMN NAMES\n",
    "df_renamed.columns"
   ]
  },
  {
   "cell_type": "markdown",
   "id": "b51906ea-30a5-40f7-839b-3863087cc07d",
   "metadata": {},
   "source": [
    "#### Exploratory Data Analysis"
   ]
  },
  {
   "cell_type": "markdown",
   "id": "5501ca64-5f8b-4718-a12a-dd8dfd759535",
   "metadata": {},
   "source": [
    "Goals:\n",
    "- Dataset overview\n",
    "    - NA values\n",
    "    - Dimensions of the data\n",
    "\n",
    "<hr>\n",
    "    \n",
    "- Description on columns (Important ones chosen by me)\n",
    "    - Primary types\n",
    "    - Arrest\n",
    "    - Year\n",
    "    - \n"
   ]
  },
  {
   "cell_type": "code",
   "execution_count": 12,
   "id": "db4d8a7f-6588-4e9b-9cd5-def18d1db5e2",
   "metadata": {},
   "outputs": [
    {
     "name": "stdout",
     "output_type": "stream",
     "text": [
      "+----+--------------------+-------------------+---------------------+------+----+--------------------+--------+--------------------+--------+------+------------+--------------------+-------------+----+------------+------------+\n",
      "|iucr|location_description|primary_description|secondary_description|arrest|beat|               block|    case|                date|domestic|fbi_cd|    latitude|            location|    longitude|ward|x_coordinate|y_coordinate|\n",
      "+----+--------------------+-------------------+---------------------+------+----+--------------------+--------+--------------------+--------+------+------------+--------------------+-------------+----+------------+------------+\n",
      "|0910|              STREET|MOTOR VEHICLE THEFT|           AUTOMOBILE|     N|1433|   016XX W BEACH AVE|JE179980|2021-03-26T05:10:...|       N|    07|41.907593253|{{\"address\": \"\", ...|-87.668591225|   2|     1165197|     1909618|\n",
      "|2826|           RESIDENCE|      OTHER OFFENSE| HARASSMENT BY ELE...|     N| 632|     007XX E 88TH ST|JE179976|2021-03-26T05:14:...|       Y|    26|41.734800379|{{\"address\": \"\", ...|-87.606548952|   8|     1182618|     1846790|\n",
      "|1320|              STREET|    CRIMINAL DAMAGE|           TO VEHICLE|     N|1631|  077XX W ADDISON ST|JE180081|2021-03-26T05:30:...|       N|    14|41.945188039|{{\"address\": \"\", ...|-87.820949919|  38|     1123642|     1923033|\n",
      "|0810|           RESIDENCE|              THEFT|            OVER $500|     N| 623|075XX S MICHIGAN AVE|JE200528|2021-03-26T05:30:...|       N|    06|41.757298587|{{\"address\": \"\", ...|-87.621516226|   6|     1178465|     1854954|\n",
      "|0810|         GAS STATION|              THEFT|            OVER $500|     N|1212| 008XX N WESTERN AVE|JE180500|2021-03-26T05:35:...|       N|    06|41.896358373|{{\"address\": \"\", ...|-87.686859824|   1|     1160255|     1905486|\n",
      "+----+--------------------+-------------------+---------------------+------+----+--------------------+--------+--------------------+--------+------+------------+--------------------+-------------+----+------------+------------+\n",
      "only showing top 5 rows\n",
      "\n"
     ]
    }
   ],
   "source": [
    "df_renamed.show(5)"
   ]
  },
  {
   "cell_type": "code",
   "execution_count": 13,
   "id": "a2750b61-7c64-4050-a586-b10c6890287c",
   "metadata": {},
   "outputs": [],
   "source": [
    "'''\n",
    "FUNCTION TO FIND NULL/NA VALUES IN DATAFRAME\n",
    "'''\n",
    "def null_values(df):\n",
    "    return df.agg(*[F.count(F.when(F.isnull(c), c)).alias(c) for c in df.columns])\n",
    "\n",
    "df_null = null_values(df_renamed)"
   ]
  },
  {
   "cell_type": "code",
   "execution_count": 14,
   "id": "a727276e-4797-47a9-b380-7cc38526df5b",
   "metadata": {},
   "outputs": [
    {
     "name": "stdout",
     "output_type": "stream",
     "text": [
      "+----+--------------------+-------------------+---------------------+------+----+-----+----+----+--------+------+--------+--------+---------+----+------------+------------+\n",
      "|iucr|location_description|primary_description|secondary_description|arrest|beat|block|case|date|domestic|fbi_cd|latitude|location|longitude|ward|x_coordinate|y_coordinate|\n",
      "+----+--------------------+-------------------+---------------------+------+----+-----+----+----+--------+------+--------+--------+---------+----+------------+------------+\n",
      "|   0|                   6|                  0|                    0|     0|   0|    0|   0|   0|       0|     0|      10|      10|       10|   0|          10|          10|\n",
      "+----+--------------------+-------------------+---------------------+------+----+-----+----+----+--------+------+--------+--------+---------+----+------------+------------+\n",
      "\n"
     ]
    }
   ],
   "source": [
    "df_null.show()"
   ]
  },
  {
   "cell_type": "code",
   "execution_count": 15,
   "id": "2e27f265-03bb-4968-9ec5-726064b90690",
   "metadata": {},
   "outputs": [
    {
     "name": "stdout",
     "output_type": "stream",
     "text": [
      "Number of rows: 1000 \n",
      "Number of columns: 17\n"
     ]
    }
   ],
   "source": [
    "'''\n",
    "FUNCTION TO GET DIMENSIONS OF DATAFRAME\n",
    "'''\n",
    "def GET_DIMENSIONS(df):\n",
    "    return (df.count(), len(df.columns))\n",
    "\n",
    "# -----\n",
    "print(f'Number of rows: {GET_DIMENSIONS(df_renamed)[0]} \\nNumber of columns: {GET_DIMENSIONS(df_renamed)[1]}')"
   ]
  },
  {
   "cell_type": "markdown",
   "id": "505c9f66-4a47-4aaa-84cf-64d4515d66cb",
   "metadata": {},
   "source": [
    "**Lets look at the CRIME TYPES**\n",
    "\n"
   ]
  },
  {
   "cell_type": "code",
   "execution_count": 16,
   "id": "fa301fc4-c6ce-4f47-8f8e-3a415100424c",
   "metadata": {},
   "outputs": [],
   "source": [
    "def get_crime_types(df):\n",
    "    df = df.groupBy('primary_description').count()\n",
    "    \n",
    "    return df.orderBy('count', ascending = False)\n",
    "   "
   ]
  },
  {
   "cell_type": "code",
   "execution_count": 17,
   "id": "c0271b2b-04b3-44b7-abf9-f11eeef1df19",
   "metadata": {},
   "outputs": [
    {
     "name": "stdout",
     "output_type": "stream",
     "text": [
      "+--------------------------------+-----+\n",
      "|primary_description             |count|\n",
      "+--------------------------------+-----+\n",
      "|BATTERY                         |234  |\n",
      "|THEFT                           |149  |\n",
      "|CRIMINAL DAMAGE                 |119  |\n",
      "|ASSAULT                         |109  |\n",
      "|OTHER OFFENSE                   |76   |\n",
      "|DECEPTIVE PRACTICE              |64   |\n",
      "|MOTOR VEHICLE THEFT             |64   |\n",
      "|WEAPONS VIOLATION               |61   |\n",
      "|ROBBERY                         |33   |\n",
      "|NARCOTICS                       |25   |\n",
      "|BURGLARY                        |17   |\n",
      "|CRIMINAL TRESPASS               |17   |\n",
      "|OFFENSE INVOLVING CHILDREN      |10   |\n",
      "|CRIMINAL SEXUAL ASSAULT         |7    |\n",
      "|ARSON                           |4    |\n",
      "|SEX OFFENSE                     |4    |\n",
      "|HOMICIDE                        |3    |\n",
      "|STALKING                        |2    |\n",
      "|LIQUOR LAW VIOLATION            |1    |\n",
      "|INTERFERENCE WITH PUBLIC OFFICER|1    |\n",
      "+--------------------------------+-----+\n",
      "\n"
     ]
    }
   ],
   "source": [
    "# SHOW THE CRIME TYPES AND ITS COUNT\n",
    "df_crime_types = get_crime_types(df_renamed)\n",
    "df_crime_types.show(truncate=False)"
   ]
  },
  {
   "cell_type": "markdown",
   "id": "3b103f86-75f8-477d-9be6-13c35bc4410b",
   "metadata": {},
   "source": [
    "Now that we have our type, we can visualize using our awesome library seaborn.\n",
    "\n",
    "However, this does require us to convert our spark dataframe to a pandas dataframe.\n",
    "\n",
    "Our function will do the following:\n",
    "- Convert from spart df to pandas df\n",
    "- create a bar plot\n",
    "- plot the graph"
   ]
  },
  {
   "cell_type": "code",
   "execution_count": 18,
   "id": "fea4cbe2-ab72-43c1-bc70-a68c8d2f164d",
   "metadata": {
    "tags": []
   },
   "outputs": [],
   "source": [
    "def visualize_crime_types(df):\n",
    "    \n",
    "    df = pd.DataFrame( # Return a new RDD by applying a function to each element of this RDD\n",
    "        df.rdd.map(lambda element: element.asDict()).collect()\n",
    "    )\n",
    "    \n",
    "    graph = sns.barplot(\n",
    "        x = 'count',\n",
    "        y = 'primary_description',\n",
    "        data = df,\n",
    "        palette = 'dark'\n",
    "    )\n",
    "    \n",
    "    graph.set(\n",
    "        ylabel = 'Primary Description',\n",
    "        xlabel = 'Count of Crimes Recorded'\n",
    "    )"
   ]
  },
  {
   "cell_type": "code",
   "execution_count": 19,
   "id": "843dab9a-dd3a-4d6d-a786-c7e293c83432",
   "metadata": {},
   "outputs": [
    {
     "data": {
      "image/png": "[encoded data removed]",
      "text/plain": [
       "<Figure size 432x288 with 1 Axes>"
      ]
     },
     "metadata": {
      "needs_background": "light"
     },
     "output_type": "display_data"
    }
   ],
   "source": [
    "visualize_crime_types(df_crime_types)"
   ]
  },
  {
   "cell_type": "markdown",
   "id": "0b57f9c2-bed9-45dc-8033-126b44144b81",
   "metadata": {},
   "source": [
    "**Look at our Dates**\n",
    "\n",
    "Now that we know our crime types stack up, let's look at the range of our data from the first recorded date to the latest."
   ]
  },
  {
   "cell_type": "code",
   "execution_count": 21,
   "id": "26fdbda9-1e9d-40e9-943b-5808e9481b66",
   "metadata": {},
   "outputs": [
    {
     "name": "stdout",
     "output_type": "stream",
     "text": [
      "+--------------------+--------------------+\n",
      "|       Earliest_date|         Latest_date|\n",
      "+--------------------+--------------------+\n",
      "|2021-03-26T05:10:...|2021-03-28T04:00:...|\n",
      "+--------------------+--------------------+\n",
      "\n"
     ]
    }
   ],
   "source": [
    "def get_date(df):\n",
    "    df = df.select(F.min('date').alias('Earliest_date'), F.max('date').alias('Latest_date'))\n",
    "    \n",
    "    return df\n",
    "\n",
    "df_dates = get_date(df_renamed)\n",
    "df_dates.show()"
   ]
  },
  {
   "cell_type": "markdown",
   "id": "9a851072-a194-498b-9ef9-be6268c0ced9",
   "metadata": {},
   "source": [
    "As we can see, the time is hard to read and hard to tell when the eartliest day is and when the latest date is that we have and are working with. \n",
    "\n",
    "Using UDF and datetime, we can fix this."
   ]
  },
  {
   "cell_type": "code",
   "execution_count": 48,
   "id": "66ba69ba-18ec-4138-b48b-48f6b025321b",
   "metadata": {},
   "outputs": [
    {
     "ename": "PythonException",
     "evalue": "\n  An exception was thrown from the Python worker. Please see the stack trace below.\nTraceback (most recent call last):\n  File \"/tmp/ipykernel_56/2535566380.py\", line 3, in <lambda>\n  File \"/opt/conda/lib/python3.9/_strptime.py\", line 568, in _strptime_datetime\n    tt, fraction, gmtoff_fraction = _strptime(data_string, format)\n  File \"/opt/conda/lib/python3.9/_strptime.py\", line 349, in _strptime\n    raise ValueError(\"time data %r does not match format %r\" %\nValueError: time data '2021-03-26T05:10:00.000' does not match format '%Y-%m-%dT%I:%M%S.%f %p'\n",
     "output_type": "error",
     "traceback": [
      "\u001b[0;31m---------------------------------------------------------------------------\u001b[0m",
      "\u001b[0;31mPythonException\u001b[0m                           Traceback (most recent call last)",
      "Input \u001b[0;32mIn [48]\u001b[0m, in \u001b[0;36m<module>\u001b[0;34m\u001b[0m\n\u001b[1;32m      3\u001b[0m convert_time \u001b[38;5;241m=\u001b[39m F\u001b[38;5;241m.\u001b[39mudf(\u001b[38;5;28;01mlambda\u001b[39;00m x: datetime\u001b[38;5;241m.\u001b[39mdatetime\u001b[38;5;241m.\u001b[39mstrptime(x, \u001b[38;5;124m'\u001b[39m\u001b[38;5;124m%\u001b[39m\u001b[38;5;124mY-\u001b[39m\u001b[38;5;124m%\u001b[39m\u001b[38;5;124mm-\u001b[39m\u001b[38;5;132;01m%d\u001b[39;00m\u001b[38;5;124mT\u001b[39m\u001b[38;5;124m%\u001b[39m\u001b[38;5;124mI:\u001b[39m\u001b[38;5;124m%\u001b[39m\u001b[38;5;124mM\u001b[39m\u001b[38;5;124m%\u001b[39m\u001b[38;5;124mS.\u001b[39m\u001b[38;5;132;01m%f\u001b[39;00m\u001b[38;5;124m \u001b[39m\u001b[38;5;124m%\u001b[39m\u001b[38;5;124mp\u001b[39m\u001b[38;5;124m'\u001b[39m), tp\u001b[38;5;241m.\u001b[39mTimestampType())\n\u001b[1;32m      5\u001b[0m df_dates \u001b[38;5;241m=\u001b[39m df_renamed\u001b[38;5;241m.\u001b[39mwithColumn(\u001b[38;5;124m'\u001b[39m\u001b[38;5;124mDate_time\u001b[39m\u001b[38;5;124m'\u001b[39m, convert_time(F\u001b[38;5;241m.\u001b[39mcol(\u001b[38;5;124m'\u001b[39m\u001b[38;5;124mdate\u001b[39m\u001b[38;5;124m'\u001b[39m)))\u001b[38;5;241m.\u001b[39mdrop(\u001b[38;5;124m'\u001b[39m\u001b[38;5;124mdate\u001b[39m\u001b[38;5;124m'\u001b[39m)\n\u001b[0;32m----> 6\u001b[0m \u001b[43mdf_dates\u001b[49m\u001b[38;5;241;43m.\u001b[39;49m\u001b[43mshow\u001b[49m\u001b[43m(\u001b[49m\u001b[43m)\u001b[49m\n",
      "File \u001b[0;32m/usr/local/spark/python/pyspark/sql/dataframe.py:494\u001b[0m, in \u001b[0;36mDataFrame.show\u001b[0;34m(self, n, truncate, vertical)\u001b[0m\n\u001b[1;32m    491\u001b[0m     \u001b[38;5;28;01mraise\u001b[39;00m \u001b[38;5;167;01mTypeError\u001b[39;00m(\u001b[38;5;124m\"\u001b[39m\u001b[38;5;124mParameter \u001b[39m\u001b[38;5;124m'\u001b[39m\u001b[38;5;124mvertical\u001b[39m\u001b[38;5;124m'\u001b[39m\u001b[38;5;124m must be a bool\u001b[39m\u001b[38;5;124m\"\u001b[39m)\n\u001b[1;32m    493\u001b[0m \u001b[38;5;28;01mif\u001b[39;00m \u001b[38;5;28misinstance\u001b[39m(truncate, \u001b[38;5;28mbool\u001b[39m) \u001b[38;5;129;01mand\u001b[39;00m truncate:\n\u001b[0;32m--> 494\u001b[0m     \u001b[38;5;28mprint\u001b[39m(\u001b[38;5;28;43mself\u001b[39;49m\u001b[38;5;241;43m.\u001b[39;49m\u001b[43m_jdf\u001b[49m\u001b[38;5;241;43m.\u001b[39;49m\u001b[43mshowString\u001b[49m\u001b[43m(\u001b[49m\u001b[43mn\u001b[49m\u001b[43m,\u001b[49m\u001b[43m \u001b[49m\u001b[38;5;241;43m20\u001b[39;49m\u001b[43m,\u001b[49m\u001b[43m \u001b[49m\u001b[43mvertical\u001b[49m\u001b[43m)\u001b[49m)\n\u001b[1;32m    495\u001b[0m \u001b[38;5;28;01melse\u001b[39;00m:\n\u001b[1;32m    496\u001b[0m     \u001b[38;5;28;01mtry\u001b[39;00m:\n",
      "File \u001b[0;32m/usr/local/spark/python/lib/py4j-0.10.9.3-src.zip/py4j/java_gateway.py:1321\u001b[0m, in \u001b[0;36mJavaMember.__call__\u001b[0;34m(self, *args)\u001b[0m\n\u001b[1;32m   1315\u001b[0m command \u001b[38;5;241m=\u001b[39m proto\u001b[38;5;241m.\u001b[39mCALL_COMMAND_NAME \u001b[38;5;241m+\u001b[39m\\\n\u001b[1;32m   1316\u001b[0m     \u001b[38;5;28mself\u001b[39m\u001b[38;5;241m.\u001b[39mcommand_header \u001b[38;5;241m+\u001b[39m\\\n\u001b[1;32m   1317\u001b[0m     args_command \u001b[38;5;241m+\u001b[39m\\\n\u001b[1;32m   1318\u001b[0m     proto\u001b[38;5;241m.\u001b[39mEND_COMMAND_PART\n\u001b[1;32m   1320\u001b[0m answer \u001b[38;5;241m=\u001b[39m \u001b[38;5;28mself\u001b[39m\u001b[38;5;241m.\u001b[39mgateway_client\u001b[38;5;241m.\u001b[39msend_command(command)\n\u001b[0;32m-> 1321\u001b[0m return_value \u001b[38;5;241m=\u001b[39m \u001b[43mget_return_value\u001b[49m\u001b[43m(\u001b[49m\n\u001b[1;32m   1322\u001b[0m \u001b[43m    \u001b[49m\u001b[43manswer\u001b[49m\u001b[43m,\u001b[49m\u001b[43m \u001b[49m\u001b[38;5;28;43mself\u001b[39;49m\u001b[38;5;241;43m.\u001b[39;49m\u001b[43mgateway_client\u001b[49m\u001b[43m,\u001b[49m\u001b[43m \u001b[49m\u001b[38;5;28;43mself\u001b[39;49m\u001b[38;5;241;43m.\u001b[39;49m\u001b[43mtarget_id\u001b[49m\u001b[43m,\u001b[49m\u001b[43m \u001b[49m\u001b[38;5;28;43mself\u001b[39;49m\u001b[38;5;241;43m.\u001b[39;49m\u001b[43mname\u001b[49m\u001b[43m)\u001b[49m\n\u001b[1;32m   1324\u001b[0m \u001b[38;5;28;01mfor\u001b[39;00m temp_arg \u001b[38;5;129;01min\u001b[39;00m temp_args:\n\u001b[1;32m   1325\u001b[0m     temp_arg\u001b[38;5;241m.\u001b[39m_detach()\n",
      "File \u001b[0;32m/usr/local/spark/python/pyspark/sql/utils.py:117\u001b[0m, in \u001b[0;36mcapture_sql_exception.<locals>.deco\u001b[0;34m(*a, **kw)\u001b[0m\n\u001b[1;32m    113\u001b[0m converted \u001b[38;5;241m=\u001b[39m convert_exception(e\u001b[38;5;241m.\u001b[39mjava_exception)\n\u001b[1;32m    114\u001b[0m \u001b[38;5;28;01mif\u001b[39;00m \u001b[38;5;129;01mnot\u001b[39;00m \u001b[38;5;28misinstance\u001b[39m(converted, UnknownException):\n\u001b[1;32m    115\u001b[0m     \u001b[38;5;66;03m# Hide where the exception came from that shows a non-Pythonic\u001b[39;00m\n\u001b[1;32m    116\u001b[0m     \u001b[38;5;66;03m# JVM exception message.\u001b[39;00m\n\u001b[0;32m--> 117\u001b[0m     \u001b[38;5;28;01mraise\u001b[39;00m converted \u001b[38;5;28;01mfrom\u001b[39;00m \u001b[38;5;28mNone\u001b[39m\n\u001b[1;32m    118\u001b[0m \u001b[38;5;28;01melse\u001b[39;00m:\n\u001b[1;32m    119\u001b[0m     \u001b[38;5;28;01mraise\u001b[39;00m\n",
      "\u001b[0;31mPythonException\u001b[0m: \n  An exception was thrown from the Python worker. Please see the stack trace below.\nTraceback (most recent call last):\n  File \"/tmp/ipykernel_56/2535566380.py\", line 3, in <lambda>\n  File \"/opt/conda/lib/python3.9/_strptime.py\", line 568, in _strptime_datetime\n    tt, fraction, gmtoff_fraction = _strptime(data_string, format)\n  File \"/opt/conda/lib/python3.9/_strptime.py\", line 349, in _strptime\n    raise ValueError(\"time data %r does not match format %r\" %\nValueError: time data '2021-03-26T05:10:00.000' does not match format '%Y-%m-%dT%I:%M%S.%f %p'\n"
     ]
    }
   ],
   "source": [
    "# myfunc =  F.udf(lambda x: datetime.strptime(x, '%m/%d/%Y %I:%M:%S %p'), tp.TimestampType())\n",
    "\n",
    "convert_time = F.udf(lambda x: datetime.datetime.strptime(x, '%Y-%m-%dT%I:%M%S.%f %p'), tp.TimestampType())\n",
    "\n",
    "df_dates = df_renamed.withColumn('Date_time', convert_time(F.col('date'))).drop('date')\n",
    "df_dates.show()"
   ]
  },
  {
   "cell_type": "code",
   "execution_count": 47,
   "id": "81e75f89-ebd6-4372-aca0-40682d729371",
   "metadata": {},
   "outputs": [
    {
     "ename": "TypeError",
     "evalue": "an integer is required (got type str)",
     "output_type": "error",
     "traceback": [
      "\u001b[0;31m---------------------------------------------------------------------------\u001b[0m",
      "\u001b[0;31mTypeError\u001b[0m                                 Traceback (most recent call last)",
      "Input \u001b[0;32mIn [47]\u001b[0m, in \u001b[0;36m<module>\u001b[0;34m\u001b[0m\n\u001b[0;32m----> 1\u001b[0m \u001b[43mdatetime\u001b[49m\u001b[38;5;241;43m.\u001b[39;49m\u001b[43mdatetime\u001b[49m\u001b[38;5;241;43m.\u001b[39;49m\u001b[43mfromtimestamp\u001b[49m\u001b[43m(\u001b[49m\u001b[38;5;124;43m'\u001b[39;49m\u001b[38;5;124;43m2021-03-26T05:10:00.000\u001b[39;49m\u001b[38;5;124;43m'\u001b[39;49m\u001b[43m)\u001b[49m\u001b[38;5;241m.\u001b[39mstrftime(\u001b[38;5;124m'\u001b[39m\u001b[38;5;124m%\u001b[39m\u001b[38;5;124mY-\u001b[39m\u001b[38;5;124m%\u001b[39m\u001b[38;5;124mm-\u001b[39m\u001b[38;5;132;01m%d\u001b[39;00m\u001b[38;5;124m'\u001b[39m)\n",
      "\u001b[0;31mTypeError\u001b[0m: an integer is required (got type str)"
     ]
    }
   ],
   "source": [
    "datetime.datetime.fromtimestamp('2021-03-26T05:10:00.000').strftime('%Y-%m-%d') #to convert to a formated string"
   ]
  },
  {
   "cell_type": "code",
   "execution_count": 55,
   "id": "960958f6-8f4b-455c-9a0d-4da504629eff",
   "metadata": {},
   "outputs": [],
   "source": [
    "sc.stop()"
   ]
  },
  {
   "cell_type": "code",
   "execution_count": 52,
   "id": "a1d37b8e-c390-486d-a78a-0e1cca24fc3c",
   "metadata": {},
   "outputs": [
    {
     "ename": "AnalysisException",
     "evalue": "cannot resolve '`2021-03-26T05:10:00`.`000`' given input columns: [arrest, beat, block, case, date, domestic, fbi_cd, iucr, latitude, location, location_description, longitude, primary_description, secondary_description, ward, x_coordinate, y_coordinate];\n'Project [iucr#162, location_description#180, primary_description#198, secondary_description#216, arrest#16, beat#17, block#18, case#234, to_date('2021-03-26T05:10:00.000, None) AS date#2156, domestic#21, fbi_cd#22, latitude#23, location#24, longitude#25, ward#26, x_coordinate#27, y_coordinate#28]\n+- Project [iucr#162, location_description#180, primary_description#198, secondary_description#216, arrest#16, beat#17, block#18, case#234, date_of_occurrence#20 AS date#252, domestic#21, fbi_cd#22, latitude#23, location#24, longitude#25, ward#26, x_coordinate#27, y_coordinate#28]\n   +- Project [iucr#162, location_description#180, primary_description#198, secondary_description#216, arrest#16, beat#17, block#18, case_#19 AS case#234, date_of_occurrence#20, domestic#21, fbi_cd#22, latitude#23, location#24, longitude#25, ward#26, x_coordinate#27, y_coordinate#28]\n      +- Project [iucr#162, location_description#180, primary_description#198, _secondary_description#15 AS secondary_description#216, arrest#16, beat#17, block#18, case_#19, date_of_occurrence#20, domestic#21, fbi_cd#22, latitude#23, location#24, longitude#25, ward#26, x_coordinate#27, y_coordinate#28]\n         +- Project [iucr#162, location_description#180, _primary_decsription#14 AS primary_description#198, _secondary_description#15, arrest#16, beat#17, block#18, case_#19, date_of_occurrence#20, domestic#21, fbi_cd#22, latitude#23, location#24, longitude#25, ward#26, x_coordinate#27, y_coordinate#28]\n            +- Project [iucr#162, _location_description#13 AS location_description#180, _primary_decsription#14, _secondary_description#15, arrest#16, beat#17, block#18, case_#19, date_of_occurrence#20, domestic#21, fbi_cd#22, latitude#23, location#24, longitude#25, ward#26, x_coordinate#27, y_coordinate#28]\n               +- Project [_iucr#12 AS iucr#162, _location_description#13, _primary_decsription#14, _secondary_description#15, arrest#16, beat#17, block#18, case_#19, date_of_occurrence#20, domestic#21, fbi_cd#22, latitude#23, location#24, longitude#25, ward#26, x_coordinate#27, y_coordinate#28]\n                  +- Project [_iucr#12, _location_description#13, _primary_decsription#14, _secondary_description#15, arrest#16, beat#17, block#18, case_#19, date_of_occurrence#20, domestic#21, fbi_cd#22, latitude#23, location#24, longitude#25, ward#26, x_coordinate#27, y_coordinate#28]\n                     +- LogicalRDD [:@computed_region_43wa_7qmu#6, :@computed_region_6mkv_f3dw#7, :@computed_region_awaf_s7ux#8, :@computed_region_bdys_3d7i#9, :@computed_region_rpca_8um6#10, :@computed_region_vrxf_vc4k#11, _iucr#12, _location_description#13, _primary_decsription#14, _secondary_description#15, arrest#16, beat#17, block#18, case_#19, date_of_occurrence#20, domestic#21, fbi_cd#22, latitude#23, location#24, longitude#25, ward#26, x_coordinate#27, y_coordinate#28], false\n",
     "output_type": "error",
     "traceback": [
      "\u001b[0;31m---------------------------------------------------------------------------\u001b[0m",
      "\u001b[0;31mAnalysisException\u001b[0m                         Traceback (most recent call last)",
      "Input \u001b[0;32mIn [52]\u001b[0m, in \u001b[0;36m<module>\u001b[0;34m\u001b[0m\n\u001b[0;32m----> 1\u001b[0m \u001b[43mdf_renamed\u001b[49m\u001b[38;5;241;43m.\u001b[39;49m\u001b[43mwithColumn\u001b[49m\u001b[43m(\u001b[49m\u001b[38;5;124;43m\"\u001b[39;49m\u001b[38;5;124;43mdate\u001b[39;49m\u001b[38;5;124;43m\"\u001b[39;49m\u001b[43m,\u001b[49m\u001b[43m \u001b[49m\u001b[43mF\u001b[49m\u001b[38;5;241;43m.\u001b[39;49m\u001b[43mto_date\u001b[49m\u001b[43m(\u001b[49m\u001b[38;5;124;43m\"\u001b[39;49m\u001b[38;5;124;43m2021-03-26T05:10:00.000\u001b[39;49m\u001b[38;5;124;43m\"\u001b[39;49m\u001b[43m)\u001b[49m\u001b[43m)\u001b[49m\u001b[38;5;241m.\u001b[39mshow(truncate\u001b[38;5;241m=\u001b[39m\u001b[38;5;28;01mFalse\u001b[39;00m)\n",
      "File \u001b[0;32m/usr/local/spark/python/pyspark/sql/dataframe.py:2478\u001b[0m, in \u001b[0;36mDataFrame.withColumn\u001b[0;34m(self, colName, col)\u001b[0m\n\u001b[1;32m   2476\u001b[0m \u001b[38;5;28;01mif\u001b[39;00m \u001b[38;5;129;01mnot\u001b[39;00m \u001b[38;5;28misinstance\u001b[39m(col, Column):\n\u001b[1;32m   2477\u001b[0m     \u001b[38;5;28;01mraise\u001b[39;00m \u001b[38;5;167;01mTypeError\u001b[39;00m(\u001b[38;5;124m\"\u001b[39m\u001b[38;5;124mcol should be Column\u001b[39m\u001b[38;5;124m\"\u001b[39m)\n\u001b[0;32m-> 2478\u001b[0m \u001b[38;5;28;01mreturn\u001b[39;00m DataFrame(\u001b[38;5;28;43mself\u001b[39;49m\u001b[38;5;241;43m.\u001b[39;49m\u001b[43m_jdf\u001b[49m\u001b[38;5;241;43m.\u001b[39;49m\u001b[43mwithColumn\u001b[49m\u001b[43m(\u001b[49m\u001b[43mcolName\u001b[49m\u001b[43m,\u001b[49m\u001b[43m \u001b[49m\u001b[43mcol\u001b[49m\u001b[38;5;241;43m.\u001b[39;49m\u001b[43m_jc\u001b[49m\u001b[43m)\u001b[49m, \u001b[38;5;28mself\u001b[39m\u001b[38;5;241m.\u001b[39msql_ctx)\n",
      "File \u001b[0;32m/usr/local/spark/python/lib/py4j-0.10.9.3-src.zip/py4j/java_gateway.py:1321\u001b[0m, in \u001b[0;36mJavaMember.__call__\u001b[0;34m(self, *args)\u001b[0m\n\u001b[1;32m   1315\u001b[0m command \u001b[38;5;241m=\u001b[39m proto\u001b[38;5;241m.\u001b[39mCALL_COMMAND_NAME \u001b[38;5;241m+\u001b[39m\\\n\u001b[1;32m   1316\u001b[0m     \u001b[38;5;28mself\u001b[39m\u001b[38;5;241m.\u001b[39mcommand_header \u001b[38;5;241m+\u001b[39m\\\n\u001b[1;32m   1317\u001b[0m     args_command \u001b[38;5;241m+\u001b[39m\\\n\u001b[1;32m   1318\u001b[0m     proto\u001b[38;5;241m.\u001b[39mEND_COMMAND_PART\n\u001b[1;32m   1320\u001b[0m answer \u001b[38;5;241m=\u001b[39m \u001b[38;5;28mself\u001b[39m\u001b[38;5;241m.\u001b[39mgateway_client\u001b[38;5;241m.\u001b[39msend_command(command)\n\u001b[0;32m-> 1321\u001b[0m return_value \u001b[38;5;241m=\u001b[39m \u001b[43mget_return_value\u001b[49m\u001b[43m(\u001b[49m\n\u001b[1;32m   1322\u001b[0m \u001b[43m    \u001b[49m\u001b[43manswer\u001b[49m\u001b[43m,\u001b[49m\u001b[43m \u001b[49m\u001b[38;5;28;43mself\u001b[39;49m\u001b[38;5;241;43m.\u001b[39;49m\u001b[43mgateway_client\u001b[49m\u001b[43m,\u001b[49m\u001b[43m \u001b[49m\u001b[38;5;28;43mself\u001b[39;49m\u001b[38;5;241;43m.\u001b[39;49m\u001b[43mtarget_id\u001b[49m\u001b[43m,\u001b[49m\u001b[43m \u001b[49m\u001b[38;5;28;43mself\u001b[39;49m\u001b[38;5;241;43m.\u001b[39;49m\u001b[43mname\u001b[49m\u001b[43m)\u001b[49m\n\u001b[1;32m   1324\u001b[0m \u001b[38;5;28;01mfor\u001b[39;00m temp_arg \u001b[38;5;129;01min\u001b[39;00m temp_args:\n\u001b[1;32m   1325\u001b[0m     temp_arg\u001b[38;5;241m.\u001b[39m_detach()\n",
      "File \u001b[0;32m/usr/local/spark/python/pyspark/sql/utils.py:117\u001b[0m, in \u001b[0;36mcapture_sql_exception.<locals>.deco\u001b[0;34m(*a, **kw)\u001b[0m\n\u001b[1;32m    113\u001b[0m converted \u001b[38;5;241m=\u001b[39m convert_exception(e\u001b[38;5;241m.\u001b[39mjava_exception)\n\u001b[1;32m    114\u001b[0m \u001b[38;5;28;01mif\u001b[39;00m \u001b[38;5;129;01mnot\u001b[39;00m \u001b[38;5;28misinstance\u001b[39m(converted, UnknownException):\n\u001b[1;32m    115\u001b[0m     \u001b[38;5;66;03m# Hide where the exception came from that shows a non-Pythonic\u001b[39;00m\n\u001b[1;32m    116\u001b[0m     \u001b[38;5;66;03m# JVM exception message.\u001b[39;00m\n\u001b[0;32m--> 117\u001b[0m     \u001b[38;5;28;01mraise\u001b[39;00m converted \u001b[38;5;28;01mfrom\u001b[39;00m \u001b[38;5;28mNone\u001b[39m\n\u001b[1;32m    118\u001b[0m \u001b[38;5;28;01melse\u001b[39;00m:\n\u001b[1;32m    119\u001b[0m     \u001b[38;5;28;01mraise\u001b[39;00m\n",
      "\u001b[0;31mAnalysisException\u001b[0m: cannot resolve '`2021-03-26T05:10:00`.`000`' given input columns: [arrest, beat, block, case, date, domestic, fbi_cd, iucr, latitude, location, location_description, longitude, primary_description, secondary_description, ward, x_coordinate, y_coordinate];\n'Project [iucr#162, location_description#180, primary_description#198, secondary_description#216, arrest#16, beat#17, block#18, case#234, to_date('2021-03-26T05:10:00.000, None) AS date#2156, domestic#21, fbi_cd#22, latitude#23, location#24, longitude#25, ward#26, x_coordinate#27, y_coordinate#28]\n+- Project [iucr#162, location_description#180, primary_description#198, secondary_description#216, arrest#16, beat#17, block#18, case#234, date_of_occurrence#20 AS date#252, domestic#21, fbi_cd#22, latitude#23, location#24, longitude#25, ward#26, x_coordinate#27, y_coordinate#28]\n   +- Project [iucr#162, location_description#180, primary_description#198, secondary_description#216, arrest#16, beat#17, block#18, case_#19 AS case#234, date_of_occurrence#20, domestic#21, fbi_cd#22, latitude#23, location#24, longitude#25, ward#26, x_coordinate#27, y_coordinate#28]\n      +- Project [iucr#162, location_description#180, primary_description#198, _secondary_description#15 AS secondary_description#216, arrest#16, beat#17, block#18, case_#19, date_of_occurrence#20, domestic#21, fbi_cd#22, latitude#23, location#24, longitude#25, ward#26, x_coordinate#27, y_coordinate#28]\n         +- Project [iucr#162, location_description#180, _primary_decsription#14 AS primary_description#198, _secondary_description#15, arrest#16, beat#17, block#18, case_#19, date_of_occurrence#20, domestic#21, fbi_cd#22, latitude#23, location#24, longitude#25, ward#26, x_coordinate#27, y_coordinate#28]\n            +- Project [iucr#162, _location_description#13 AS location_description#180, _primary_decsription#14, _secondary_description#15, arrest#16, beat#17, block#18, case_#19, date_of_occurrence#20, domestic#21, fbi_cd#22, latitude#23, location#24, longitude#25, ward#26, x_coordinate#27, y_coordinate#28]\n               +- Project [_iucr#12 AS iucr#162, _location_description#13, _primary_decsription#14, _secondary_description#15, arrest#16, beat#17, block#18, case_#19, date_of_occurrence#20, domestic#21, fbi_cd#22, latitude#23, location#24, longitude#25, ward#26, x_coordinate#27, y_coordinate#28]\n                  +- Project [_iucr#12, _location_description#13, _primary_decsription#14, _secondary_description#15, arrest#16, beat#17, block#18, case_#19, date_of_occurrence#20, domestic#21, fbi_cd#22, latitude#23, location#24, longitude#25, ward#26, x_coordinate#27, y_coordinate#28]\n                     +- LogicalRDD [:@computed_region_43wa_7qmu#6, :@computed_region_6mkv_f3dw#7, :@computed_region_awaf_s7ux#8, :@computed_region_bdys_3d7i#9, :@computed_region_rpca_8um6#10, :@computed_region_vrxf_vc4k#11, _iucr#12, _location_description#13, _primary_decsription#14, _secondary_description#15, arrest#16, beat#17, block#18, case_#19, date_of_occurrence#20, domestic#21, fbi_cd#22, latitude#23, location#24, longitude#25, ward#26, x_coordinate#27, y_coordinate#28], false\n"
     ]
    }
   ],
   "source": [
    "df_renamed.withColumn(\"date\", F.to_date(\"2021-03-26T05:10:00.000\")).show(truncate=False)"
   ]
  },
  {
   "cell_type": "code",
   "execution_count": null,
   "id": "542b1790-2e84-4f27-a257-413d5d530110",
   "metadata": {},
   "outputs": [],
   "source": []
  }
 ],
 "metadata": {
  "kernelspec": {
   "display_name": "Python 3 (ipykernel)",
   "language": "python",
   "name": "python3"
  },
  "language_info": {
   "codemirror_mode": {
    "name": "ipython",
    "version": 3
   },
   "file_extension": ".py",
   "mimetype": "text/x-python",
   "name": "python",
   "nbconvert_exporter": "python",
   "pygments_lexer": "ipython3",
   "version": "3.9.10"
  }
 },
 "nbformat": 4,
 "nbformat_minor": 5
}
